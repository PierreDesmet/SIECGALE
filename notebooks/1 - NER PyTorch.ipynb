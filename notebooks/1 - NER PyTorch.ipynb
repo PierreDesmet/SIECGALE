{
 "cells": [
  {
   "cell_type": "markdown",
   "id": "4d8b32e5",
   "metadata": {},
   "source": [
    "# 1 - NER PyTorch\n",
    "\n",
    "\n",
    "**Sources** :\n",
    "- Source de données Kaggle : https://www.kaggle.com/datasets/abhinavwalia95/entity-annotated-corpus\n",
    "- Tuto Abishek : https://www.youtube.com/watch?v=MqQ7rqRllIc\n",
    "\n",
    "**TODO**\n",
    "- [ ] VF que le code <a href=\"https://www.kaggle.com/code/abhishek/entity-extraction-model-using-bert-pytorch\">ici</a> est le bon"
   ]
  },
  {
   "cell_type": "code",
   "execution_count": 1,
   "id": "2f9c8091",
   "metadata": {
    "ExecuteTime": {
     "end_time": "2022-05-29T06:51:07.095270Z",
     "start_time": "2022-05-29T06:51:05.288333Z"
    }
   },
   "outputs": [],
   "source": [
    "%load_ext autoreload\n",
    "%autoreload 2\n",
    "\n",
    "import os\n",
    "os.chdir('..')\n",
    "\n",
    "import joblib\n",
    "import torch\n",
    "from sklearn.model_selection import train_test_split\n",
    "from torch.utils.data import DataLoader\n",
    "from transformers import get_linear_schedule_with_warmup\n",
    "\n",
    "from ner_pytorch.config.params import PARAMS\n",
    "from ner_pytorch.dataset import EntityDataset\n",
    "from ner_pytorch.engine import train_fn, eval_fn\n",
    "from ner_pytorch.model import EntityModel\n",
    "from ner_pytorch.utils import *\n",
    "from ner_pytorch.preprocessing import process_data"
   ]
  },
  {
   "cell_type": "markdown",
   "id": "065e9e32",
   "metadata": {
    "heading_collapsed": true
   },
   "source": [
    "## Chargement des données"
   ]
  },
  {
   "cell_type": "code",
   "execution_count": 2,
   "id": "c20caf3e",
   "metadata": {
    "ExecuteTime": {
     "end_time": "2022-05-29T06:51:10.095974Z",
     "start_time": "2022-05-29T06:51:09.451607Z"
    },
    "hidden": true
   },
   "outputs": [
    {
     "data": {
      "text/html": [
       "<div>\n",
       "<style scoped>\n",
       "    .dataframe tbody tr th:only-of-type {\n",
       "        vertical-align: middle;\n",
       "    }\n",
       "\n",
       "    .dataframe tbody tr th {\n",
       "        vertical-align: top;\n",
       "    }\n",
       "\n",
       "    .dataframe thead th {\n",
       "        text-align: right;\n",
       "    }\n",
       "</style>\n",
       "<table border=\"1\" class=\"dataframe\">\n",
       "  <thead>\n",
       "    <tr style=\"text-align: right;\">\n",
       "      <th></th>\n",
       "      <th>Sentence #</th>\n",
       "      <th>Word</th>\n",
       "      <th>Tag</th>\n",
       "    </tr>\n",
       "  </thead>\n",
       "  <tbody>\n",
       "    <tr>\n",
       "      <th>0</th>\n",
       "      <td>Sentence: 1</td>\n",
       "      <td>Thousands</td>\n",
       "      <td>O</td>\n",
       "    </tr>\n",
       "    <tr>\n",
       "      <th>1</th>\n",
       "      <td>Sentence: 1</td>\n",
       "      <td>of</td>\n",
       "      <td>O</td>\n",
       "    </tr>\n",
       "    <tr>\n",
       "      <th>2</th>\n",
       "      <td>Sentence: 1</td>\n",
       "      <td>demonstrators</td>\n",
       "      <td>O</td>\n",
       "    </tr>\n",
       "    <tr>\n",
       "      <th>3</th>\n",
       "      <td>Sentence: 1</td>\n",
       "      <td>have</td>\n",
       "      <td>O</td>\n",
       "    </tr>\n",
       "    <tr>\n",
       "      <th>4</th>\n",
       "      <td>Sentence: 1</td>\n",
       "      <td>marched</td>\n",
       "      <td>O</td>\n",
       "    </tr>\n",
       "    <tr>\n",
       "      <th>5</th>\n",
       "      <td>Sentence: 1</td>\n",
       "      <td>through</td>\n",
       "      <td>O</td>\n",
       "    </tr>\n",
       "    <tr>\n",
       "      <th>6</th>\n",
       "      <td>Sentence: 1</td>\n",
       "      <td>London</td>\n",
       "      <td>B-geo</td>\n",
       "    </tr>\n",
       "  </tbody>\n",
       "</table>\n",
       "</div>"
      ],
      "text/plain": [
       "    Sentence #           Word    Tag\n",
       "0  Sentence: 1      Thousands      O\n",
       "1  Sentence: 1             of      O\n",
       "2  Sentence: 1  demonstrators      O\n",
       "3  Sentence: 1           have      O\n",
       "4  Sentence: 1        marched      O\n",
       "5  Sentence: 1        through      O\n",
       "6  Sentence: 1         London  B-geo"
      ]
     },
     "execution_count": 2,
     "metadata": {},
     "output_type": "execute_result"
    }
   ],
   "source": [
    "data = pd.read_csv(PARAMS.PATHS.TRAIN, encoding='latin-1').drop('POS', axis=1)\n",
    "data[\"Sentence #\"] = data[\"Sentence #\"].fillna(method='ffill')\n",
    "data.head(7)"
   ]
  },
  {
   "cell_type": "markdown",
   "id": "4bd3d43c",
   "metadata": {
    "hidden": true
   },
   "source": [
    "En réalité, nous ne nous intéressons qu'à la prédiction des ORG, pour lesquelles 3 labels sont possibles :\n",
    "- B-org\n",
    "- I-org\n",
    "- O"
   ]
  },
  {
   "cell_type": "code",
   "execution_count": 3,
   "id": "7d07d45e",
   "metadata": {
    "ExecuteTime": {
     "end_time": "2022-05-29T06:51:12.317185Z",
     "start_time": "2022-05-29T06:51:12.153252Z"
    },
    "hidden": true
   },
   "outputs": [
    {
     "data": {
      "text/plain": [
       "O        1011648\n",
       "B-org      20143\n",
       "I-org      16784\n",
       "Name: Tag, dtype: int64"
      ]
     },
     "execution_count": 3,
     "metadata": {},
     "output_type": "execute_result"
    }
   ],
   "source": [
    "data['Tag'] = data.Tag.mask(~data.Tag.isin(['B-org', 'I-org', 'O']), 'O')\n",
    "data.Tag.value_counts()"
   ]
  },
  {
   "cell_type": "code",
   "execution_count": 4,
   "id": "5679493c",
   "metadata": {
    "ExecuteTime": {
     "end_time": "2022-05-29T06:51:14.013320Z",
     "start_time": "2022-05-29T06:51:13.899079Z"
    },
    "hidden": true
   },
   "outputs": [
    {
     "name": "stdout",
     "output_type": "stream",
     "text": [
      "Tag 3 categories : ['O' 'B-org' 'I-org']\n",
      "\n"
     ]
    },
    {
     "data": {
      "text/plain": [
       "(1048575, 3)"
      ]
     },
     "execution_count": 4,
     "metadata": {},
     "output_type": "execute_result"
    },
    {
     "data": {
      "text/html": [
       "<div>\n",
       "<style scoped>\n",
       "    .dataframe tbody tr th:only-of-type {\n",
       "        vertical-align: middle;\n",
       "    }\n",
       "\n",
       "    .dataframe tbody tr th {\n",
       "        vertical-align: top;\n",
       "    }\n",
       "\n",
       "    .dataframe thead th {\n",
       "        text-align: right;\n",
       "    }\n",
       "</style>\n",
       "<table border=\"1\" class=\"dataframe\">\n",
       "  <thead>\n",
       "    <tr style=\"text-align: right;\">\n",
       "      <th></th>\n",
       "      <th>Sentence #</th>\n",
       "      <th>Word</th>\n",
       "      <th>Tag</th>\n",
       "    </tr>\n",
       "  </thead>\n",
       "  <tbody>\n",
       "    <tr>\n",
       "      <th>153</th>\n",
       "      <td>Sentence: 8</td>\n",
       "      <td>The</td>\n",
       "      <td>O</td>\n",
       "    </tr>\n",
       "    <tr>\n",
       "      <th>154</th>\n",
       "      <td>Sentence: 8</td>\n",
       "      <td>International</td>\n",
       "      <td>B-org</td>\n",
       "    </tr>\n",
       "    <tr>\n",
       "      <th>155</th>\n",
       "      <td>Sentence: 8</td>\n",
       "      <td>Atomic</td>\n",
       "      <td>I-org</td>\n",
       "    </tr>\n",
       "    <tr>\n",
       "      <th>156</th>\n",
       "      <td>Sentence: 8</td>\n",
       "      <td>Energy</td>\n",
       "      <td>I-org</td>\n",
       "    </tr>\n",
       "    <tr>\n",
       "      <th>157</th>\n",
       "      <td>Sentence: 8</td>\n",
       "      <td>Agency</td>\n",
       "      <td>I-org</td>\n",
       "    </tr>\n",
       "    <tr>\n",
       "      <th>158</th>\n",
       "      <td>Sentence: 8</td>\n",
       "      <td>is</td>\n",
       "      <td>O</td>\n",
       "    </tr>\n",
       "    <tr>\n",
       "      <th>159</th>\n",
       "      <td>Sentence: 8</td>\n",
       "      <td>to</td>\n",
       "      <td>O</td>\n",
       "    </tr>\n",
       "  </tbody>\n",
       "</table>\n",
       "</div>"
      ],
      "text/plain": [
       "      Sentence #           Word    Tag\n",
       "153  Sentence: 8            The      O\n",
       "154  Sentence: 8  International  B-org\n",
       "155  Sentence: 8         Atomic  I-org\n",
       "156  Sentence: 8         Energy  I-org\n",
       "157  Sentence: 8         Agency  I-org\n",
       "158  Sentence: 8             is      O\n",
       "159  Sentence: 8             to      O"
      ]
     },
     "execution_count": 4,
     "metadata": {},
     "output_type": "execute_result"
    }
   ],
   "source": [
    "num_tag = data.Tag.nunique()\n",
    "print(f'Tag {num_tag} categories :', data.Tag.unique(), end='\\n\\n')\n",
    "\n",
    "data.shape\n",
    "data[153:160]"
   ]
  },
  {
   "cell_type": "code",
   "execution_count": 5,
   "id": "b7343b39",
   "metadata": {
    "ExecuteTime": {
     "end_time": "2022-05-29T06:51:22.524597Z",
     "start_time": "2022-05-29T06:51:18.970302Z"
    },
    "hidden": true
   },
   "outputs": [
    {
     "data": {
      "text/plain": [
       "['data/outputs/label_enc_NER.joblib']"
      ]
     },
     "execution_count": 5,
     "metadata": {},
     "output_type": "execute_result"
    }
   ],
   "source": [
    "sentences, tag, label_enc_NER = process_data(data)\n",
    "joblib.dump(label_enc_NER, 'data/outputs/label_enc_NER.joblib')"
   ]
  },
  {
   "cell_type": "code",
   "execution_count": 10,
   "id": "13737919",
   "metadata": {
    "ExecuteTime": {
     "end_time": "2022-05-29T06:52:00.092845Z",
     "start_time": "2022-05-29T06:52:00.069666Z"
    },
    "hidden": true
   },
   "outputs": [
    {
     "name": "stdout",
     "output_type": "stream",
     "text": [
      "['In', 'Beirut', ',', 'a', 'string', 'of', 'officials', 'voiced', 'their', 'anger', ',', 'while', 'at', 'the', 'United', 'Nations', 'summit', 'in', 'New', 'York', ',', 'Prime', 'Minister', 'Fouad', 'Siniora', 'said', 'the', 'Lebanese', 'people', 'are', 'resolute', 'in', 'preventing', 'such', 'attempts', 'from', 'destroying', 'their', 'spirit', '.']\n",
      "[3, 3, 3, 3, 3, 3, 3, 3, 3, 3, 3, 3, 3, 3, 1, 2, 3, 3, 3, 3, 3, 3, 3, 3, 3, 3, 3, 3, 3, 3, 3, 3, 3, 3, 3, 3, 3, 3, 3, 3]\n",
      "['B-org' 'I-org' 'O']\n"
     ]
    }
   ],
   "source": [
    "# Démo : \n",
    "i = 10\n",
    "print(sentences[i], end='\\n')\n",
    "print(tag[i], end='\\n')\n",
    "print(label_enc_NER.classes_, end='\\n')"
   ]
  },
  {
   "cell_type": "markdown",
   "id": "e7095573",
   "metadata": {
    "heading_collapsed": true
   },
   "source": [
    "## Split du jeu de données\n",
    "On split notre jeu de données de la façon suivante :\n",
    "- `test` = 20%\n",
    "- `train` = [`minitrain`, `valid`] = 80%\n",
    "- `minitrain` = 60%\n",
    "- `valid` = 20%"
   ]
  },
  {
   "cell_type": "code",
   "execution_count": 13,
   "id": "435a773e",
   "metadata": {
    "ExecuteTime": {
     "end_time": "2022-05-29T06:53:18.838147Z",
     "start_time": "2022-05-29T06:53:18.804393Z"
    },
    "hidden": true
   },
   "outputs": [
    {
     "data": {
      "text/plain": [
       "(28777, 9591, 9591)"
      ]
     },
     "execution_count": 13,
     "metadata": {},
     "output_type": "execute_result"
    }
   ],
   "source": [
    "len_test = int(PARAMS.SAMPLE_SIZES.TEST * len(sentences))\n",
    "len_valid = int(PARAMS.SAMPLE_SIZES.VALID * len(sentences))\n",
    "\n",
    "(\n",
    "    sentences_train, sentences_test,\n",
    "    tag_train, tag_test\n",
    ") = train_test_split(sentences, tag, random_state=PARAMS.SEED, \n",
    "                     test_size=len_test)\n",
    "\n",
    "(\n",
    "    sentences_minitrain, sentences_valid,\n",
    "    tag_minitrain, tag_valid\n",
    ") = train_test_split(sentences_train, tag_train, \n",
    "                     random_state=PARAMS.SEED, test_size=len_valid)\n",
    "\n",
    "len(sentences_minitrain), len(sentences_valid), len(sentences_test)"
   ]
  },
  {
   "cell_type": "code",
   "execution_count": 14,
   "id": "eef6b2c6",
   "metadata": {
    "ExecuteTime": {
     "end_time": "2022-05-29T06:53:19.500933Z",
     "start_time": "2022-05-29T06:53:19.477266Z"
    },
    "hidden": true
   },
   "outputs": [],
   "source": [
    "minitrain_dataset = EntityDataset(\n",
    "    texts=sentences_minitrain, tags=tag_minitrain\n",
    ")\n",
    "minitrain_data_loader = DataLoader(\n",
    "    minitrain_dataset, batch_size=PARAMS.MODEL.TRAIN_BATCH_SIZE, num_workers=8 \n",
    ")\n",
    "\n",
    "valid_dataset = EntityDataset(\n",
    "    texts=sentences_valid, tags=tag_valid\n",
    ")\n",
    "valid_data_loader = DataLoader(\n",
    "    valid_dataset, batch_size=PARAMS.MODEL.VALID_BATCH_SIZE, num_workers=8\n",
    ")\n",
    "\n",
    "test_dataset = EntityDataset(\n",
    "    texts=sentences_test, tags=tag_test\n",
    ")\n",
    "test_data_loader = DataLoader(\n",
    "    test_dataset, batch_size=PARAMS.MODEL.VALID_BATCH_SIZE, num_workers=8\n",
    ")"
   ]
  },
  {
   "cell_type": "code",
   "execution_count": 15,
   "id": "8bb6cdc6",
   "metadata": {
    "ExecuteTime": {
     "end_time": "2022-05-29T06:53:42.910793Z",
     "start_time": "2022-05-29T06:53:42.883323Z"
    },
    "hidden": true
   },
   "outputs": [
    {
     "name": "stdout",
     "output_type": "stream",
     "text": [
      "['The', 'Defense', 'Department', 'is', 'investigating', 'the', 'accusations', '.']\n",
      "ids: tensor([  101,  1996,  3639,  2533,  2003, 11538,  1996, 13519,  1012,   102,\n",
      "            0,     0,     0,     0,     0,     0,     0,     0,     0,     0,\n",
      "            0,     0,     0,     0,     0,     0,     0,     0,     0,     0,\n",
      "            0,     0,     0,     0,     0,     0,     0,     0,     0,     0,\n",
      "            0,     0,     0,     0,     0,     0,     0,     0,     0,     0,\n",
      "            0,     0,     0,     0,     0,     0,     0,     0,     0,     0,\n",
      "            0,     0,     0,     0,     0,     0,     0,     0,     0,     0,\n",
      "            0,     0,     0,     0,     0,     0,     0,     0,     0,     0,\n",
      "            0,     0,     0,     0,     0,     0,     0,     0,     0,     0,\n",
      "            0,     0,     0,     0,     0,     0,     0,     0,     0,     0,\n",
      "            0,     0,     0,     0,     0,     0,     0,     0,     0,     0,\n",
      "            0,     0,     0,     0,     0,     0,     0,     0,     0,     0,\n",
      "            0,     0,     0,     0,     0,     0,     0,     0])\n",
      "mask: tensor([1, 1, 1, 1, 1, 1, 1, 1, 1, 1, 0, 0, 0, 0, 0, 0, 0, 0, 0, 0, 0, 0, 0, 0,\n",
      "        0, 0, 0, 0, 0, 0, 0, 0, 0, 0, 0, 0, 0, 0, 0, 0, 0, 0, 0, 0, 0, 0, 0, 0,\n",
      "        0, 0, 0, 0, 0, 0, 0, 0, 0, 0, 0, 0, 0, 0, 0, 0, 0, 0, 0, 0, 0, 0, 0, 0,\n",
      "        0, 0, 0, 0, 0, 0, 0, 0, 0, 0, 0, 0, 0, 0, 0, 0, 0, 0, 0, 0, 0, 0, 0, 0,\n",
      "        0, 0, 0, 0, 0, 0, 0, 0, 0, 0, 0, 0, 0, 0, 0, 0, 0, 0, 0, 0, 0, 0, 0, 0,\n",
      "        0, 0, 0, 0, 0, 0, 0, 0])\n",
      "token_type_ids: tensor([0, 0, 0, 0, 0, 0, 0, 0, 0, 0, 0, 0, 0, 0, 0, 0, 0, 0, 0, 0, 0, 0, 0, 0,\n",
      "        0, 0, 0, 0, 0, 0, 0, 0, 0, 0, 0, 0, 0, 0, 0, 0, 0, 0, 0, 0, 0, 0, 0, 0,\n",
      "        0, 0, 0, 0, 0, 0, 0, 0, 0, 0, 0, 0, 0, 0, 0, 0, 0, 0, 0, 0, 0, 0, 0, 0,\n",
      "        0, 0, 0, 0, 0, 0, 0, 0, 0, 0, 0, 0, 0, 0, 0, 0, 0, 0, 0, 0, 0, 0, 0, 0,\n",
      "        0, 0, 0, 0, 0, 0, 0, 0, 0, 0, 0, 0, 0, 0, 0, 0, 0, 0, 0, 0, 0, 0, 0, 0,\n",
      "        0, 0, 0, 0, 0, 0, 0, 0])\n",
      "target_tag: tensor([0, 3, 1, 2, 3, 3, 3, 3, 3, 0, 0, 0, 0, 0, 0, 0, 0, 0, 0, 0, 0, 0, 0, 0,\n",
      "        0, 0, 0, 0, 0, 0, 0, 0, 0, 0, 0, 0, 0, 0, 0, 0, 0, 0, 0, 0, 0, 0, 0, 0,\n",
      "        0, 0, 0, 0, 0, 0, 0, 0, 0, 0, 0, 0, 0, 0, 0, 0, 0, 0, 0, 0, 0, 0, 0, 0,\n",
      "        0, 0, 0, 0, 0, 0, 0, 0, 0, 0, 0, 0, 0, 0, 0, 0, 0, 0, 0, 0, 0, 0, 0, 0,\n",
      "        0, 0, 0, 0, 0, 0, 0, 0, 0, 0, 0, 0, 0, 0, 0, 0, 0, 0, 0, 0, 0, 0, 0, 0,\n",
      "        0, 0, 0, 0, 0, 0, 0, 0])\n"
     ]
    }
   ],
   "source": [
    "i = 2\n",
    "print(test_dataset.texts[i])\n",
    "for key, value in test_dataset[i].items():\n",
    "    print(key + ':', value)"
   ]
  },
  {
   "cell_type": "markdown",
   "id": "c6d09d10",
   "metadata": {},
   "source": [
    "## Expériences pré-entraînement"
   ]
  },
  {
   "cell_type": "markdown",
   "id": "8abd4bc4",
   "metadata": {},
   "source": [
    "Avant de lancer le modèle, quelle _loss_ serait considérée comme statisfaisante ? Si l'on admet qu'une _loss_ satisfaisante donne lieu à 90% de prédictions correctes (accuracy $\\geq$ 90%), \n",
    "\n",
    "- loss aléatoire : \n",
    "- loss du modèle qui prédit la classe modale (\"O\") : \n",
    "- loss satisfaisante :\n",
    "- loss du modèle oracle (parfaite) :"
   ]
  },
  {
   "cell_type": "code",
   "execution_count": 322,
   "id": "71cfed21",
   "metadata": {
    "ExecuteTime": {
     "end_time": "2022-05-29T13:57:59.544732Z",
     "start_time": "2022-05-29T13:57:59.239487Z"
    }
   },
   "outputs": [],
   "source": [
    "loss_ce = nn.CrossEntropyLoss()\n",
    "y_true = torch.tensor(label_enc_NER.transform(data.Tag), dtype=torch.long)  # sans le +1 ici !\n",
    "y_true_ohe = torch.tensor(\n",
    "    pd.get_dummies(y_true).astype(float).replace(0, -1234).to_numpy(),\n",
    "    dtype=torch.float\n",
    ")"
   ]
  },
  {
   "cell_type": "code",
   "execution_count": 328,
   "id": "e1a9806f",
   "metadata": {
    "ExecuteTime": {
     "end_time": "2022-05-29T14:00:02.818498Z",
     "start_time": "2022-05-29T14:00:02.522773Z"
    }
   },
   "outputs": [
    {
     "name": "stdout",
     "output_type": "stream",
     "text": [
      "Loss oracle : tensor(0.)\n",
      "Loss d'un modèle satisfaisant : tensor(24.3661)\n",
      "Loss du modèle qui prédit argcount : tensor(43.4922)\n",
      "Loss d'un modèle aléatoire : tensor(823.3098)\n"
     ]
    }
   ],
   "source": [
    "#  Modèle oracle :\n",
    "y_pred = y_true_ohe\n",
    "print('Loss oracle :', loss_ce(y_pred, y_true))\n",
    "\n",
    "# Modèle avec une accuracy de 98 %\n",
    "# Pour rappel, une accuracy en dessous de 96 % est mauvaise !\n",
    "# data.Tag.value_counts(normalize=True)\n",
    "accuracy_souhaitée = 0.98\n",
    "nb_lignes_à_erroring = int((1 - accuracy_souhaitée) * y_true.shape[0])\n",
    "y_pred = y_true_ohe.detach()\n",
    "y_pred[0:nb_lignes_à_erroring, :] = y_pred[0:nb_lignes_à_erroring, :].flip(1)  # smart ! \n",
    "print(\"Loss d'un modèle satisfaisant :\", loss_ce(y_pred, y_true))\n",
    "\n",
    "# Modèle qui prédit la classe modale : \n",
    "classe_modale = data.Tag.value_counts().nlargest(1).index[0]\n",
    "y_pred = np.full((len(data), num_tag), -1234)\n",
    "y_pred[:, label_enc_NER.transform([classe_modale])[0]] = 1\n",
    "y_pred = torch.tensor(y_pred, dtype=torch.float)\n",
    "print(\"Loss du modèle qui prédit argcount :\", loss_ce(y_pred, y_true))\n",
    "\n",
    "# Modèle aléatoire :\n",
    "y_pred = torch.tensor(\n",
    "    pd.get_dummies(torch.randint(0, num_tag, (len(data),))).astype(float).replace(0, -1234).to_numpy(),\n",
    "    dtype=torch.float\n",
    ")\n",
    "print(\"Loss d'un modèle aléatoire :\", loss_ce(y_pred, y_true))"
   ]
  },
  {
   "cell_type": "markdown",
   "id": "a42096f2",
   "metadata": {},
   "source": [
    "## Modélisation"
   ]
  },
  {
   "cell_type": "code",
   "execution_count": 16,
   "id": "7eb1b962",
   "metadata": {
    "ExecuteTime": {
     "end_time": "2022-05-29T06:53:49.032993Z",
     "start_time": "2022-05-29T06:53:48.546537Z"
    }
   },
   "outputs": [
    {
     "data": {
      "text/plain": [
       "device(type='cpu')"
      ]
     },
     "execution_count": 16,
     "metadata": {},
     "output_type": "execute_result"
    }
   ],
   "source": [
    "device = torch.device('cuda') if torch.cuda.is_available() else torch.device('cpu')\n",
    "device"
   ]
  },
  {
   "cell_type": "code",
   "execution_count": 18,
   "id": "6105b5aa",
   "metadata": {
    "ExecuteTime": {
     "end_time": "2022-05-29T06:54:06.150495Z",
     "start_time": "2022-05-29T06:54:03.977819Z"
    }
   },
   "outputs": [
    {
     "name": "stderr",
     "output_type": "stream",
     "text": [
      "Some weights of the model checkpoint at data/inputs/models/bert-base-uncased were not used when initializing BertModel: ['cls.predictions.transform.LayerNorm.bias', 'cls.predictions.bias', 'cls.predictions.transform.dense.bias', 'cls.predictions.transform.dense.weight', 'cls.seq_relationship.weight', 'cls.predictions.decoder.weight', 'cls.predictions.transform.LayerNorm.weight', 'cls.seq_relationship.bias']\n",
      "- This IS expected if you are initializing BertModel from the checkpoint of a model trained on another task or with another architecture (e.g. initializing a BertForSequenceClassification model from a BertForPreTraining model).\n",
      "- This IS NOT expected if you are initializing BertModel from the checkpoint of a model that you expect to be exactly identical (initializing a BertForSequenceClassification model from a BertForSequenceClassification model).\n"
     ]
    }
   ],
   "source": [
    "model = EntityModel(num_tag=num_tag)\n",
    "model.to(device);"
   ]
  },
  {
   "cell_type": "code",
   "execution_count": 19,
   "id": "83922a6c",
   "metadata": {
    "ExecuteTime": {
     "end_time": "2022-05-29T06:55:19.774530Z",
     "start_time": "2022-05-29T06:55:19.751789Z"
    }
   },
   "outputs": [],
   "source": [
    "param_optimizer = list(model.named_parameters())\n",
    "no_decay = [\"bias\", \"LayerNorm.bias\", \"LayerNorm.weight\"]"
   ]
  },
  {
   "cell_type": "code",
   "execution_count": 20,
   "id": "67d8be0e",
   "metadata": {
    "ExecuteTime": {
     "end_time": "2022-05-29T06:55:20.760874Z",
     "start_time": "2022-05-29T06:55:20.738134Z"
    }
   },
   "outputs": [],
   "source": [
    "optimizer_parameters = [\n",
    "    {\n",
    "        \"params\": [\n",
    "            p for n, p in param_optimizer if not any(nd in n for nd in no_decay)\n",
    "        ],\n",
    "        \"weight_decay\": 0.001,\n",
    "    },\n",
    "    {\n",
    "        \n",
    "        \"params\": [\n",
    "            p for n, p in param_optimizer if any(nd in n for nd in no_decay)\n",
    "        ],\n",
    "        \"weight_decay\": 0.0,\n",
    "    },\n",
    "]"
   ]
  },
  {
   "cell_type": "code",
   "execution_count": 22,
   "id": "2b097bbf",
   "metadata": {
    "ExecuteTime": {
     "end_time": "2022-05-29T07:00:06.500078Z",
     "start_time": "2022-05-29T07:00:06.476558Z"
    }
   },
   "outputs": [
    {
     "name": "stdout",
     "output_type": "stream",
     "text": [
      "8992 batchs vont être envoyés dans le réseau au cours de 10 epochs.\n"
     ]
    }
   ],
   "source": [
    "num_train_steps = int(len(sentences_minitrain) / PARAMS.MODEL.TRAIN_BATCH_SIZE * PARAMS.MODEL.EPOCHS)\n",
    "print(f\"{num_train_steps} batchs vont être envoyés dans le réseau au cours de {PARAMS.MODEL.EPOCHS} epochs.\")\n",
    "\n",
    "optimizer = torch.optim.AdamW(optimizer_parameters, lr=PARAMS.MODEL.LEARNING_RATE)\n",
    "scheduler = get_linear_schedule_with_warmup(\n",
    "    optimizer, num_warmup_steps=0, num_training_steps=num_train_steps\n",
    ")"
   ]
  },
  {
   "cell_type": "code",
   "execution_count": 23,
   "id": "5d6ba46e",
   "metadata": {
    "ExecuteTime": {
     "end_time": "2022-05-29T07:02:06.049338Z",
     "start_time": "2022-05-29T07:02:05.383282Z"
    }
   },
   "outputs": [
    {
     "data": {
      "text/plain": [
       "{'ids': tensor([[  101,  2720,  1012,  ...,     0,     0,     0],\n",
       "         [  101,  1057,  1012,  ...,     0,     0,     0],\n",
       "         [  101,  4584,  1997,  ...,     0,     0,     0],\n",
       "         ...,\n",
       "         [  101,  1996,  1057,  ...,     0,     0,     0],\n",
       "         [  101, 12337,  7632,  ...,     0,     0,     0],\n",
       "         [  101,  5564,  1010,  ...,     0,     0,     0]]),\n",
       " 'mask': tensor([[1, 1, 1,  ..., 0, 0, 0],\n",
       "         [1, 1, 1,  ..., 0, 0, 0],\n",
       "         [1, 1, 1,  ..., 0, 0, 0],\n",
       "         ...,\n",
       "         [1, 1, 1,  ..., 0, 0, 0],\n",
       "         [1, 1, 1,  ..., 0, 0, 0],\n",
       "         [1, 1, 1,  ..., 0, 0, 0]]),\n",
       " 'token_type_ids': tensor([[0, 0, 0,  ..., 0, 0, 0],\n",
       "         [0, 0, 0,  ..., 0, 0, 0],\n",
       "         [0, 0, 0,  ..., 0, 0, 0],\n",
       "         ...,\n",
       "         [0, 0, 0,  ..., 0, 0, 0],\n",
       "         [0, 0, 0,  ..., 0, 0, 0],\n",
       "         [0, 0, 0,  ..., 0, 0, 0]]),\n",
       " 'target_tag': tensor([[0, 3, 3,  ..., 0, 0, 0],\n",
       "         [0, 1, 1,  ..., 0, 0, 0],\n",
       "         [0, 3, 3,  ..., 0, 0, 0],\n",
       "         ...,\n",
       "         [0, 3, 1,  ..., 0, 0, 0],\n",
       "         [0, 3, 3,  ..., 0, 0, 0],\n",
       "         [0, 3, 3,  ..., 0, 0, 0]])}"
      ]
     },
     "execution_count": 23,
     "metadata": {},
     "output_type": "execute_result"
    }
   ],
   "source": [
    "for temp in minitrain_data_loader:\n",
    "    break\n",
    "\n",
    "temp"
   ]
  },
  {
   "cell_type": "markdown",
   "id": "fc8d730c",
   "metadata": {},
   "source": [
    "## Entraînement"
   ]
  },
  {
   "cell_type": "code",
   "execution_count": 28,
   "id": "3b9b273c",
   "metadata": {
    "ExecuteTime": {
     "end_time": "2022-05-14T23:33:49.077135Z",
     "start_time": "2022-05-14T14:53:24.645345Z"
    }
   },
   "outputs": [
    {
     "name": "stderr",
     "output_type": "stream",
     "text": [
      "100%|██████████| 900/900 [45:41<00:00,  3.05s/it]\n",
      "100%|██████████| 1199/1199 [05:36<00:00,  3.57it/s]\n"
     ]
    },
    {
     "name": "stdout",
     "output_type": "stream",
     "text": [
      "Train Loss = 0.2727914150887065 Valid Loss = 0.11402885264734908\n"
     ]
    },
    {
     "name": "stderr",
     "output_type": "stream",
     "text": [
      "100%|██████████| 900/900 [46:29<00:00,  3.10s/it]\n",
      "100%|██████████| 1199/1199 [05:52<00:00,  3.40it/s]\n"
     ]
    },
    {
     "name": "stdout",
     "output_type": "stream",
     "text": [
      "Train Loss = 0.10248589319073492 Valid Loss = 0.10072587721525156\n"
     ]
    },
    {
     "name": "stderr",
     "output_type": "stream",
     "text": [
      "100%|██████████| 900/900 [46:41<00:00,  3.11s/it]\n",
      "100%|██████████| 1199/1199 [05:44<00:00,  3.48it/s]\n"
     ]
    },
    {
     "name": "stdout",
     "output_type": "stream",
     "text": [
      "Train Loss = 0.08062942393538025 Valid Loss = 0.10063354791475272\n"
     ]
    },
    {
     "name": "stderr",
     "output_type": "stream",
     "text": [
      "100%|██████████| 900/900 [46:26<00:00,  3.10s/it]\n",
      "100%|██████████| 1199/1199 [05:41<00:00,  3.51it/s]\n"
     ]
    },
    {
     "name": "stdout",
     "output_type": "stream",
     "text": [
      "Train Loss = 0.06560182781269153 Valid Loss = 0.10005241303818861\n"
     ]
    },
    {
     "name": "stderr",
     "output_type": "stream",
     "text": [
      "100%|██████████| 900/900 [45:58<00:00,  3.06s/it]\n",
      "100%|██████████| 1199/1199 [05:42<00:00,  3.50it/s]\n"
     ]
    },
    {
     "name": "stdout",
     "output_type": "stream",
     "text": [
      "Train Loss = 0.053607129955457314 Valid Loss = 0.10257265921348117\n"
     ]
    },
    {
     "name": "stderr",
     "output_type": "stream",
     "text": [
      "100%|██████████| 900/900 [46:11<00:00,  3.08s/it]\n",
      "100%|██████████| 1199/1199 [05:43<00:00,  3.49it/s]\n"
     ]
    },
    {
     "name": "stdout",
     "output_type": "stream",
     "text": [
      "Train Loss = 0.044843513863161204 Valid Loss = 0.1069189146401095\n"
     ]
    },
    {
     "name": "stderr",
     "output_type": "stream",
     "text": [
      "100%|██████████| 900/900 [46:47<00:00,  3.12s/it]\n",
      "100%|██████████| 1199/1199 [05:33<00:00,  3.60it/s]\n"
     ]
    },
    {
     "name": "stdout",
     "output_type": "stream",
     "text": [
      "Train Loss = 0.03736409041823612 Valid Loss = 0.11136127482583938\n"
     ]
    },
    {
     "name": "stderr",
     "output_type": "stream",
     "text": [
      "100%|██████████| 900/900 [46:09<00:00,  3.08s/it]\n",
      "100%|██████████| 1199/1199 [05:44<00:00,  3.48it/s]\n"
     ]
    },
    {
     "name": "stdout",
     "output_type": "stream",
     "text": [
      "Train Loss = 0.0319585763823448 Valid Loss = 0.1150985510198025\n"
     ]
    },
    {
     "name": "stderr",
     "output_type": "stream",
     "text": [
      "100%|██████████| 900/900 [45:59<00:00,  3.07s/it]\n",
      "100%|██████████| 1199/1199 [05:51<00:00,  3.41it/s]\n"
     ]
    },
    {
     "name": "stdout",
     "output_type": "stream",
     "text": [
      "Train Loss = 0.028182038449061413 Valid Loss = 0.11700773842864241\n"
     ]
    },
    {
     "name": "stderr",
     "output_type": "stream",
     "text": [
      "100%|██████████| 900/900 [46:39<00:00,  3.11s/it]\n",
      "100%|██████████| 1199/1199 [05:48<00:00,  3.44it/s]"
     ]
    },
    {
     "name": "stdout",
     "output_type": "stream",
     "text": [
      "Train Loss = 0.02529177520838049 Valid Loss = 0.11902917571287382\n"
     ]
    },
    {
     "name": "stderr",
     "output_type": "stream",
     "text": [
      "\n"
     ]
    }
   ],
   "source": [
    "best_loss = np.inf\n",
    "for epoch in range(PARAMS.MODEL.EPOCHS):\n",
    "    train_loss = train_fn(minitrain_data_loader, model, optimizer, device, scheduler)\n",
    "    test_loss = eval_fn(valid_data_loader, model, device)\n",
    "    print(f\"Train Loss = {train_loss} Valid Loss = {test_loss}\")\n",
    "    if test_loss < best_loss:\n",
    "        # torch.save(model.state_dict(), PARAMS.PATHS.MODEL_SAVED)\n",
    "        best_loss = test_loss"
   ]
  },
  {
   "cell_type": "code",
   "execution_count": 41,
   "id": "9cde3721",
   "metadata": {
    "ExecuteTime": {
     "end_time": "2022-05-01T19:19:54.475695Z",
     "start_time": "2022-05-01T19:19:54.413280Z"
    }
   },
   "outputs": [
    {
     "data": {
      "text/plain": [
       "'data/models/model_trained.bin'"
      ]
     },
     "execution_count": 41,
     "metadata": {},
     "output_type": "execute_result"
    }
   ],
   "source": []
  }
 ],
 "metadata": {
  "jupytext": {
   "encoding": "# -*- coding: utf-8 -*-",
   "text_representation": {
    "extension": ".py",
    "format_name": "light",
    "format_version": "1.5",
    "jupytext_version": "1.11.1"
   }
  },
  "kernelspec": {
   "display_name": "parc_v1",
   "language": "python",
   "name": "parc_v1"
  },
  "language_info": {
   "codemirror_mode": {
    "name": "ipython",
    "version": 3
   },
   "file_extension": ".py",
   "mimetype": "text/x-python",
   "name": "python",
   "nbconvert_exporter": "python",
   "pygments_lexer": "ipython3",
   "version": "3.6.8"
  },
  "notify_time": "30",
  "toc": {
   "base_numbering": 1,
   "nav_menu": {},
   "number_sections": true,
   "sideBar": true,
   "skip_h1_title": false,
   "title_cell": "Table of Contents",
   "title_sidebar": "Contents",
   "toc_cell": false,
   "toc_position": {},
   "toc_section_display": true,
   "toc_window_display": false
  }
 },
 "nbformat": 4,
 "nbformat_minor": 5
}
