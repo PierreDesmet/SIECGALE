{
 "cells": [
  {
   "cell_type": "markdown",
   "id": "b3c0c86b",
   "metadata": {
    "cell_style": "center"
   },
   "source": [
    "# 1 - NER PyTorch - version française"
   ]
  },
  {
   "cell_type": "code",
   "execution_count": 2,
   "id": "6b6f73d7",
   "metadata": {
    "ExecuteTime": {
     "end_time": "2022-07-28T18:13:12.957710Z",
     "start_time": "2022-07-28T18:13:11.240280Z"
    }
   },
   "outputs": [],
   "source": [
    "%load_ext autoreload\n",
    "%autoreload 2\n",
    "\n",
    "import os\n",
    "import time\n",
    "\n",
    "import joblib\n",
    "import torch\n",
    "from sklearn.model_selection import train_test_split\n",
    "from torch import nn\n",
    "from torch.utils.data import DataLoader\n",
    "from tqdm.notebook import tqdm\n",
    "from transformers import get_linear_schedule_with_warmup\n",
    "\n",
    "os.chdir('..')\n",
    "\n",
    "from ner_pytorch.config.params import PARAMS\n",
    "from ner_pytorch.dataset import EntityDataset\n",
    "from ner_pytorch.engine import eval_fn, train_fn, prédit_single_doc\n",
    "from ner_pytorch.model import EntityModel\n",
    "from ner_pytorch.preprocessing import process_data\n",
    "from ner_pytorch.utils import *"
   ]
  },
  {
   "cell_type": "markdown",
   "id": "2150b49e",
   "metadata": {
    "heading_collapsed": true
   },
   "source": [
    "## Chargement des données"
   ]
  },
  {
   "cell_type": "code",
   "execution_count": 4,
   "id": "0122c53e",
   "metadata": {
    "ExecuteTime": {
     "end_time": "2022-07-28T18:13:13.624416Z",
     "start_time": "2022-07-28T18:13:12.980196Z"
    },
    "hidden": true
   },
   "outputs": [
    {
     "data": {
      "text/html": [
       "<div>\n",
       "<style scoped>\n",
       "    .dataframe tbody tr th:only-of-type {\n",
       "        vertical-align: middle;\n",
       "    }\n",
       "\n",
       "    .dataframe tbody tr th {\n",
       "        vertical-align: top;\n",
       "    }\n",
       "\n",
       "    .dataframe thead th {\n",
       "        text-align: right;\n",
       "    }\n",
       "</style>\n",
       "<table border=\"1\" class=\"dataframe\">\n",
       "  <thead>\n",
       "    <tr style=\"text-align: right;\">\n",
       "      <th></th>\n",
       "      <th>Sentence #</th>\n",
       "      <th>Word</th>\n",
       "      <th>Tag</th>\n",
       "      <th>ID</th>\n",
       "    </tr>\n",
       "  </thead>\n",
       "  <tbody>\n",
       "    <tr>\n",
       "      <th>0</th>\n",
       "      <td>Sentence: 1</td>\n",
       "      <td>Thousands</td>\n",
       "      <td>O</td>\n",
       "      <td>Sentence: 1</td>\n",
       "    </tr>\n",
       "    <tr>\n",
       "      <th>1</th>\n",
       "      <td>Sentence: 1</td>\n",
       "      <td>of</td>\n",
       "      <td>O</td>\n",
       "      <td>Sentence: 1</td>\n",
       "    </tr>\n",
       "    <tr>\n",
       "      <th>2</th>\n",
       "      <td>Sentence: 1</td>\n",
       "      <td>demonstrators</td>\n",
       "      <td>O</td>\n",
       "      <td>Sentence: 1</td>\n",
       "    </tr>\n",
       "    <tr>\n",
       "      <th>3</th>\n",
       "      <td>Sentence: 1</td>\n",
       "      <td>have</td>\n",
       "      <td>O</td>\n",
       "      <td>Sentence: 1</td>\n",
       "    </tr>\n",
       "    <tr>\n",
       "      <th>4</th>\n",
       "      <td>Sentence: 1</td>\n",
       "      <td>marched</td>\n",
       "      <td>O</td>\n",
       "      <td>Sentence: 1</td>\n",
       "    </tr>\n",
       "    <tr>\n",
       "      <th>5</th>\n",
       "      <td>Sentence: 1</td>\n",
       "      <td>through</td>\n",
       "      <td>O</td>\n",
       "      <td>Sentence: 1</td>\n",
       "    </tr>\n",
       "    <tr>\n",
       "      <th>6</th>\n",
       "      <td>Sentence: 1</td>\n",
       "      <td>London</td>\n",
       "      <td>B-geo</td>\n",
       "      <td>Sentence: 1</td>\n",
       "    </tr>\n",
       "  </tbody>\n",
       "</table>\n",
       "</div>"
      ],
      "text/plain": [
       "    Sentence #           Word    Tag           ID\n",
       "0  Sentence: 1      Thousands      O  Sentence: 1\n",
       "1  Sentence: 1             of      O  Sentence: 1\n",
       "2  Sentence: 1  demonstrators      O  Sentence: 1\n",
       "3  Sentence: 1           have      O  Sentence: 1\n",
       "4  Sentence: 1        marched      O  Sentence: 1\n",
       "5  Sentence: 1        through      O  Sentence: 1\n",
       "6  Sentence: 1         London  B-geo  Sentence: 1"
      ]
     },
     "execution_count": 4,
     "metadata": {},
     "output_type": "execute_result"
    }
   ],
   "source": [
    "if PARAMS.LANGUAGE == 'fr':\n",
    "    data = pd.read_feather(PARAMS.PATHS_FR.TRAIN)\n",
    "    data = data.rename(columns={'Phrase': 'Sentence #', 'Mot': 'Word', 'Label': 'Tag'})\n",
    "elif PARAMS.LANGUAGE == 'en':\n",
    "    data = pd.read_csv(PARAMS.PATHS_EN.TRAIN, encoding='latin-1').drop('POS', axis=1)\n",
    "    data[\"Sentence #\"] = data[\"Sentence #\"].fillna(method='ffill')\n",
    "    data['ID'] = data['Sentence #']\n",
    "data.head(7)"
   ]
  },
  {
   "cell_type": "markdown",
   "id": "36e12561",
   "metadata": {
    "hidden": true
   },
   "source": [
    "En réalité, nous ne nous intéressons qu'à la prédiction des ORG, pour lesquelles 3 labels sont possibles :\n",
    "- B-org\n",
    "- I-org\n",
    "- O"
   ]
  },
  {
   "cell_type": "code",
   "execution_count": 5,
   "id": "7d5ca322",
   "metadata": {
    "ExecuteTime": {
     "end_time": "2022-07-28T18:13:13.783439Z",
     "start_time": "2022-07-28T18:13:13.626848Z"
    },
    "hidden": true
   },
   "outputs": [
    {
     "data": {
      "text/plain": [
       "O        0.964784\n",
       "B-org    0.019210\n",
       "I-org    0.016006\n",
       "Name: Tag, dtype: float64"
      ]
     },
     "execution_count": 5,
     "metadata": {},
     "output_type": "execute_result"
    }
   ],
   "source": [
    "data['Tag'] = data.Tag.mask(~data.Tag.isin(['B-org', 'I-org', 'O']), 'O')\n",
    "data.Tag.value_counts(normalize=True)"
   ]
  },
  {
   "cell_type": "code",
   "execution_count": 6,
   "id": "e5d0dd16",
   "metadata": {
    "ExecuteTime": {
     "end_time": "2022-07-28T18:13:14.051177Z",
     "start_time": "2022-07-28T18:13:13.786037Z"
    },
    "hidden": true,
    "scrolled": true
   },
   "outputs": [
    {
     "name": "stdout",
     "output_type": "stream",
     "text": [
      "Tag 3 categories : ['O' 'B-org' 'I-org']\n",
      "\n"
     ]
    },
    {
     "data": {
      "text/plain": [
       "(1048575, 4)"
      ]
     },
     "execution_count": 6,
     "metadata": {},
     "output_type": "execute_result"
    },
    {
     "data": {
      "text/html": [
       "<div>\n",
       "<style scoped>\n",
       "    .dataframe tbody tr th:only-of-type {\n",
       "        vertical-align: middle;\n",
       "    }\n",
       "\n",
       "    .dataframe tbody tr th {\n",
       "        vertical-align: top;\n",
       "    }\n",
       "\n",
       "    .dataframe thead th {\n",
       "        text-align: right;\n",
       "    }\n",
       "</style>\n",
       "<table border=\"1\" class=\"dataframe\">\n",
       "  <thead>\n",
       "    <tr style=\"text-align: right;\">\n",
       "      <th></th>\n",
       "      <th>Sentence #</th>\n",
       "      <th>Word</th>\n",
       "      <th>Tag</th>\n",
       "      <th>ID</th>\n",
       "    </tr>\n",
       "  </thead>\n",
       "  <tbody>\n",
       "  </tbody>\n",
       "</table>\n",
       "</div>"
      ],
      "text/plain": [
       "Empty DataFrame\n",
       "Columns: [Sentence #, Word, Tag, ID]\n",
       "Index: []"
      ]
     },
     "execution_count": 6,
     "metadata": {},
     "output_type": "execute_result"
    }
   ],
   "source": [
    "num_tag = data.Tag.nunique()\n",
    "print(f'Tag {num_tag} categories :', data.Tag.unique(), end='\\n\\n')\n",
    "\n",
    "data.shape\n",
    "data.query(\"ID == 'Wikineural - Phrase 11022'\")"
   ]
  },
  {
   "cell_type": "code",
   "execution_count": 7,
   "id": "ef63ebc5",
   "metadata": {
    "ExecuteTime": {
     "end_time": "2022-07-28T18:13:17.335117Z",
     "start_time": "2022-07-28T18:13:14.052777Z"
    },
    "hidden": true
   },
   "outputs": [
    {
     "data": {
      "text/plain": [
       "['data/outputs/ordinal_enc_NER_en.joblib']"
      ]
     },
     "execution_count": 7,
     "metadata": {},
     "output_type": "execute_result"
    }
   ],
   "source": [
    "sentences, tag, ordinal_enc_NER = process_data(data)\n",
    "joblib.dump(ordinal_enc_NER, f'data/outputs/ordinal_enc_NER_{PARAMS.LANGUAGE}.joblib')"
   ]
  },
  {
   "cell_type": "code",
   "execution_count": 8,
   "id": "15643b9f",
   "metadata": {
    "ExecuteTime": {
     "end_time": "2022-07-28T18:13:17.358129Z",
     "start_time": "2022-07-28T18:13:17.336653Z"
    },
    "hidden": true
   },
   "outputs": [
    {
     "name": "stdout",
     "output_type": "stream",
     "text": [
      "['He', 'said', 'last', 'week', \"'s\", 'tsunami', 'and', 'the', 'massive', 'underwater', 'earthquake', 'that', 'triggered', 'it', 'has', 'affected', 'millions', 'in', 'Asia', 'and', 'Africa', '.']\n",
      "[0.0, 0.0, 0.0, 0.0, 0.0, 0.0, 0.0, 0.0, 0.0, 0.0, 0.0, 0.0, 0.0, 0.0, 0.0, 0.0, 0.0, 0.0, 0.0, 0.0, 0.0, 0.0]\n",
      "[array(['O', 'B-org', 'I-org'], dtype=object)]\n"
     ]
    }
   ],
   "source": [
    "# Démo : \n",
    "i = 6\n",
    "print(sentences[i], end='\\n')\n",
    "print(tag[i], end='\\n')\n",
    "print(ordinal_enc_NER.categories_, end='\\n')"
   ]
  },
  {
   "cell_type": "markdown",
   "id": "56931da0",
   "metadata": {
    "heading_collapsed": true
   },
   "source": [
    "## Split du jeu de données\n",
    "On split notre jeu de données de la façon suivante :\n",
    "- `test` = 20%\n",
    "- `train` = [`minitrain`, `valid`] = 80%\n",
    "- `minitrain` = 60%\n",
    "- `valid` = 20%"
   ]
  },
  {
   "cell_type": "code",
   "execution_count": 9,
   "id": "d007d5fa",
   "metadata": {
    "ExecuteTime": {
     "end_time": "2022-07-28T18:13:17.682839Z",
     "start_time": "2022-07-28T18:13:17.359605Z"
    },
    "hidden": true
   },
   "outputs": [
    {
     "data": {
      "text/plain": [
       "0.0    0.964808\n",
       "1.0    0.019224\n",
       "2.0    0.015968\n",
       "dtype: float64"
      ]
     },
     "execution_count": 9,
     "metadata": {},
     "output_type": "execute_result"
    },
    {
     "data": {
      "text/plain": [
       "0.0    0.965036\n",
       "1.0    0.018949\n",
       "2.0    0.016014\n",
       "dtype: float64"
      ]
     },
     "execution_count": 9,
     "metadata": {},
     "output_type": "execute_result"
    },
    {
     "data": {
      "text/plain": [
       "(28777, 9591, 9591)"
      ]
     },
     "execution_count": 9,
     "metadata": {},
     "output_type": "execute_result"
    }
   ],
   "source": [
    "len_test = int(PARAMS.SAMPLE_SIZES.TEST * len(sentences))\n",
    "len_valid = int(PARAMS.SAMPLE_SIZES.VALID * len(sentences))\n",
    "autre = ordinal_enc_NER.transform([['O']]).item()\n",
    "\n",
    "# En présence d'un jeu déséquilibré, il vaut mieux stratifier :\n",
    "strat_tag = [len([_ for _ in tag[i] if _ != autre]) > 0 for i in range(len(tag))]\n",
    "(\n",
    "    sentences_train, sentences_test,\n",
    "    tag_train, tag_test\n",
    ") = train_test_split(sentences, tag, random_state=PARAMS.SEED, \n",
    "                     test_size=len_test, stratify=strat_tag, shuffle=True)\n",
    "\n",
    "strat_tag_train = [len([_ for _ in tag_train[i] if _ != autre]) > 0 for i in range(len(tag_train))]\n",
    "(\n",
    "    sentences_minitrain, sentences_valid,\n",
    "    tag_minitrain, tag_valid\n",
    ") = train_test_split(sentences_train, tag_train, random_state=PARAMS.SEED, \n",
    "                     test_size=len_valid, stratify=strat_tag_train, shuffle=True)\n",
    "\n",
    "# Pour se rassurer sur la bonne représentativité de chaque classe dans les échantillons stratifiés : \n",
    "pd.Series(np.concatenate(tag_train)).value_counts(normalize=True)\n",
    "pd.Series(np.concatenate(tag_valid)).value_counts(normalize=True)\n",
    "\n",
    "len(sentences_minitrain), len(sentences_valid), len(sentences_test)"
   ]
  },
  {
   "cell_type": "code",
   "execution_count": 10,
   "id": "993597c9",
   "metadata": {
    "ExecuteTime": {
     "end_time": "2022-07-28T18:13:17.707088Z",
     "start_time": "2022-07-28T18:13:17.684419Z"
    },
    "hidden": true
   },
   "outputs": [],
   "source": [
    "minitrain_dataset = EntityDataset(\n",
    "    texts=sentences_minitrain, tags=tag_minitrain\n",
    ")\n",
    "minitrain_data_loader = DataLoader(\n",
    "    minitrain_dataset, batch_size=PARAMS.MODEL.TRAIN_BATCH_SIZE, num_workers=16 \n",
    ")\n",
    "\n",
    "valid_dataset = EntityDataset(\n",
    "    texts=sentences_valid, tags=tag_valid\n",
    ")\n",
    "valid_data_loader = DataLoader(\n",
    "    valid_dataset, batch_size=PARAMS.MODEL.VALID_BATCH_SIZE, num_workers=16\n",
    ")\n",
    "\n",
    "test_dataset = EntityDataset(\n",
    "    texts=sentences_test, tags=tag_test\n",
    ")\n",
    "test_data_loader = DataLoader(\n",
    "    test_dataset, batch_size=PARAMS.MODEL.VALID_BATCH_SIZE, num_workers=16\n",
    ")"
   ]
  },
  {
   "cell_type": "code",
   "execution_count": 11,
   "id": "a3e19d90",
   "metadata": {
    "ExecuteTime": {
     "end_time": "2022-07-28T18:14:39.597620Z",
     "start_time": "2022-07-28T18:13:17.708407Z"
    },
    "hidden": true
   },
   "outputs": [
    {
     "data": {
      "image/png": "[encoded data removed]",
      "text/plain": [
       "<matplotlib.figure.Figure at 0x7f4d4b8bc550>"
      ]
     },
     "metadata": {
      "needs_background": "light"
     },
     "output_type": "display_data"
    }
   ],
   "source": [
    "# Comment choisir PARAMS.MODEL.MAX_SENTENCE_LEN (= le nombre de tokens envoyés) ?\n",
    "len_sen = [(_['input_ids'] != 1).sum().item() for _ in minitrain_dataset]\n",
    "titre = \"Nombre de tokens envoyés sur chaque exemple\\n\"\n",
    "titre += f\"(avant le padding jusqu'à {PARAMS.MODEL.MAX_SENTENCE_LEN} tokens)\"\n",
    "plt.title(titre)\n",
    "plt.xlabel('Nombre de tokens')\n",
    "plt.ylabel('Effectif')\n",
    "plt.hist(pd.Series(len_sen), color='#bd2027') ;"
   ]
  },
  {
   "cell_type": "code",
   "execution_count": 12,
   "id": "fc350542",
   "metadata": {
    "ExecuteTime": {
     "end_time": "2022-07-28T18:14:39.626892Z",
     "start_time": "2022-07-28T18:14:39.599101Z"
    },
    "hidden": true
   },
   "outputs": [
    {
     "name": "stdout",
     "output_type": "stream",
     "text": [
      "['The', 'Spanish', 'troops', 'will', 'join', 'the', 'European', 'Union', 'force', 'sent', 'to', 'protect', 'ships', 'against', 'hijackings', 'and', 'attacks', 'by', 'Somali', 'pirates', '.']\n",
      "input_ids: tensor([  101,  1996,  3009,  3629,  2097,  3693,  1996,  2647,  2586,  2486,\n",
      "         2741,  2000,  4047,  3719,  2114,  7632, 17364,  8613,  1998,  4491,\n",
      "         2011, 16831,  8350,  1012,   102,     0,     0,     0,     0,     0,\n",
      "            0,     0,     0,     0,     0,     0,     0,     0,     0,     0,\n",
      "            0,     0,     0,     0,     0,     0,     0,     0,     0,     0,\n",
      "            0,     0,     0,     0,     0,     0,     0,     0,     0,     0,\n",
      "            0,     0,     0,     0,     0,     0,     0,     0,     0,     0,\n",
      "            0,     0,     0,     0,     0,     0,     0,     0,     0,     0,\n",
      "            0,     0,     0,     0,     0,     0,     0,     0,     0,     0,\n",
      "            0,     0,     0,     0,     0,     0,     0,     0,     0,     0,\n",
      "            0,     0,     0,     0,     0,     0,     0,     0,     0,     0,\n",
      "            0,     0,     0,     0,     0,     0,     0,     0,     0,     0,\n",
      "            0,     0,     0,     0,     0,     0,     0,     0,     0,     0,\n",
      "            0,     0,     0,     0,     0,     0,     0,     0,     0,     0,\n",
      "            0,     0,     0,     0,     0,     0,     0,     0,     0,     0,\n",
      "            0,     0,     0,     0,     0,     0,     0,     0,     0,     0,\n",
      "            0,     0,     0,     0,     0,     0,     0,     0,     0,     0,\n",
      "            0,     0,     0,     0,     0,     0,     0,     0,     0,     0,\n",
      "            0,     0,     0,     0,     0,     0,     0,     0,     0,     0,\n",
      "            0,     0,     0,     0,     0,     0,     0,     0,     0,     0,\n",
      "            0,     0,     0,     0,     0,     0,     0,     0,     0,     0,\n",
      "            0,     0,     0,     0,     0,     0,     0,     0,     0,     0,\n",
      "            0,     0,     0,     0,     0,     0,     0,     0,     0,     0,\n",
      "            0,     0,     0,     0,     0,     0,     0,     0,     0,     0,\n",
      "            0,     0,     0,     0,     0,     0,     0,     0,     0,     0,\n",
      "            0,     0,     0,     0,     0,     0])\n",
      "attention_mask: tensor([1, 1, 1, 1, 1, 1, 1, 1, 1, 1, 1, 1, 1, 1, 1, 1, 1, 1, 1, 1, 1, 1, 1, 1,\n",
      "        1, 0, 0, 0, 0, 0, 0, 0, 0, 0, 0, 0, 0, 0, 0, 0, 0, 0, 0, 0, 0, 0, 0, 0,\n",
      "        0, 0, 0, 0, 0, 0, 0, 0, 0, 0, 0, 0, 0, 0, 0, 0, 0, 0, 0, 0, 0, 0, 0, 0,\n",
      "        0, 0, 0, 0, 0, 0, 0, 0, 0, 0, 0, 0, 0, 0, 0, 0, 0, 0, 0, 0, 0, 0, 0, 0,\n",
      "        0, 0, 0, 0, 0, 0, 0, 0, 0, 0, 0, 0, 0, 0, 0, 0, 0, 0, 0, 0, 0, 0, 0, 0,\n",
      "        0, 0, 0, 0, 0, 0, 0, 0, 0, 0, 0, 0, 0, 0, 0, 0, 0, 0, 0, 0, 0, 0, 0, 0,\n",
      "        0, 0, 0, 0, 0, 0, 0, 0, 0, 0, 0, 0, 0, 0, 0, 0, 0, 0, 0, 0, 0, 0, 0, 0,\n",
      "        0, 0, 0, 0, 0, 0, 0, 0, 0, 0, 0, 0, 0, 0, 0, 0, 0, 0, 0, 0, 0, 0, 0, 0,\n",
      "        0, 0, 0, 0, 0, 0, 0, 0, 0, 0, 0, 0, 0, 0, 0, 0, 0, 0, 0, 0, 0, 0, 0, 0,\n",
      "        0, 0, 0, 0, 0, 0, 0, 0, 0, 0, 0, 0, 0, 0, 0, 0, 0, 0, 0, 0, 0, 0, 0, 0,\n",
      "        0, 0, 0, 0, 0, 0, 0, 0, 0, 0, 0, 0, 0, 0, 0, 0])\n",
      "token_type_ids: tensor([0, 0, 0, 0, 0, 0, 0, 0, 0, 0, 0, 0, 0, 0, 0, 0, 0, 0, 0, 0, 0, 0, 0, 0,\n",
      "        0, 0, 0, 0, 0, 0, 0, 0, 0, 0, 0, 0, 0, 0, 0, 0, 0, 0, 0, 0, 0, 0, 0, 0,\n",
      "        0, 0, 0, 0, 0, 0, 0, 0, 0, 0, 0, 0, 0, 0, 0, 0, 0, 0, 0, 0, 0, 0, 0, 0,\n",
      "        0, 0, 0, 0, 0, 0, 0, 0, 0, 0, 0, 0, 0, 0, 0, 0, 0, 0, 0, 0, 0, 0, 0, 0,\n",
      "        0, 0, 0, 0, 0, 0, 0, 0, 0, 0, 0, 0, 0, 0, 0, 0, 0, 0, 0, 0, 0, 0, 0, 0,\n",
      "        0, 0, 0, 0, 0, 0, 0, 0, 0, 0, 0, 0, 0, 0, 0, 0, 0, 0, 0, 0, 0, 0, 0, 0,\n",
      "        0, 0, 0, 0, 0, 0, 0, 0, 0, 0, 0, 0, 0, 0, 0, 0, 0, 0, 0, 0, 0, 0, 0, 0,\n",
      "        0, 0, 0, 0, 0, 0, 0, 0, 0, 0, 0, 0, 0, 0, 0, 0, 0, 0, 0, 0, 0, 0, 0, 0,\n",
      "        0, 0, 0, 0, 0, 0, 0, 0, 0, 0, 0, 0, 0, 0, 0, 0, 0, 0, 0, 0, 0, 0, 0, 0,\n",
      "        0, 0, 0, 0, 0, 0, 0, 0, 0, 0, 0, 0, 0, 0, 0, 0, 0, 0, 0, 0, 0, 0, 0, 0,\n",
      "        0, 0, 0, 0, 0, 0, 0, 0, 0, 0, 0, 0, 0, 0, 0, 0])\n",
      "labels: tensor([0, 0, 0, 0, 0, 0, 0, 1, 2, 0, 0, 0, 0, 0, 0, 0, 0, 0, 0, 0, 0, 0, 0, 0,\n",
      "        0, 0, 0, 0, 0, 0, 0, 0, 0, 0, 0, 0, 0, 0, 0, 0, 0, 0, 0, 0, 0, 0, 0, 0,\n",
      "        0, 0, 0, 0, 0, 0, 0, 0, 0, 0, 0, 0, 0, 0, 0, 0, 0, 0, 0, 0, 0, 0, 0, 0,\n",
      "        0, 0, 0, 0, 0, 0, 0, 0, 0, 0, 0, 0, 0, 0, 0, 0, 0, 0, 0, 0, 0, 0, 0, 0,\n",
      "        0, 0, 0, 0, 0, 0, 0, 0, 0, 0, 0, 0, 0, 0, 0, 0, 0, 0, 0, 0, 0, 0, 0, 0,\n",
      "        0, 0, 0, 0, 0, 0, 0, 0, 0, 0, 0, 0, 0, 0, 0, 0, 0, 0, 0, 0, 0, 0, 0, 0,\n",
      "        0, 0, 0, 0, 0, 0, 0, 0, 0, 0, 0, 0, 0, 0, 0, 0, 0, 0, 0, 0, 0, 0, 0, 0,\n",
      "        0, 0, 0, 0, 0, 0, 0, 0, 0, 0, 0, 0, 0, 0, 0, 0, 0, 0, 0, 0, 0, 0, 0, 0,\n",
      "        0, 0, 0, 0, 0, 0, 0, 0, 0, 0, 0, 0, 0, 0, 0, 0, 0, 0, 0, 0, 0, 0, 0, 0,\n",
      "        0, 0, 0, 0, 0, 0, 0, 0, 0, 0, 0, 0, 0, 0, 0, 0, 0, 0, 0, 0, 0, 0, 0, 0,\n",
      "        0, 0, 0, 0, 0, 0, 0, 0, 0, 0, 0, 0, 0, 0, 0, 0])\n"
     ]
    }
   ],
   "source": [
    "i = 40\n",
    "print(test_dataset.texts[i])\n",
    "for key, value in test_dataset[i].items():\n",
    "    print(key + ':', value)"
   ]
  },
  {
   "attachments": {
    "image.png": {
     "image/png": "[encoded data removed]"
    }
   },
   "cell_type": "markdown",
   "id": "699221b8",
   "metadata": {
    "heading_collapsed": true
   },
   "source": [
    "## Expériences pré-entraînement\n",
    "\n",
    "Avant de lancer le modèle, quelle _loss_ serait considérée comme statisfaisante ? Calculons à l'avance les loss que donneraient :\n",
    "\n",
    "- un modèle qui prédit aléatoirement \n",
    "- un modèle qui prédit la classe modale (\"O\")\n",
    "- un modèle qui prédit de façon satisfaisante, avec une accuracy donnée*\n",
    "- un modèle oracle (prédiction parfaite)\n",
    "\n",
    "*Remarque : pour deux modèles qui produisent la même accuracy fixée, l'un peut être meilleur que l'autre ! En effet, les probas prédites peuvent être plus ou moins proches de la réalité, même si elles peuvent résulter en des prédictions binaires identiques (et donc en la même accuracy).\n",
    "\n",
    "![image.png](attachment:image.png)"
   ]
  },
  {
   "cell_type": "code",
   "execution_count": 13,
   "id": "844fd1e6",
   "metadata": {
    "ExecuteTime": {
     "end_time": "2022-07-28T18:14:40.026224Z",
     "start_time": "2022-07-28T18:14:39.628323Z"
    },
    "hidden": true
   },
   "outputs": [],
   "source": [
    "loss_ce = nn.CrossEntropyLoss(reduction='mean')\n",
    "y_true = torch.tensor(ordinal_enc_NER.transform(data[['Tag']]), dtype=torch.long).view(-1)\n",
    "\n",
    "y_true_ohe_parfait = torch.tensor(\n",
    "    pd.get_dummies(y_true).astype(float).replace(0, -1234).to_numpy(),\n",
    "    dtype=torch.float\n",
    ")\n",
    "\n",
    "# -3 est un nombre arbitraire qui affecte à la bonne classe une proba de 5%.\n",
    "y_true_ohe = torch.tensor(\n",
    "    pd.get_dummies(y_true).astype(float).replace(0, -3).to_numpy(),\n",
    "    dtype=torch.float\n",
    ")"
   ]
  },
  {
   "cell_type": "code",
   "execution_count": 14,
   "id": "a9ed8633",
   "metadata": {
    "ExecuteTime": {
     "end_time": "2022-07-28T18:14:40.286632Z",
     "start_time": "2022-07-28T18:14:40.027757Z"
    },
    "hidden": true
   },
   "outputs": [
    {
     "name": "stdout",
     "output_type": "stream",
     "text": [
      "Loss oracle : tensor(0.)\n",
      "Loss d'un modèle satisfaisant : tensor(0.1160)\n",
      "Loss du modèle qui prédit argcount : tensor(0.1768)\n",
      "Loss d'un modèle aléatoire : tensor(2.7012)\n"
     ]
    }
   ],
   "source": [
    "#  Modèle oracle :\n",
    "y_pred = y_true_ohe_parfait.detach()\n",
    "print('Loss oracle :', loss_ce(y_pred, y_true))\n",
    "\n",
    "# Modèle avec une accuracy de 98 %\n",
    "# Pour rappel, une accuracy en dessous de 96 % est mauvaise !\n",
    "# → data.Tag.value_counts(normalize=True)\n",
    "accuracy_souhaitée = 0.98\n",
    "nb_lignes_à_erroring = int((1 - accuracy_souhaitée) * y_true.shape[0])\n",
    "y_pred = y_true_ohe.detach()\n",
    "y_pred[0:nb_lignes_à_erroring, :] = shift_tensor(y_pred[0:nb_lignes_à_erroring, :])\n",
    "print(\"Loss d'un modèle satisfaisant :\", loss_ce(y_pred, y_true))\n",
    "\n",
    "# Modèle qui prédit la classe modale : \n",
    "classe_modale = data.Tag.value_counts().nlargest(1).index[0]\n",
    "y_pred = np.full((len(data), num_tag), -3)\n",
    "y_pred[:, int(ordinal_enc_NER.transform([[classe_modale]]).item())] = 1\n",
    "y_pred = torch.tensor(y_pred, dtype=torch.float)\n",
    "print(\"Loss du modèle qui prédit argcount :\", loss_ce(y_pred, y_true))\n",
    "\n",
    "# Modèle aléatoire :\n",
    "y_pred = torch.tensor(\n",
    "    pd.get_dummies(torch.randint(0, num_tag, (len(data),))).astype(float).replace(0, -3).to_numpy(),\n",
    "    dtype=torch.float\n",
    ")\n",
    "print(\"Loss d'un modèle aléatoire :\", loss_ce(y_pred, y_true))"
   ]
  },
  {
   "cell_type": "markdown",
   "id": "c44f7540",
   "metadata": {
    "heading_collapsed": true
   },
   "source": [
    "## Paramétrage"
   ]
  },
  {
   "cell_type": "code",
   "execution_count": 15,
   "id": "12101197",
   "metadata": {
    "ExecuteTime": {
     "end_time": "2022-07-28T18:14:40.522537Z",
     "start_time": "2022-07-28T18:14:40.288299Z"
    },
    "hidden": true
   },
   "outputs": [
    {
     "data": {
      "text/plain": [
       "device(type='cpu')"
      ]
     },
     "execution_count": 15,
     "metadata": {},
     "output_type": "execute_result"
    }
   ],
   "source": [
    "device = torch.device('cuda') if torch.cuda.is_available() else torch.device('cpu')\n",
    "device"
   ]
  },
  {
   "cell_type": "code",
   "execution_count": 16,
   "id": "1cb94d7a",
   "metadata": {
    "ExecuteTime": {
     "end_time": "2022-07-28T18:14:41.805958Z",
     "start_time": "2022-07-28T18:14:40.524137Z"
    },
    "hidden": true
   },
   "outputs": [
    {
     "name": "stderr",
     "output_type": "stream",
     "text": [
      "Some weights of the model checkpoint at data/inputs/models/bert-base-uncased were not used when initializing BertForTokenClassification: ['cls.predictions.decoder.weight', 'cls.predictions.transform.LayerNorm.weight', 'cls.seq_relationship.bias', 'cls.predictions.transform.dense.weight', 'cls.seq_relationship.weight', 'cls.predictions.bias', 'cls.predictions.transform.LayerNorm.bias', 'cls.predictions.transform.dense.bias']\n",
      "- This IS expected if you are initializing BertForTokenClassification from the checkpoint of a model trained on another task or with another architecture (e.g. initializing a BertForSequenceClassification model from a BertForPreTraining model).\n",
      "- This IS NOT expected if you are initializing BertForTokenClassification from the checkpoint of a model that you expect to be exactly identical (initializing a BertForSequenceClassification model from a BertForSequenceClassification model).\n",
      "Some weights of BertForTokenClassification were not initialized from the model checkpoint at data/inputs/models/bert-base-uncased and are newly initialized: ['classifier.bias', 'classifier.weight']\n",
      "You should probably TRAIN this model on a down-stream task to be able to use it for predictions and inference.\n"
     ]
    }
   ],
   "source": [
    "model = EntityModel(num_tag=num_tag)\n",
    "model.to(device);"
   ]
  },
  {
   "cell_type": "code",
   "execution_count": 17,
   "id": "e27acd8a",
   "metadata": {
    "ExecuteTime": {
     "end_time": "2022-07-28T18:14:41.827946Z",
     "start_time": "2022-07-28T18:14:41.807535Z"
    },
    "hidden": true
   },
   "outputs": [],
   "source": [
    "param_optimizer = list(model.named_parameters())\n",
    "no_decay = [\"bias\", \"LayerNorm.bias\", \"LayerNorm.weight\"]"
   ]
  },
  {
   "cell_type": "code",
   "execution_count": 18,
   "id": "07a4cddc",
   "metadata": {
    "ExecuteTime": {
     "end_time": "2022-07-28T18:14:41.850502Z",
     "start_time": "2022-07-28T18:14:41.829516Z"
    },
    "hidden": true
   },
   "outputs": [],
   "source": [
    "optimizer_parameters = [\n",
    "    {\n",
    "        \"params\": [\n",
    "            p for n, p in param_optimizer if not any(nd in n for nd in no_decay)\n",
    "        ],\n",
    "        \"weight_decay\": 0.001,\n",
    "    },\n",
    "    {\n",
    "        \n",
    "        \"params\": [\n",
    "            p for n, p in param_optimizer if any(nd in n for nd in no_decay)\n",
    "        ],\n",
    "        \"weight_decay\": 0.0,\n",
    "    },\n",
    "]"
   ]
  },
  {
   "cell_type": "code",
   "execution_count": 19,
   "id": "e1d1c96e",
   "metadata": {
    "ExecuteTime": {
     "end_time": "2022-07-28T18:14:41.874956Z",
     "start_time": "2022-07-28T18:14:41.853666Z"
    },
    "hidden": true
   },
   "outputs": [
    {
     "name": "stdout",
     "output_type": "stream",
     "text": [
      "1798 batchs vont être envoyés dans le réseau au cours de 2 epochs.\n"
     ]
    }
   ],
   "source": [
    "num_train_steps = int(len(sentences_minitrain) / PARAMS.MODEL.TRAIN_BATCH_SIZE * PARAMS.MODEL.EPOCHS)\n",
    "print(f\"{num_train_steps} batchs vont être envoyés dans le réseau au cours de {PARAMS.MODEL.EPOCHS} epochs.\")\n",
    "\n",
    "optimizer = torch.optim.AdamW(optimizer_parameters, lr=PARAMS.MODEL.LEARNING_RATE)\n",
    "scheduler = get_linear_schedule_with_warmup(\n",
    "    optimizer, num_warmup_steps=0, num_training_steps=num_train_steps\n",
    ")"
   ]
  },
  {
   "cell_type": "markdown",
   "id": "d7295585",
   "metadata": {
    "heading_collapsed": true
   },
   "source": [
    "## Entraînement"
   ]
  },
  {
   "cell_type": "code",
   "execution_count": 20,
   "id": "0a9a548d",
   "metadata": {
    "ExecuteTime": {
     "end_time": "2022-07-28T21:21:35.846728Z",
     "start_time": "2022-07-28T18:14:41.876584Z"
    },
    "hidden": true,
    "scrolled": true
   },
   "outputs": [
    {
     "data": {
      "application/vnd.jupyter.widget-view+json": {
       "model_id": "04091d1e05a04ad59567566cabfde997",
       "version_major": 2,
       "version_minor": 0
      },
      "text/plain": [
       "  0%|          | 0/2 [00:00<?, ?it/s]"
      ]
     },
     "metadata": {},
     "output_type": "display_data"
    },
    {
     "name": "stdout",
     "output_type": "stream",
     "text": [
      "Batch #0 : loss = 1.165236\n",
      "Batch #10 : loss = 0.320315\n",
      "Batch #20 : loss = 0.325595\n",
      "Batch #30 : loss = 0.245898\n",
      "Batch #40 : loss = 0.179366\n",
      "Batch #50 : loss = 0.205223\n",
      "Batch #60 : loss = 0.257891\n",
      "Batch #70 : loss = 0.223360\n",
      "Batch #80 : loss = 0.212335\n",
      "Batch #90 : loss = 0.199407\n",
      "Batch #100 : loss = 0.255920\n",
      "Batch #110 : loss = 0.225137\n",
      "Batch #120 : loss = 0.197723\n",
      "Batch #130 : loss = 0.189815\n",
      "Batch #140 : loss = 0.207400\n",
      "Batch #150 : loss = 0.259790\n",
      "Batch #160 : loss = 0.219603\n",
      "Batch #170 : loss = 0.181440\n",
      "Batch #180 : loss = 0.178033\n",
      "Batch #190 : loss = 0.182992\n",
      "Batch #200 : loss = 0.245723\n",
      "Batch #210 : loss = 0.180438\n",
      "Batch #220 : loss = 0.189914\n",
      "Batch #230 : loss = 0.190706\n",
      "Batch #240 : loss = 0.208270\n",
      "Batch #250 : loss = 0.214599\n",
      "Batch #260 : loss = 0.204330\n",
      "Batch #270 : loss = 0.171218\n",
      "Batch #280 : loss = 0.226916\n",
      "Batch #290 : loss = 0.166133\n",
      "Batch #300 : loss = 0.176692\n",
      "Batch #310 : loss = 0.207779\n",
      "Batch #320 : loss = 0.209532\n",
      "Batch #330 : loss = 0.176477\n",
      "Batch #340 : loss = 0.179219\n",
      "Batch #350 : loss = 0.188372\n",
      "Batch #360 : loss = 0.170941\n",
      "Batch #370 : loss = 0.229887\n",
      "Batch #380 : loss = 0.207375\n",
      "Batch #390 : loss = 0.202967\n",
      "Batch #400 : loss = 0.229896\n",
      "Batch #410 : loss = 0.238006\n",
      "Batch #420 : loss = 0.166748\n",
      "Batch #430 : loss = 0.182137\n",
      "Batch #440 : loss = 0.242577\n",
      "Batch #450 : loss = 0.214664\n",
      "Batch #460 : loss = 0.183641\n",
      "Batch #470 : loss = 0.187685\n",
      "Batch #480 : loss = 0.172331\n",
      "Batch #490 : loss = 0.173721\n",
      "Batch #500 : loss = 0.171494\n",
      "Batch #510 : loss = 0.185737\n",
      "Batch #520 : loss = 0.196190\n",
      "Batch #530 : loss = 0.170658\n",
      "Batch #540 : loss = 0.173467\n",
      "Batch #550 : loss = 0.156390\n",
      "Batch #560 : loss = 0.183886\n",
      "Batch #570 : loss = 0.215406\n",
      "Batch #580 : loss = 0.153566\n",
      "Batch #590 : loss = 0.158835\n",
      "Batch #600 : loss = 0.196877\n",
      "Batch #610 : loss = 0.172716\n",
      "Batch #620 : loss = 0.165319\n",
      "Batch #630 : loss = 0.221445\n",
      "Batch #640 : loss = 0.202664\n",
      "Batch #650 : loss = 0.196179\n",
      "Batch #660 : loss = 0.203514\n",
      "Batch #670 : loss = 0.211971\n",
      "Batch #680 : loss = 0.203881\n",
      "Batch #690 : loss = 0.176135\n",
      "Batch #700 : loss = 0.237506\n",
      "Batch #710 : loss = 0.160566\n",
      "Batch #720 : loss = 0.178675\n",
      "Batch #730 : loss = 0.141854\n",
      "Batch #740 : loss = 0.190175\n",
      "Batch #750 : loss = 0.158439\n",
      "Batch #760 : loss = 0.189753\n",
      "Batch #770 : loss = 0.150073\n",
      "Batch #780 : loss = 0.154376\n",
      "Batch #790 : loss = 0.178074\n",
      "Batch #800 : loss = 0.166490\n",
      "Batch #810 : loss = 0.220244\n",
      "Batch #820 : loss = 0.181427\n",
      "Batch #830 : loss = 0.198564\n",
      "Batch #840 : loss = 0.203966\n",
      "Batch #850 : loss = 0.164809\n",
      "Batch #860 : loss = 0.205301\n",
      "Batch #870 : loss = 0.166652\n",
      "Batch #880 : loss = 0.173814\n",
      "Batch #890 : loss = 0.217554\n",
      "Train Loss = 0.20106974182857407 Valid Loss = 0.06148364263897141\n",
      "Batch #0 : loss = 0.182820\n",
      "Batch #10 : loss = 0.188417\n",
      "Batch #20 : loss = 0.199787\n",
      "Batch #30 : loss = 0.172157\n",
      "Batch #40 : loss = 0.160429\n",
      "Batch #50 : loss = 0.145783\n",
      "Batch #60 : loss = 0.195749\n",
      "Batch #70 : loss = 0.137814\n",
      "Batch #80 : loss = 0.152091\n",
      "Batch #90 : loss = 0.144160\n",
      "Batch #100 : loss = 0.167932\n",
      "Batch #110 : loss = 0.164854\n",
      "Batch #120 : loss = 0.199823\n",
      "Batch #130 : loss = 0.150568\n",
      "Batch #140 : loss = 0.166583\n",
      "Batch #150 : loss = 0.193368\n",
      "Batch #160 : loss = 0.183133\n",
      "Batch #170 : loss = 0.150338\n",
      "Batch #180 : loss = 0.152984\n",
      "Batch #190 : loss = 0.165884\n",
      "Batch #200 : loss = 0.193737\n",
      "Batch #210 : loss = 0.138912\n",
      "Batch #220 : loss = 0.150204\n",
      "Batch #230 : loss = 0.176092\n",
      "Batch #240 : loss = 0.174528\n",
      "Batch #250 : loss = 0.228287\n",
      "Batch #260 : loss = 0.192537\n",
      "Batch #270 : loss = 0.194904\n",
      "Batch #280 : loss = 0.165737\n",
      "Batch #290 : loss = 0.146707\n",
      "Batch #300 : loss = 0.149161\n",
      "Batch #310 : loss = 0.147718\n",
      "Batch #320 : loss = 0.194247\n",
      "Batch #330 : loss = 0.171372\n",
      "Batch #340 : loss = 0.183652\n",
      "Batch #350 : loss = 0.139017\n",
      "Batch #360 : loss = 0.144598\n",
      "Batch #370 : loss = 0.192361\n",
      "Batch #380 : loss = 0.167189\n",
      "Batch #390 : loss = 0.181115\n",
      "Batch #400 : loss = 0.177556\n",
      "Batch #410 : loss = 0.193424\n",
      "Batch #420 : loss = 0.156857\n",
      "Batch #430 : loss = 0.121690\n",
      "Batch #440 : loss = 0.199638\n",
      "Batch #450 : loss = 0.185129\n",
      "Batch #460 : loss = 0.154484\n",
      "Batch #470 : loss = 0.140293\n",
      "Batch #480 : loss = 0.145058\n",
      "Batch #490 : loss = 0.189815\n",
      "Batch #500 : loss = 0.152285\n",
      "Batch #510 : loss = 0.164253\n",
      "Batch #520 : loss = 0.169914\n",
      "Batch #530 : loss = 0.179274\n",
      "Batch #540 : loss = 0.154371\n",
      "Batch #550 : loss = 0.157212\n",
      "Batch #560 : loss = 0.159157\n",
      "Batch #570 : loss = 0.163370\n",
      "Batch #580 : loss = 0.162422\n",
      "Batch #590 : loss = 0.169698\n",
      "Batch #600 : loss = 0.191802\n",
      "Batch #610 : loss = 0.166598\n",
      "Batch #620 : loss = 0.132314\n",
      "Batch #630 : loss = 0.186258\n",
      "Batch #640 : loss = 0.172745\n",
      "Batch #650 : loss = 0.175182\n",
      "Batch #660 : loss = 0.177271\n",
      "Batch #670 : loss = 0.197938\n",
      "Batch #680 : loss = 0.169883\n",
      "Batch #690 : loss = 0.176194\n",
      "Batch #700 : loss = 0.199023\n",
      "Batch #710 : loss = 0.159995\n",
      "Batch #720 : loss = 0.136573\n",
      "Batch #730 : loss = 0.167749\n",
      "Batch #740 : loss = 0.193853\n",
      "Batch #750 : loss = 0.134935\n",
      "Batch #760 : loss = 0.159602\n",
      "Batch #770 : loss = 0.133373\n",
      "Batch #780 : loss = 0.152274\n",
      "Batch #790 : loss = 0.161763\n",
      "Batch #800 : loss = 0.153591\n",
      "Batch #810 : loss = 0.164770\n",
      "Batch #820 : loss = 0.179103\n",
      "Batch #830 : loss = 0.201242\n",
      "Batch #840 : loss = 0.198006\n",
      "Batch #850 : loss = 0.154163\n",
      "Batch #860 : loss = 0.195152\n",
      "Batch #870 : loss = 0.165985\n",
      "Batch #880 : loss = 0.161626\n",
      "Batch #890 : loss = 0.174793\n",
      "Train Loss = 0.1672377789682812 Valid Loss = 0.06138112033717334\n"
     ]
    }
   ],
   "source": [
    "best_loss = np.inf\n",
    "\n",
    "pbar = tqdm(range(PARAMS.MODEL.EPOCHS))\n",
    "for num_epoch, epoch in enumerate(pbar):\n",
    "    train_loss = train_fn(minitrain_data_loader, model, optimizer,\n",
    "                          device, scheduler, pbar=pbar, num_epoch=num_epoch)\n",
    "    \n",
    "    # On évalue le modèle à la fin de chaque epoch\n",
    "    valid_loss = eval_fn(valid_data_loader, model, device)\n",
    "    print(f\"Train Loss = {train_loss} Valid Loss = {valid_loss}\")\n",
    "    \n",
    "    if valid_loss < best_loss:\n",
    "        torch.save(\n",
    "            model.state_dict(), \n",
    "            PARAMS.PATHS_FR.MODEL_SAVED if PARAMS.LANGUAGE == 'fr' else PARAMS.PATHS_EN.MODEL_SAVED\n",
    "        )\n",
    "        best_loss = valid_loss"
   ]
  },
  {
   "cell_type": "markdown",
   "id": "d62f79ff",
   "metadata": {
    "heading_collapsed": true
   },
   "source": [
    "## Prédictions\n",
    "\n",
    "Utilisons le modèle finetuné pour prédire une nouvelle phrase."
   ]
  },
  {
   "cell_type": "code",
   "execution_count": 21,
   "id": "df95eda1",
   "metadata": {
    "ExecuteTime": {
     "end_time": "2022-07-28T21:25:08.519706Z",
     "start_time": "2022-07-28T21:25:07.236683Z"
    },
    "hidden": true,
    "scrolled": false
   },
   "outputs": [
    {
     "name": "stderr",
     "output_type": "stream",
     "text": [
      "Some weights of the model checkpoint at data/inputs/models/bert-base-uncased were not used when initializing BertForTokenClassification: ['cls.predictions.decoder.weight', 'cls.predictions.transform.LayerNorm.weight', 'cls.seq_relationship.bias', 'cls.predictions.transform.dense.weight', 'cls.seq_relationship.weight', 'cls.predictions.bias', 'cls.predictions.transform.LayerNorm.bias', 'cls.predictions.transform.dense.bias']\n",
      "- This IS expected if you are initializing BertForTokenClassification from the checkpoint of a model trained on another task or with another architecture (e.g. initializing a BertForSequenceClassification model from a BertForPreTraining model).\n",
      "- This IS NOT expected if you are initializing BertForTokenClassification from the checkpoint of a model that you expect to be exactly identical (initializing a BertForSequenceClassification model from a BertForSequenceClassification model).\n",
      "Some weights of BertForTokenClassification were not initialized from the model checkpoint at data/inputs/models/bert-base-uncased and are newly initialized: ['classifier.bias', 'classifier.weight']\n",
      "You should probably TRAIN this model on a down-stream task to be able to use it for predictions and inference.\n"
     ]
    },
    {
     "data": {
      "text/plain": [
       "<All keys matched successfully>"
      ]
     },
     "execution_count": 21,
     "metadata": {},
     "output_type": "execute_result"
    }
   ],
   "source": [
    "# On désérialise le meilleur modèle enregistré :\n",
    "model = EntityModel(num_tag=PARAMS.NUM_LABELS)\n",
    "model.load_state_dict(torch.load(f'data/models/model_trained_{PARAMS.LANGUAGE}.bin'))\n",
    "\n",
    "ordinal_enc_NER = joblib.load(f'data/outputs/ordinal_enc_NER_{PARAMS.LANGUAGE}.joblib')"
   ]
  },
  {
   "cell_type": "markdown",
   "id": "3b9b74cd",
   "metadata": {
    "heading_collapsed": true,
    "hidden": true
   },
   "source": [
    "### Prédictions sur l'échantillon Test"
   ]
  },
  {
   "cell_type": "code",
   "execution_count": 22,
   "id": "85e343d2",
   "metadata": {
    "ExecuteTime": {
     "end_time": "2022-07-28T21:25:15.488776Z",
     "start_time": "2022-07-28T21:25:15.394186Z"
    },
    "hidden": true
   },
   "outputs": [
    {
     "name": "stdout",
     "output_type": "stream",
     "text": [
      "On Thursday , Israeli troops killed a Palestinian gunman as he attempted to infiltrate the same settlement , in a botched attack that was claimed by the militant group , Hamas .\n"
     ]
    }
   ],
   "source": [
    "i = 422 # 423\n",
    "single_example = test_dataset[i]\n",
    "print(' '.join(test_dataset.texts[i]))\n",
    "\n",
    "single_example = {k: single_example[k].unsqueeze(0) for k in single_example}\n",
    "with torch.no_grad():\n",
    "    _ = model.eval()\n",
    "    loss, output = model(**single_example)\n",
    "\n",
    "# Retrait des tokens qui ne contribuent pas à la loss (CLS, SEP, PAD) :\n",
    "output = output[single_example['attention_mask'] == 1]\n",
    "\n",
    "predictions_probas = nn.functional.softmax(output, dim=1).detach().squeeze()\n",
    "predictions_probas, predictions_classes = torch.max(predictions_probas, dim=1)"
   ]
  },
  {
   "cell_type": "code",
   "execution_count": 23,
   "id": "0f454072",
   "metadata": {
    "ExecuteTime": {
     "end_time": "2022-07-28T21:25:16.627873Z",
     "start_time": "2022-07-28T21:25:16.574536Z"
    },
    "hidden": true
   },
   "outputs": [
    {
     "data": {
      "text/html": [
       "<div>\n",
       "<style scoped>\n",
       "    .dataframe tbody tr th:only-of-type {\n",
       "        vertical-align: middle;\n",
       "    }\n",
       "\n",
       "    .dataframe tbody tr th {\n",
       "        vertical-align: top;\n",
       "    }\n",
       "\n",
       "    .dataframe thead th {\n",
       "        text-align: right;\n",
       "    }\n",
       "</style>\n",
       "<table border=\"1\" class=\"dataframe\">\n",
       "  <thead>\n",
       "    <tr style=\"text-align: right;\">\n",
       "      <th></th>\n",
       "      <th>0</th>\n",
       "      <th>1</th>\n",
       "      <th>2</th>\n",
       "      <th>3</th>\n",
       "      <th>4</th>\n",
       "      <th>5</th>\n",
       "      <th>6</th>\n",
       "      <th>7</th>\n",
       "      <th>8</th>\n",
       "      <th>9</th>\n",
       "      <th>10</th>\n",
       "      <th>11</th>\n",
       "      <th>12</th>\n",
       "      <th>13</th>\n",
       "      <th>14</th>\n",
       "      <th>15</th>\n",
       "      <th>16</th>\n",
       "      <th>17</th>\n",
       "      <th>18</th>\n",
       "      <th>19</th>\n",
       "      <th>20</th>\n",
       "      <th>21</th>\n",
       "      <th>22</th>\n",
       "      <th>23</th>\n",
       "      <th>24</th>\n",
       "      <th>25</th>\n",
       "      <th>26</th>\n",
       "      <th>27</th>\n",
       "      <th>28</th>\n",
       "      <th>29</th>\n",
       "      <th>30</th>\n",
       "      <th>31</th>\n",
       "      <th>32</th>\n",
       "      <th>33</th>\n",
       "      <th>34</th>\n",
       "      <th>35</th>\n",
       "    </tr>\n",
       "  </thead>\n",
       "  <tbody>\n",
       "    <tr>\n",
       "      <th>token_text</th>\n",
       "      <td>[CLS]</td>\n",
       "      <td>on</td>\n",
       "      <td>thursday</td>\n",
       "      <td>,</td>\n",
       "      <td>israeli</td>\n",
       "      <td>troops</td>\n",
       "      <td>killed</td>\n",
       "      <td>a</td>\n",
       "      <td>palestinian</td>\n",
       "      <td>gun</td>\n",
       "      <td>##man</td>\n",
       "      <td>as</td>\n",
       "      <td>he</td>\n",
       "      <td>attempted</td>\n",
       "      <td>to</td>\n",
       "      <td>infiltrate</td>\n",
       "      <td>the</td>\n",
       "      <td>same</td>\n",
       "      <td>settlement</td>\n",
       "      <td>,</td>\n",
       "      <td>in</td>\n",
       "      <td>a</td>\n",
       "      <td>bot</td>\n",
       "      <td>##ched</td>\n",
       "      <td>attack</td>\n",
       "      <td>that</td>\n",
       "      <td>was</td>\n",
       "      <td>claimed</td>\n",
       "      <td>by</td>\n",
       "      <td>the</td>\n",
       "      <td>militant</td>\n",
       "      <td>group</td>\n",
       "      <td>,</td>\n",
       "      <td>hamas</td>\n",
       "      <td>.</td>\n",
       "      <td>[SEP]</td>\n",
       "    </tr>\n",
       "    <tr>\n",
       "      <th>token_id</th>\n",
       "      <td>101</td>\n",
       "      <td>2006</td>\n",
       "      <td>9432</td>\n",
       "      <td>1010</td>\n",
       "      <td>5611</td>\n",
       "      <td>3629</td>\n",
       "      <td>2730</td>\n",
       "      <td>1037</td>\n",
       "      <td>9302</td>\n",
       "      <td>3282</td>\n",
       "      <td>2386</td>\n",
       "      <td>2004</td>\n",
       "      <td>2002</td>\n",
       "      <td>4692</td>\n",
       "      <td>2000</td>\n",
       "      <td>29543</td>\n",
       "      <td>1996</td>\n",
       "      <td>2168</td>\n",
       "      <td>4093</td>\n",
       "      <td>1010</td>\n",
       "      <td>1999</td>\n",
       "      <td>1037</td>\n",
       "      <td>28516</td>\n",
       "      <td>7690</td>\n",
       "      <td>2886</td>\n",
       "      <td>2008</td>\n",
       "      <td>2001</td>\n",
       "      <td>3555</td>\n",
       "      <td>2011</td>\n",
       "      <td>1996</td>\n",
       "      <td>16830</td>\n",
       "      <td>2177</td>\n",
       "      <td>1010</td>\n",
       "      <td>22129</td>\n",
       "      <td>1012</td>\n",
       "      <td>102</td>\n",
       "    </tr>\n",
       "    <tr>\n",
       "      <th>y_true</th>\n",
       "      <td>O</td>\n",
       "      <td>O</td>\n",
       "      <td>O</td>\n",
       "      <td>O</td>\n",
       "      <td>O</td>\n",
       "      <td>O</td>\n",
       "      <td>O</td>\n",
       "      <td>O</td>\n",
       "      <td>O</td>\n",
       "      <td>O</td>\n",
       "      <td>O</td>\n",
       "      <td>O</td>\n",
       "      <td>O</td>\n",
       "      <td>O</td>\n",
       "      <td>O</td>\n",
       "      <td>O</td>\n",
       "      <td>O</td>\n",
       "      <td>O</td>\n",
       "      <td>O</td>\n",
       "      <td>O</td>\n",
       "      <td>O</td>\n",
       "      <td>O</td>\n",
       "      <td>O</td>\n",
       "      <td>O</td>\n",
       "      <td>O</td>\n",
       "      <td>O</td>\n",
       "      <td>O</td>\n",
       "      <td>O</td>\n",
       "      <td>O</td>\n",
       "      <td>O</td>\n",
       "      <td>O</td>\n",
       "      <td>O</td>\n",
       "      <td>O</td>\n",
       "      <td>B-org</td>\n",
       "      <td>O</td>\n",
       "      <td>O</td>\n",
       "    </tr>\n",
       "    <tr>\n",
       "      <th>pred_label</th>\n",
       "      <td>O</td>\n",
       "      <td>O</td>\n",
       "      <td>O</td>\n",
       "      <td>O</td>\n",
       "      <td>O</td>\n",
       "      <td>O</td>\n",
       "      <td>O</td>\n",
       "      <td>O</td>\n",
       "      <td>O</td>\n",
       "      <td>O</td>\n",
       "      <td>O</td>\n",
       "      <td>O</td>\n",
       "      <td>O</td>\n",
       "      <td>O</td>\n",
       "      <td>O</td>\n",
       "      <td>O</td>\n",
       "      <td>O</td>\n",
       "      <td>O</td>\n",
       "      <td>O</td>\n",
       "      <td>O</td>\n",
       "      <td>O</td>\n",
       "      <td>O</td>\n",
       "      <td>O</td>\n",
       "      <td>O</td>\n",
       "      <td>O</td>\n",
       "      <td>O</td>\n",
       "      <td>O</td>\n",
       "      <td>O</td>\n",
       "      <td>O</td>\n",
       "      <td>O</td>\n",
       "      <td>O</td>\n",
       "      <td>O</td>\n",
       "      <td>O</td>\n",
       "      <td>B-org</td>\n",
       "      <td>O</td>\n",
       "      <td>O</td>\n",
       "    </tr>\n",
       "    <tr>\n",
       "      <th>pred_code</th>\n",
       "      <td>0</td>\n",
       "      <td>0</td>\n",
       "      <td>0</td>\n",
       "      <td>0</td>\n",
       "      <td>0</td>\n",
       "      <td>0</td>\n",
       "      <td>0</td>\n",
       "      <td>0</td>\n",
       "      <td>0</td>\n",
       "      <td>0</td>\n",
       "      <td>0</td>\n",
       "      <td>0</td>\n",
       "      <td>0</td>\n",
       "      <td>0</td>\n",
       "      <td>0</td>\n",
       "      <td>0</td>\n",
       "      <td>0</td>\n",
       "      <td>0</td>\n",
       "      <td>0</td>\n",
       "      <td>0</td>\n",
       "      <td>0</td>\n",
       "      <td>0</td>\n",
       "      <td>0</td>\n",
       "      <td>0</td>\n",
       "      <td>0</td>\n",
       "      <td>0</td>\n",
       "      <td>0</td>\n",
       "      <td>0</td>\n",
       "      <td>0</td>\n",
       "      <td>0</td>\n",
       "      <td>0</td>\n",
       "      <td>0</td>\n",
       "      <td>0</td>\n",
       "      <td>1</td>\n",
       "      <td>0</td>\n",
       "      <td>0</td>\n",
       "    </tr>\n",
       "    <tr>\n",
       "      <th>class_proba</th>\n",
       "      <td>0.999981</td>\n",
       "      <td>0.999982</td>\n",
       "      <td>0.99998</td>\n",
       "      <td>0.999978</td>\n",
       "      <td>0.999976</td>\n",
       "      <td>0.99998</td>\n",
       "      <td>0.999982</td>\n",
       "      <td>0.999982</td>\n",
       "      <td>0.999978</td>\n",
       "      <td>0.999979</td>\n",
       "      <td>0.999982</td>\n",
       "      <td>0.999982</td>\n",
       "      <td>0.999982</td>\n",
       "      <td>0.999982</td>\n",
       "      <td>0.999982</td>\n",
       "      <td>0.99998</td>\n",
       "      <td>0.999981</td>\n",
       "      <td>0.999978</td>\n",
       "      <td>0.999976</td>\n",
       "      <td>0.999979</td>\n",
       "      <td>0.999982</td>\n",
       "      <td>0.999982</td>\n",
       "      <td>0.999982</td>\n",
       "      <td>0.999982</td>\n",
       "      <td>0.999982</td>\n",
       "      <td>0.999982</td>\n",
       "      <td>0.999982</td>\n",
       "      <td>0.999982</td>\n",
       "      <td>0.999981</td>\n",
       "      <td>0.999979</td>\n",
       "      <td>0.999934</td>\n",
       "      <td>0.999945</td>\n",
       "      <td>0.999479</td>\n",
       "      <td>0.995613</td>\n",
       "      <td>0.99998</td>\n",
       "      <td>0.999951</td>\n",
       "    </tr>\n",
       "  </tbody>\n",
       "</table>\n",
       "</div>"
      ],
      "text/plain": [
       "                   0         1         2         3         4        5   \\\n",
       "token_text      [CLS]        on  thursday         ,   israeli   troops   \n",
       "token_id          101      2006      9432      1010      5611     3629   \n",
       "y_true              O         O         O         O         O        O   \n",
       "pred_label          O         O         O         O         O        O   \n",
       "pred_code           0         0         0         0         0        0   \n",
       "class_proba  0.999981  0.999982   0.99998  0.999978  0.999976  0.99998   \n",
       "\n",
       "                   6         7            8         9         10        11  \\\n",
       "token_text     killed         a  palestinian       gun     ##man        as   \n",
       "token_id         2730      1037         9302      3282      2386      2004   \n",
       "y_true              O         O            O         O         O         O   \n",
       "pred_label          O         O            O         O         O         O   \n",
       "pred_code           0         0            0         0         0         0   \n",
       "class_proba  0.999982  0.999982     0.999978  0.999979  0.999982  0.999982   \n",
       "\n",
       "                   12         13        14          15        16        17  \\\n",
       "token_text         he  attempted        to  infiltrate       the      same   \n",
       "token_id         2002       4692      2000       29543      1996      2168   \n",
       "y_true              O          O         O           O         O         O   \n",
       "pred_label          O          O         O           O         O         O   \n",
       "pred_code           0          0         0           0         0         0   \n",
       "class_proba  0.999982   0.999982  0.999982     0.99998  0.999981  0.999978   \n",
       "\n",
       "                     18        19        20        21        22        23  \\\n",
       "token_text   settlement         ,        in         a       bot    ##ched   \n",
       "token_id           4093      1010      1999      1037     28516      7690   \n",
       "y_true                O         O         O         O         O         O   \n",
       "pred_label            O         O         O         O         O         O   \n",
       "pred_code             0         0         0         0         0         0   \n",
       "class_proba    0.999976  0.999979  0.999982  0.999982  0.999982  0.999982   \n",
       "\n",
       "                   24        25        26        27        28        29  \\\n",
       "token_text     attack      that       was   claimed        by       the   \n",
       "token_id         2886      2008      2001      3555      2011      1996   \n",
       "y_true              O         O         O         O         O         O   \n",
       "pred_label          O         O         O         O         O         O   \n",
       "pred_code           0         0         0         0         0         0   \n",
       "class_proba  0.999982  0.999982  0.999982  0.999982  0.999981  0.999979   \n",
       "\n",
       "                   30        31        32        33       34        35  \n",
       "token_text   militant     group         ,     hamas        .     [SEP]  \n",
       "token_id        16830      2177      1010     22129     1012       102  \n",
       "y_true              O         O         O     B-org        O         O  \n",
       "pred_label          O         O         O     B-org        O         O  \n",
       "pred_code           0         0         0         1        0         0  \n",
       "class_proba  0.999934  0.999945  0.999479  0.995613  0.99998  0.999951  "
      ]
     },
     "execution_count": 23,
     "metadata": {},
     "output_type": "execute_result"
    }
   ],
   "source": [
    "nb_tokens = single_example['attention_mask'].sum().item()\n",
    "ids = single_example['input_ids'].squeeze()[:nb_tokens]\n",
    "\n",
    "pd.DataFrame({\n",
    "    'token_text': [EntityDataset.tokenizer.decode([token]) for token in ids],\n",
    "    'token_id': ids,\n",
    "    'y_true': ordinal_enc_NER.inverse_transform(single_example['labels'].squeeze()[:nb_tokens].reshape(-1, 1)).squeeze(),\n",
    "    'pred_label': ordinal_enc_NER.inverse_transform(predictions_classes.reshape(-1, 1)).squeeze(),\n",
    "    'pred_code': predictions_classes,    \n",
    "    'class_proba': predictions_probas\n",
    "}).T"
   ]
  },
  {
   "cell_type": "markdown",
   "id": "45ca1b51",
   "metadata": {
    "ExecuteTime": {
     "end_time": "2022-06-06T16:25:07.435286Z",
     "start_time": "2022-06-06T16:25:07.407011Z"
    },
    "hidden": true
   },
   "source": [
    "On remarque que la base d'entraînement est parfois mal labélisée... cf exemples 415, ou 4222. Sur l'exemple `sentences_test[4222]`, on voit que le modèle arrive même à corriger une erreur de labélisation dans l'échantillon test !"
   ]
  },
  {
   "cell_type": "markdown",
   "id": "a22b7d64",
   "metadata": {
    "heading_collapsed": true,
    "hidden": true
   },
   "source": [
    "### Prédictions sur notre propre texte"
   ]
  },
  {
   "cell_type": "code",
   "execution_count": 26,
   "id": "6e9d772e",
   "metadata": {
    "ExecuteTime": {
     "end_time": "2022-07-28T17:37:18.120245Z",
     "start_time": "2022-07-28T17:37:18.021182Z"
    },
    "hidden": true
   },
   "outputs": [
    {
     "data": {
      "text/html": [
       "<div>\n",
       "<style scoped>\n",
       "    .dataframe tbody tr th:only-of-type {\n",
       "        vertical-align: middle;\n",
       "    }\n",
       "\n",
       "    .dataframe tbody tr th {\n",
       "        vertical-align: top;\n",
       "    }\n",
       "\n",
       "    .dataframe thead th {\n",
       "        text-align: right;\n",
       "    }\n",
       "</style>\n",
       "<table border=\"1\" class=\"dataframe\">\n",
       "  <thead>\n",
       "    <tr style=\"text-align: right;\">\n",
       "      <th></th>\n",
       "      <th>token_id</th>\n",
       "      <th>pred_code</th>\n",
       "      <th>pred_label</th>\n",
       "      <th>class_proba</th>\n",
       "    </tr>\n",
       "    <tr>\n",
       "      <th>token_text</th>\n",
       "      <th></th>\n",
       "      <th></th>\n",
       "      <th></th>\n",
       "      <th></th>\n",
       "    </tr>\n",
       "  </thead>\n",
       "  <tbody>\n",
       "    <tr>\n",
       "      <th>&lt;s&gt;</th>\n",
       "      <td>5</td>\n",
       "      <td>0</td>\n",
       "      <td>O</td>\n",
       "      <td>0.948936</td>\n",
       "    </tr>\n",
       "    <tr>\n",
       "      <th>Dimanche</th>\n",
       "      <td>6818</td>\n",
       "      <td>0</td>\n",
       "      <td>O</td>\n",
       "      <td>0.950873</td>\n",
       "    </tr>\n",
       "    <tr>\n",
       "      <th>19</th>\n",
       "      <td>653</td>\n",
       "      <td>0</td>\n",
       "      <td>O</td>\n",
       "      <td>0.949647</td>\n",
       "    </tr>\n",
       "    <tr>\n",
       "      <th>juin</th>\n",
       "      <td>522</td>\n",
       "      <td>0</td>\n",
       "      <td>O</td>\n",
       "      <td>0.950653</td>\n",
       "    </tr>\n",
       "    <tr>\n",
       "      <th>,</th>\n",
       "      <td>7</td>\n",
       "      <td>0</td>\n",
       "      <td>O</td>\n",
       "      <td>0.951624</td>\n",
       "    </tr>\n",
       "    <tr>\n",
       "      <th>aux</th>\n",
       "      <td>68</td>\n",
       "      <td>0</td>\n",
       "      <td>O</td>\n",
       "      <td>0.951660</td>\n",
       "    </tr>\n",
       "    <tr>\n",
       "      <th>alentours</th>\n",
       "      <td>5660</td>\n",
       "      <td>0</td>\n",
       "      <td>O</td>\n",
       "      <td>0.951429</td>\n",
       "    </tr>\n",
       "    <tr>\n",
       "      <th>de</th>\n",
       "      <td>8</td>\n",
       "      <td>0</td>\n",
       "      <td>O</td>\n",
       "      <td>0.951604</td>\n",
       "    </tr>\n",
       "    <tr>\n",
       "      <th>17</th>\n",
       "      <td>458</td>\n",
       "      <td>0</td>\n",
       "      <td>O</td>\n",
       "      <td>0.951491</td>\n",
       "    </tr>\n",
       "    <tr>\n",
       "      <th>heures</th>\n",
       "      <td>511</td>\n",
       "      <td>0</td>\n",
       "      <td>O</td>\n",
       "      <td>0.951546</td>\n",
       "    </tr>\n",
       "    <tr>\n",
       "      <th>,</th>\n",
       "      <td>7</td>\n",
       "      <td>0</td>\n",
       "      <td>O</td>\n",
       "      <td>0.951602</td>\n",
       "    </tr>\n",
       "    <tr>\n",
       "      <th>un</th>\n",
       "      <td>23</td>\n",
       "      <td>0</td>\n",
       "      <td>O</td>\n",
       "      <td>0.951575</td>\n",
       "    </tr>\n",
       "    <tr>\n",
       "      <th>incendie</th>\n",
       "      <td>9308</td>\n",
       "      <td>0</td>\n",
       "      <td>O</td>\n",
       "      <td>0.950793</td>\n",
       "    </tr>\n",
       "    <tr>\n",
       "      <th>s</th>\n",
       "      <td>52</td>\n",
       "      <td>0</td>\n",
       "      <td>O</td>\n",
       "      <td>0.951477</td>\n",
       "    </tr>\n",
       "    <tr>\n",
       "      <th>’</th>\n",
       "      <td>12</td>\n",
       "      <td>0</td>\n",
       "      <td>O</td>\n",
       "      <td>0.941494</td>\n",
       "    </tr>\n",
       "    <tr>\n",
       "      <th>est</th>\n",
       "      <td>41</td>\n",
       "      <td>0</td>\n",
       "      <td>O</td>\n",
       "      <td>0.951385</td>\n",
       "    </tr>\n",
       "    <tr>\n",
       "      <th>déclaré</th>\n",
       "      <td>1961</td>\n",
       "      <td>0</td>\n",
       "      <td>O</td>\n",
       "      <td>0.951437</td>\n",
       "    </tr>\n",
       "    <tr>\n",
       "      <th>à</th>\n",
       "      <td>15</td>\n",
       "      <td>0</td>\n",
       "      <td>O</td>\n",
       "      <td>0.951554</td>\n",
       "    </tr>\n",
       "    <tr>\n",
       "      <th>l</th>\n",
       "      <td>17</td>\n",
       "      <td>0</td>\n",
       "      <td>O</td>\n",
       "      <td>0.951042</td>\n",
       "    </tr>\n",
       "    <tr>\n",
       "      <th>'</th>\n",
       "      <td>11</td>\n",
       "      <td>0</td>\n",
       "      <td>O</td>\n",
       "      <td>0.948075</td>\n",
       "    </tr>\n",
       "    <tr>\n",
       "      <th>entreprise</th>\n",
       "      <td>797</td>\n",
       "      <td>0</td>\n",
       "      <td>O</td>\n",
       "      <td>0.944053</td>\n",
       "    </tr>\n",
       "    <tr>\n",
       "      <th>Prim</th>\n",
       "      <td>21298</td>\n",
       "      <td>1</td>\n",
       "      <td>B-org</td>\n",
       "      <td>0.809999</td>\n",
       "    </tr>\n",
       "    <tr>\n",
       "      <th>é</th>\n",
       "      <td>141</td>\n",
       "      <td>1</td>\n",
       "      <td>B-org</td>\n",
       "      <td>0.819622</td>\n",
       "    </tr>\n",
       "    <tr>\n",
       "      <th>ale</th>\n",
       "      <td>1387</td>\n",
       "      <td>1</td>\n",
       "      <td>B-org</td>\n",
       "      <td>0.828378</td>\n",
       "    </tr>\n",
       "    <tr>\n",
       "      <th>,</th>\n",
       "      <td>7</td>\n",
       "      <td>0</td>\n",
       "      <td>O</td>\n",
       "      <td>0.951449</td>\n",
       "    </tr>\n",
       "    <tr>\n",
       "      <th>grossiste</th>\n",
       "      <td>21738</td>\n",
       "      <td>0</td>\n",
       "      <td>O</td>\n",
       "      <td>0.950885</td>\n",
       "    </tr>\n",
       "    <tr>\n",
       "      <th>en</th>\n",
       "      <td>22</td>\n",
       "      <td>0</td>\n",
       "      <td>O</td>\n",
       "      <td>0.951568</td>\n",
       "    </tr>\n",
       "    <tr>\n",
       "      <th>fruits</th>\n",
       "      <td>1778</td>\n",
       "      <td>0</td>\n",
       "      <td>O</td>\n",
       "      <td>0.951175</td>\n",
       "    </tr>\n",
       "    <tr>\n",
       "      <th>et</th>\n",
       "      <td>14</td>\n",
       "      <td>0</td>\n",
       "      <td>O</td>\n",
       "      <td>0.951366</td>\n",
       "    </tr>\n",
       "    <tr>\n",
       "      <th>légumes</th>\n",
       "      <td>2968</td>\n",
       "      <td>0</td>\n",
       "      <td>O</td>\n",
       "      <td>0.950294</td>\n",
       "    </tr>\n",
       "    <tr>\n",
       "      <th>.</th>\n",
       "      <td>9</td>\n",
       "      <td>0</td>\n",
       "      <td>O</td>\n",
       "      <td>0.937695</td>\n",
       "    </tr>\n",
       "    <tr>\n",
       "      <th>&lt;/s&gt;</th>\n",
       "      <td>6</td>\n",
       "      <td>0</td>\n",
       "      <td>O</td>\n",
       "      <td>0.936648</td>\n",
       "    </tr>\n",
       "  </tbody>\n",
       "</table>\n",
       "</div>"
      ],
      "text/plain": [
       "            token_id  pred_code pred_label  class_proba\n",
       "token_text                                             \n",
       "<s>                5          0          O     0.948936\n",
       "Dimanche        6818          0          O     0.950873\n",
       "19               653          0          O     0.949647\n",
       "juin             522          0          O     0.950653\n",
       ",                  7          0          O     0.951624\n",
       "aux               68          0          O     0.951660\n",
       "alentours       5660          0          O     0.951429\n",
       "de                 8          0          O     0.951604\n",
       "17               458          0          O     0.951491\n",
       "heures           511          0          O     0.951546\n",
       ",                  7          0          O     0.951602\n",
       "un                23          0          O     0.951575\n",
       "incendie        9308          0          O     0.950793\n",
       "s                 52          0          O     0.951477\n",
       "’                 12          0          O     0.941494\n",
       "est               41          0          O     0.951385\n",
       "déclaré         1961          0          O     0.951437\n",
       "à                 15          0          O     0.951554\n",
       "l                 17          0          O     0.951042\n",
       "'                 11          0          O     0.948075\n",
       "entreprise       797          0          O     0.944053\n",
       "Prim           21298          1      B-org     0.809999\n",
       "é                141          1      B-org     0.819622\n",
       "ale             1387          1      B-org     0.828378\n",
       ",                  7          0          O     0.951449\n",
       "grossiste      21738          0          O     0.950885\n",
       "en                22          0          O     0.951568\n",
       "fruits          1778          0          O     0.951175\n",
       "et                14          0          O     0.951366\n",
       "légumes         2968          0          O     0.950294\n",
       ".                  9          0          O     0.937695\n",
       "</s>               6          0          O     0.936648"
      ]
     },
     "execution_count": 26,
     "metadata": {},
     "output_type": "execute_result"
    }
   ],
   "source": [
    "# Succès\n",
    "doc = \"Le feu s'est déclaré en toute fin d'après-midi au sein de l'entreprise Génération piscine, spécialisée dans la fabrication de coques  polyester de piscines\"\n",
    "doc = \"Un important incendie brûle une dizaine d'hectares à Piolenc. Le feu est parti de la pizzeria dolce vita et a fait au moins 4 morts.\"\n",
    "doc = \"D'importants travaux sont menés par le grand paris express pendant tout l'été.\"\n",
    "doc = 'DIGITALDUNE fabrique des logiciels permettant la conception de maquettes en 3D.'\n",
    "doc = \"Synergie emballage est spécialisée dans le secteur d'activité du sciage et rabotage du bois. Selon les premiers éléments recueillis sur place, le feu serait parti dans l'une des trois travées de stockage de copeaux de bois.\"\n",
    "doc = \"Pour la quatrième fois en un mois, l'équipe du Service incendie de Matane est intervenue à l'usine GDS Valoribois de Matane pour une alerte incendie.\"\n",
    "doc = \"Les équipe de GDS tentent de trouver la source de ce problème récurrent, explique le responsable du service incendie.\"\n",
    "doc = \"Les locaux de l'entreprise CPMO, entreprise de machines-outils, ont totalement été détruits par les flammes dans la nuit de dimanche à lundi.\"\n",
    "doc = \"Coup de chaud pour l'entreprise Recaero. Basée dans le parc technologique Delta Sud à Verniolle, l'industrie aéronautique qui fait du traitement de surface et de l'usinage a eu une grosse frayeur ce mercredi 15 juin\"\n",
    "doc = \"L’incendie est parti du premier étage du bâtiment de l’entreprise TGS.\"\n",
    "doc = \"Un incendie s'est déclaré ce vendredi vers 13h30 à La-Tour-en-Maurienne (Savoie) à l'usine Poudres Hermillon, qui fabrique de la poudre d'aluminium.\"\n",
    "doc = \"Il était aux alentours de 21 heures samedi 18 juin 2022 quand une coupure totale d’électricité s’est produite dans l’usine Mat Friction, seul fabricant français de plaquettes de frein.\"\n",
    "doc = \"La cuve d'une chaudière à huile a pris feu dans un local de l’entreprise de Calaire Chimie.\"\n",
    "doc = \"Samedi 18 juin vers 15 h 30, les pompiers sont intervenus sur un feu qui s’était déclaré dans un bâtiment de stockage de l’entreprise Méricq, au sein de la zone d’activité Mestre-Marty à Estillac.\"\n",
    "doc = \"Dimanche 19 juin, aux alentours de 17 heures, un incendie s’est déclaré à l'entreprise Priméale, grossiste en fruits et légumes.\"\n",
    "\n",
    "\n",
    "# Fail mais de peu\n",
    "# doc = \"Un incendie majeur touche l'usine de recyclage de Smurfit Kappa au Royaume-Uni.\"\n",
    "# doc = 'Un incendie dans la nuit de lundi à mardi à Annecy dans un supermarché Carrefour, celui situé rue de Genève.' # + 'de', et ça passe\n",
    "# doc = \"Ce lundi 13 juin, un important feu a ravagé le camping de l'Espiguette, situé au Grau-du-Roi, dans le Gard\"\n",
    "# doc = \"L'entreprise Florentaise est spécialisée dans la fabrication de composts végétaux. Vers minuit, le feu est parti d'un tableau électrique.\" # Florentin, et ça passe\n",
    "# doc = \"Un incendie s’est déclaré jeudi soir à l’usine de traitement de déchets de Vadec, à Colombier.\"\n",
    "# doc = \"Lorsque le feu a pris dans le hall principal de la scierie Girard, rue Jean-Louis Guiot dans la zone industrielle de Neuve-Église (vallée de Villé).\"\n",
    "# doc = \"Un transformateur électrique de 20 000 volts situé à proximité immédiate de l'entreprise Saunier-Duval, à Nantes, a pris feu vers 1 h du matin, dimanche 19 juin. Il n’y a pas eu de blessé.\"\n",
    "\n",
    "df = prédit_single_doc(doc, model=model, tokenizer=EntityDataset.tokenizer, \n",
    "                      max_length=PARAMS.MODEL.MAX_SENTENCE_LEN, \n",
    "                      label_enc=ordinal_enc_NER)\n",
    "df"
   ]
  },
  {
   "cell_type": "code",
   "execution_count": null,
   "id": "81b2b3aa",
   "metadata": {
    "hidden": true
   },
   "outputs": [],
   "source": []
  }
 ],
 "metadata": {
  "jupytext": {
   "encoding": "# -*- coding: utf-8 -*-",
   "text_representation": {
    "extension": ".py",
    "format_name": "light",
    "format_version": "1.5",
    "jupytext_version": "1.11.1"
   }
  },
  "kernelspec": {
   "display_name": "parc_v1",
   "language": "python",
   "name": "parc_v1"
  },
  "language_info": {
   "codemirror_mode": {
    "name": "ipython",
    "version": 3
   },
   "file_extension": ".py",
   "mimetype": "text/x-python",
   "name": "python",
   "nbconvert_exporter": "python",
   "pygments_lexer": "ipython3",
   "version": "3.6.8"
  },
  "notify_time": "10",
  "toc": {
   "base_numbering": 1,
   "nav_menu": {},
   "number_sections": true,
   "sideBar": true,
   "skip_h1_title": false,
   "title_cell": "Table of Contents",
   "title_sidebar": "Contents",
   "toc_cell": false,
   "toc_position": {},
   "toc_section_display": true,
   "toc_window_display": false
  }
 },
 "nbformat": 4,
 "nbformat_minor": 5
}
