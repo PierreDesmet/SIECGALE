{
 "cells": [
  {
   "cell_type": "markdown",
   "id": "ed671d04",
   "metadata": {
    "cell_style": "center"
   },
   "source": [
    "# 1 - NER PyTorch\n",
    "\n",
    "\n",
    "**Sources** :\n",
    "- Source de données Kaggle : https://www.kaggle.com/datasets/abhinavwalia95/entity-annotated-corpus\n",
    "- Tuto Abishek : https://www.youtube.com/watch?v=MqQ7rqRllIc\n",
    "\n",
    "**TODO**\n",
    "- [x] changer le padding par une autre valeur -> pas besoin en définitive.\n",
    "- [x] set num workers (minitrain, valid et test)\n",
    "- [x] peut-on monter la taille des batchs ?\n",
    "- [x] stratifier les splits\n",
    "- [x] enregistrer la running loss\n",
    "- [ ] est-on sûr que les special tokens ne contribuent pas à la loss ?\n",
    "- [ ] vérifier que le code <a href=\"https://www.kaggle.com/code/abhishek/entity-extraction-model-using-bert-pytorch\">ici</a> est le bon\n",
    "- [ ] gradual unfreezing\n",
    "- [ ] early stopping avec lightning\n",
    "- [ ] POS des mots autour\n",
    "- [ ] wandb"
   ]
  },
  {
   "cell_type": "code",
   "execution_count": 1,
   "id": "d3368041",
   "metadata": {
    "ExecuteTime": {
     "end_time": "2022-07-26T18:42:54.168000Z",
     "start_time": "2022-07-26T18:42:52.360222Z"
    }
   },
   "outputs": [
    {
     "name": "stderr",
     "output_type": "stream",
     "text": [
      "I0726 18:42:53.989986 140089878529856 modeling.py:230] Better speed can be achieved with apex installed from https://www.github.com/nvidia/apex .\n"
     ]
    }
   ],
   "source": [
    "%load_ext autoreload\n",
    "%autoreload 2\n",
    "\n",
    "import os\n",
    "import time\n",
    "\n",
    "import joblib\n",
    "import torch\n",
    "from sklearn.model_selection import train_test_split\n",
    "from torch import nn\n",
    "from torch.utils.data import DataLoader\n",
    "from tqdm.notebook import tqdm\n",
    "from transformers import get_linear_schedule_with_warmup\n",
    "\n",
    "os.chdir('..')\n",
    "\n",
    "from ner_pytorch.config.params import PARAMS\n",
    "from ner_pytorch.dataset import EntityDataset\n",
    "from ner_pytorch.engine import eval_fn, train_fn\n",
    "from ner_pytorch.model import EntityModel\n",
    "from ner_pytorch.preprocessing import process_data\n",
    "from ner_pytorch.utils import *"
   ]
  },
  {
   "cell_type": "markdown",
   "id": "aff67c25",
   "metadata": {
    "heading_collapsed": true
   },
   "source": [
    "## Chargement des données"
   ]
  },
  {
   "cell_type": "code",
   "execution_count": 5,
   "id": "a89d2905",
   "metadata": {
    "ExecuteTime": {
     "end_time": "2022-07-11T09:09:21.136649Z",
     "start_time": "2022-07-11T09:09:20.348921Z"
    },
    "hidden": true
   },
   "outputs": [
    {
     "data": {
      "text/html": [
       "<div>\n",
       "<style scoped>\n",
       "    .dataframe tbody tr th:only-of-type {\n",
       "        vertical-align: middle;\n",
       "    }\n",
       "\n",
       "    .dataframe tbody tr th {\n",
       "        vertical-align: top;\n",
       "    }\n",
       "\n",
       "    .dataframe thead th {\n",
       "        text-align: right;\n",
       "    }\n",
       "</style>\n",
       "<table border=\"1\" class=\"dataframe\">\n",
       "  <thead>\n",
       "    <tr style=\"text-align: right;\">\n",
       "      <th></th>\n",
       "      <th>Sentence #</th>\n",
       "      <th>Word</th>\n",
       "      <th>Tag</th>\n",
       "    </tr>\n",
       "  </thead>\n",
       "  <tbody>\n",
       "    <tr>\n",
       "      <th>0</th>\n",
       "      <td>Sentence: 1</td>\n",
       "      <td>Thousands</td>\n",
       "      <td>O</td>\n",
       "    </tr>\n",
       "    <tr>\n",
       "      <th>1</th>\n",
       "      <td>Sentence: 1</td>\n",
       "      <td>of</td>\n",
       "      <td>O</td>\n",
       "    </tr>\n",
       "    <tr>\n",
       "      <th>2</th>\n",
       "      <td>Sentence: 1</td>\n",
       "      <td>demonstrators</td>\n",
       "      <td>O</td>\n",
       "    </tr>\n",
       "    <tr>\n",
       "      <th>3</th>\n",
       "      <td>Sentence: 1</td>\n",
       "      <td>have</td>\n",
       "      <td>O</td>\n",
       "    </tr>\n",
       "    <tr>\n",
       "      <th>4</th>\n",
       "      <td>Sentence: 1</td>\n",
       "      <td>marched</td>\n",
       "      <td>O</td>\n",
       "    </tr>\n",
       "    <tr>\n",
       "      <th>5</th>\n",
       "      <td>Sentence: 1</td>\n",
       "      <td>through</td>\n",
       "      <td>O</td>\n",
       "    </tr>\n",
       "    <tr>\n",
       "      <th>6</th>\n",
       "      <td>Sentence: 1</td>\n",
       "      <td>London</td>\n",
       "      <td>B-geo</td>\n",
       "    </tr>\n",
       "  </tbody>\n",
       "</table>\n",
       "</div>"
      ],
      "text/plain": [
       "    Sentence #           Word    Tag\n",
       "0  Sentence: 1      Thousands      O\n",
       "1  Sentence: 1             of      O\n",
       "2  Sentence: 1  demonstrators      O\n",
       "3  Sentence: 1           have      O\n",
       "4  Sentence: 1        marched      O\n",
       "5  Sentence: 1        through      O\n",
       "6  Sentence: 1         London  B-geo"
      ]
     },
     "execution_count": 5,
     "metadata": {},
     "output_type": "execute_result"
    }
   ],
   "source": [
    "data = pd.read_csv(PARAMS.PATHS_EN.TRAIN, encoding='latin-1').drop('POS', axis=1)\n",
    "data[\"Sentence #\"] = data[\"Sentence #\"].fillna(method='ffill')\n",
    "data.head(7)"
   ]
  },
  {
   "cell_type": "markdown",
   "id": "4e373f1c",
   "metadata": {
    "hidden": true
   },
   "source": [
    "En réalité, nous ne nous intéressons qu'à la prédiction des ORG, pour lesquelles 3 labels sont possibles :\n",
    "- B-org\n",
    "- I-org\n",
    "- O"
   ]
  },
  {
   "cell_type": "code",
   "execution_count": 6,
   "id": "99c77a15",
   "metadata": {
    "ExecuteTime": {
     "end_time": "2022-07-11T09:09:31.420625Z",
     "start_time": "2022-07-11T09:09:31.079298Z"
    },
    "hidden": true
   },
   "outputs": [
    {
     "data": {
      "text/plain": [
       "O        0.964784\n",
       "B-org    0.019210\n",
       "I-org    0.016006\n",
       "Name: Tag, dtype: float64"
      ]
     },
     "execution_count": 6,
     "metadata": {},
     "output_type": "execute_result"
    }
   ],
   "source": [
    "data['Tag'] = data.Tag.mask(~data.Tag.isin(['B-org', 'I-org', 'O']), 'O')\n",
    "data.Tag.value_counts(normalize=True)"
   ]
  },
  {
   "cell_type": "code",
   "execution_count": 7,
   "id": "2eb99f73",
   "metadata": {
    "ExecuteTime": {
     "end_time": "2022-07-11T09:09:45.617701Z",
     "start_time": "2022-07-11T09:09:45.516647Z"
    },
    "hidden": true,
    "scrolled": true
   },
   "outputs": [
    {
     "name": "stdout",
     "output_type": "stream",
     "text": [
      "Tag 3 categories : ['O' 'B-org' 'I-org']\n",
      "\n"
     ]
    },
    {
     "data": {
      "text/plain": [
       "(1048575, 3)"
      ]
     },
     "execution_count": 7,
     "metadata": {},
     "output_type": "execute_result"
    },
    {
     "data": {
      "text/html": [
       "<div>\n",
       "<style scoped>\n",
       "    .dataframe tbody tr th:only-of-type {\n",
       "        vertical-align: middle;\n",
       "    }\n",
       "\n",
       "    .dataframe tbody tr th {\n",
       "        vertical-align: top;\n",
       "    }\n",
       "\n",
       "    .dataframe thead th {\n",
       "        text-align: right;\n",
       "    }\n",
       "</style>\n",
       "<table border=\"1\" class=\"dataframe\">\n",
       "  <thead>\n",
       "    <tr style=\"text-align: right;\">\n",
       "      <th></th>\n",
       "      <th>Sentence #</th>\n",
       "      <th>Word</th>\n",
       "      <th>Tag</th>\n",
       "    </tr>\n",
       "  </thead>\n",
       "  <tbody>\n",
       "    <tr>\n",
       "      <th>153</th>\n",
       "      <td>Sentence: 8</td>\n",
       "      <td>The</td>\n",
       "      <td>O</td>\n",
       "    </tr>\n",
       "    <tr>\n",
       "      <th>154</th>\n",
       "      <td>Sentence: 8</td>\n",
       "      <td>International</td>\n",
       "      <td>B-org</td>\n",
       "    </tr>\n",
       "    <tr>\n",
       "      <th>155</th>\n",
       "      <td>Sentence: 8</td>\n",
       "      <td>Atomic</td>\n",
       "      <td>I-org</td>\n",
       "    </tr>\n",
       "    <tr>\n",
       "      <th>156</th>\n",
       "      <td>Sentence: 8</td>\n",
       "      <td>Energy</td>\n",
       "      <td>I-org</td>\n",
       "    </tr>\n",
       "    <tr>\n",
       "      <th>157</th>\n",
       "      <td>Sentence: 8</td>\n",
       "      <td>Agency</td>\n",
       "      <td>I-org</td>\n",
       "    </tr>\n",
       "    <tr>\n",
       "      <th>158</th>\n",
       "      <td>Sentence: 8</td>\n",
       "      <td>is</td>\n",
       "      <td>O</td>\n",
       "    </tr>\n",
       "    <tr>\n",
       "      <th>159</th>\n",
       "      <td>Sentence: 8</td>\n",
       "      <td>to</td>\n",
       "      <td>O</td>\n",
       "    </tr>\n",
       "  </tbody>\n",
       "</table>\n",
       "</div>"
      ],
      "text/plain": [
       "      Sentence #           Word    Tag\n",
       "153  Sentence: 8            The      O\n",
       "154  Sentence: 8  International  B-org\n",
       "155  Sentence: 8         Atomic  I-org\n",
       "156  Sentence: 8         Energy  I-org\n",
       "157  Sentence: 8         Agency  I-org\n",
       "158  Sentence: 8             is      O\n",
       "159  Sentence: 8             to      O"
      ]
     },
     "execution_count": 7,
     "metadata": {},
     "output_type": "execute_result"
    }
   ],
   "source": [
    "num_tag = data.Tag.nunique()\n",
    "print(f'Tag {num_tag} categories :', data.Tag.unique(), end='\\n\\n')\n",
    "\n",
    "data.shape\n",
    "data[153:160]"
   ]
  },
  {
   "cell_type": "code",
   "execution_count": 5,
   "id": "596ddef6",
   "metadata": {
    "ExecuteTime": {
     "end_time": "2022-06-26T08:26:52.346399Z",
     "start_time": "2022-06-26T08:26:48.782232Z"
    },
    "hidden": true
   },
   "outputs": [
    {
     "data": {
      "text/plain": [
       "['data/outputs/ordinal_enc_NER.joblib']"
      ]
     },
     "execution_count": 5,
     "metadata": {},
     "output_type": "execute_result"
    }
   ],
   "source": [
    "sentences, tag, ordinal_enc_NER = process_data(data)\n",
    "joblib.dump(ordinal_enc_NER, 'data/outputs/ordinal_enc_NER.joblib')"
   ]
  },
  {
   "cell_type": "code",
   "execution_count": 6,
   "id": "05a4e7a3",
   "metadata": {
    "ExecuteTime": {
     "end_time": "2022-06-26T08:26:52.372052Z",
     "start_time": "2022-06-26T08:26:52.348727Z"
    },
    "hidden": true
   },
   "outputs": [
    {
     "name": "stdout",
     "output_type": "stream",
     "text": [
      "['In', 'Beirut', ',', 'a', 'string', 'of', 'officials', 'voiced', 'their', 'anger', ',', 'while', 'at', 'the', 'United', 'Nations', 'summit', 'in', 'New', 'York', ',', 'Prime', 'Minister', 'Fouad', 'Siniora', 'said', 'the', 'Lebanese', 'people', 'are', 'resolute', 'in', 'preventing', 'such', 'attempts', 'from', 'destroying', 'their', 'spirit', '.']\n",
      "[0.0, 0.0, 0.0, 0.0, 0.0, 0.0, 0.0, 0.0, 0.0, 0.0, 0.0, 0.0, 0.0, 0.0, 1.0, 2.0, 0.0, 0.0, 0.0, 0.0, 0.0, 0.0, 0.0, 0.0, 0.0, 0.0, 0.0, 0.0, 0.0, 0.0, 0.0, 0.0, 0.0, 0.0, 0.0, 0.0, 0.0, 0.0, 0.0, 0.0]\n",
      "[array(['O', 'B-org', 'I-org'], dtype=object)]\n"
     ]
    }
   ],
   "source": [
    "# Démo : \n",
    "i = 10\n",
    "print(sentences[i], end='\\n')\n",
    "print(tag[i], end='\\n')\n",
    "print(ordinal_enc_NER.categories_, end='\\n')"
   ]
  },
  {
   "cell_type": "markdown",
   "id": "c590afff",
   "metadata": {},
   "source": [
    "## Split du jeu de données\n",
    "On split notre jeu de données de la façon suivante :\n",
    "- `test` = 20%\n",
    "- `train` = [`minitrain`, `valid`] = 80%\n",
    "- `minitrain` = 60%\n",
    "- `valid` = 20%"
   ]
  },
  {
   "cell_type": "code",
   "execution_count": 7,
   "id": "2941807d",
   "metadata": {
    "ExecuteTime": {
     "end_time": "2022-06-26T08:26:59.261911Z",
     "start_time": "2022-06-26T08:26:58.904193Z"
    }
   },
   "outputs": [
    {
     "data": {
      "text/plain": [
       "0.0    0.964808\n",
       "1.0    0.019224\n",
       "2.0    0.015968\n",
       "dtype: float64"
      ]
     },
     "execution_count": 7,
     "metadata": {},
     "output_type": "execute_result"
    },
    {
     "data": {
      "text/plain": [
       "0.0    0.965036\n",
       "1.0    0.018949\n",
       "2.0    0.016014\n",
       "dtype: float64"
      ]
     },
     "execution_count": 7,
     "metadata": {},
     "output_type": "execute_result"
    },
    {
     "data": {
      "text/plain": [
       "(28777, 9591, 9591)"
      ]
     },
     "execution_count": 7,
     "metadata": {},
     "output_type": "execute_result"
    }
   ],
   "source": [
    "len_test = int(PARAMS.SAMPLE_SIZES.TEST * len(sentences))\n",
    "len_valid = int(PARAMS.SAMPLE_SIZES.VALID * len(sentences))\n",
    "autre = ordinal_enc_NER.transform([['O']]).item()\n",
    "\n",
    "# En présence d'un jeu déséquilibré, il vaut mieux stratifier :\n",
    "strat_tag = [len([_ for _ in tag[i] if _ != autre]) > 0 for i in range(len(tag))]\n",
    "(\n",
    "    sentences_train, sentences_test,\n",
    "    tag_train, tag_test\n",
    ") = train_test_split(sentences, tag, random_state=PARAMS.SEED, \n",
    "                     test_size=len_test, stratify=strat_tag, shuffle=True)\n",
    "\n",
    "strat_tag_train = [len([_ for _ in tag_train[i] if _ != autre]) > 0 for i in range(len(tag_train))]\n",
    "(\n",
    "    sentences_minitrain, sentences_valid,\n",
    "    tag_minitrain, tag_valid\n",
    ") = train_test_split(sentences_train, tag_train, random_state=PARAMS.SEED, \n",
    "                     test_size=len_valid, stratify=strat_tag_train, shuffle=True)\n",
    "\n",
    "# Pour se rassurer sur la bonne représentativité de chaque classe dans les échantillons stratifiés : \n",
    "pd.Series(np.concatenate(tag_train)).value_counts(normalize=True)\n",
    "pd.Series(np.concatenate(tag_valid)).value_counts(normalize=True)\n",
    "\n",
    "len(sentences_minitrain), len(sentences_valid), len(sentences_test)"
   ]
  },
  {
   "cell_type": "code",
   "execution_count": 8,
   "id": "f6f7dba3",
   "metadata": {
    "ExecuteTime": {
     "end_time": "2022-06-26T08:26:59.656983Z",
     "start_time": "2022-06-26T08:26:59.631566Z"
    }
   },
   "outputs": [],
   "source": [
    "minitrain_dataset = EntityDataset(\n",
    "    texts=sentences_minitrain, tags=tag_minitrain\n",
    ")\n",
    "minitrain_data_loader = DataLoader(\n",
    "    minitrain_dataset, batch_size=PARAMS.MODEL.TRAIN_BATCH_SIZE, num_workers=16 \n",
    ")\n",
    "\n",
    "valid_dataset = EntityDataset(\n",
    "    texts=sentences_valid, tags=tag_valid\n",
    ")\n",
    "valid_data_loader = DataLoader(\n",
    "    valid_dataset, batch_size=PARAMS.MODEL.VALID_BATCH_SIZE, num_workers=16\n",
    ")\n",
    "\n",
    "test_dataset = EntityDataset(\n",
    "    texts=sentences_test, tags=tag_test\n",
    ")\n",
    "test_data_loader = DataLoader(\n",
    "    test_dataset, batch_size=PARAMS.MODEL.VALID_BATCH_SIZE, num_workers=16\n",
    ")"
   ]
  },
  {
   "cell_type": "code",
   "execution_count": 9,
   "id": "621ebe1c",
   "metadata": {
    "ExecuteTime": {
     "end_time": "2022-06-26T08:27:00.612207Z",
     "start_time": "2022-06-26T08:27:00.580994Z"
    }
   },
   "outputs": [
    {
     "name": "stdout",
     "output_type": "stream",
     "text": [
      "['The', 'Spanish', 'troops', 'will', 'join', 'the', 'European', 'Union', 'force', 'sent', 'to', 'protect', 'ships', 'against', 'hijackings', 'and', 'attacks', 'by', 'Somali', 'pirates', '.']\n",
      "ids: tensor([  101,  1996,  3009,  3629,  2097,  3693,  1996,  2647,  2586,  2486,\n",
      "         2741,  2000,  4047,  3719,  2114,  7632, 17364,  8613,  1998,  4491,\n",
      "         2011, 16831,  8350,  1012,   102,     0,     0,     0,     0,     0,\n",
      "            0,     0,     0,     0,     0,     0,     0,     0,     0,     0,\n",
      "            0,     0,     0,     0,     0,     0,     0,     0,     0,     0,\n",
      "            0,     0,     0,     0,     0,     0,     0,     0,     0,     0,\n",
      "            0,     0,     0,     0,     0,     0,     0,     0,     0,     0,\n",
      "            0,     0,     0,     0,     0,     0,     0,     0,     0,     0,\n",
      "            0,     0,     0,     0,     0,     0,     0,     0,     0,     0,\n",
      "            0,     0,     0,     0,     0,     0,     0,     0,     0,     0,\n",
      "            0,     0,     0,     0,     0,     0,     0,     0,     0,     0,\n",
      "            0,     0,     0,     0,     0,     0,     0,     0,     0,     0,\n",
      "            0,     0,     0,     0,     0,     0,     0,     0])\n",
      "mask: tensor([1, 1, 1, 1, 1, 1, 1, 1, 1, 1, 1, 1, 1, 1, 1, 1, 1, 1, 1, 1, 1, 1, 1, 1,\n",
      "        1, 0, 0, 0, 0, 0, 0, 0, 0, 0, 0, 0, 0, 0, 0, 0, 0, 0, 0, 0, 0, 0, 0, 0,\n",
      "        0, 0, 0, 0, 0, 0, 0, 0, 0, 0, 0, 0, 0, 0, 0, 0, 0, 0, 0, 0, 0, 0, 0, 0,\n",
      "        0, 0, 0, 0, 0, 0, 0, 0, 0, 0, 0, 0, 0, 0, 0, 0, 0, 0, 0, 0, 0, 0, 0, 0,\n",
      "        0, 0, 0, 0, 0, 0, 0, 0, 0, 0, 0, 0, 0, 0, 0, 0, 0, 0, 0, 0, 0, 0, 0, 0,\n",
      "        0, 0, 0, 0, 0, 0, 0, 0])\n",
      "token_type_ids: tensor([0, 0, 0, 0, 0, 0, 0, 0, 0, 0, 0, 0, 0, 0, 0, 0, 0, 0, 0, 0, 0, 0, 0, 0,\n",
      "        0, 0, 0, 0, 0, 0, 0, 0, 0, 0, 0, 0, 0, 0, 0, 0, 0, 0, 0, 0, 0, 0, 0, 0,\n",
      "        0, 0, 0, 0, 0, 0, 0, 0, 0, 0, 0, 0, 0, 0, 0, 0, 0, 0, 0, 0, 0, 0, 0, 0,\n",
      "        0, 0, 0, 0, 0, 0, 0, 0, 0, 0, 0, 0, 0, 0, 0, 0, 0, 0, 0, 0, 0, 0, 0, 0,\n",
      "        0, 0, 0, 0, 0, 0, 0, 0, 0, 0, 0, 0, 0, 0, 0, 0, 0, 0, 0, 0, 0, 0, 0, 0,\n",
      "        0, 0, 0, 0, 0, 0, 0, 0])\n",
      "target_tag: tensor([0, 0, 0, 0, 0, 0, 0, 1, 2, 0, 0, 0, 0, 0, 0, 0, 0, 0, 0, 0, 0, 0, 0, 0,\n",
      "        0, 0, 0, 0, 0, 0, 0, 0, 0, 0, 0, 0, 0, 0, 0, 0, 0, 0, 0, 0, 0, 0, 0, 0,\n",
      "        0, 0, 0, 0, 0, 0, 0, 0, 0, 0, 0, 0, 0, 0, 0, 0, 0, 0, 0, 0, 0, 0, 0, 0,\n",
      "        0, 0, 0, 0, 0, 0, 0, 0, 0, 0, 0, 0, 0, 0, 0, 0, 0, 0, 0, 0, 0, 0, 0, 0,\n",
      "        0, 0, 0, 0, 0, 0, 0, 0, 0, 0, 0, 0, 0, 0, 0, 0, 0, 0, 0, 0, 0, 0, 0, 0,\n",
      "        0, 0, 0, 0, 0, 0, 0, 0])\n"
     ]
    }
   ],
   "source": [
    "i = 40\n",
    "print(test_dataset.texts[i])\n",
    "for key, value in test_dataset[i].items():\n",
    "    print(key + ':', value)"
   ]
  },
  {
   "attachments": {
    "image.png": {
     "image/png": "[encoded data removed]"
    }
   },
   "cell_type": "markdown",
   "id": "489844e9",
   "metadata": {
    "heading_collapsed": true
   },
   "source": [
    "## Expériences pré-entraînement\n",
    "\n",
    "Avant de lancer le modèle, quelle _loss_ serait considérée comme statisfaisante ? Calculons à l'avance les loss que donneraient :\n",
    "\n",
    "- un modèle qui prédit aléatoirement \n",
    "- un modèle qui prédit la classe modale (\"O\")\n",
    "- un modèle qui prédit de façon satisfaisante, avec une accuracy donnée*\n",
    "- un modèle oracle (prédiction parfaite)\n",
    "\n",
    "*Remarque : pour deux modèles qui produisent la même accuracy fixée, l'un peut être meilleur que l'autre ! En effet, les probas prédites peuvent être plus ou moins proches de la réalité, même si elles peuvent résulter en des prédictions binaires identiques (et donc en la même accuracy).\n",
    "\n",
    "![image.png](attachment:image.png)"
   ]
  },
  {
   "cell_type": "code",
   "execution_count": 10,
   "id": "b9b90431",
   "metadata": {
    "ExecuteTime": {
     "end_time": "2022-06-26T08:27:07.845723Z",
     "start_time": "2022-06-26T08:27:07.382439Z"
    },
    "hidden": true
   },
   "outputs": [],
   "source": [
    "loss_ce = nn.CrossEntropyLoss(reduction='mean')\n",
    "y_true = torch.tensor(ordinal_enc_NER.transform(data[['Tag']]), dtype=torch.long).view(-1)\n",
    "\n",
    "y_true_ohe_parfait = torch.tensor(\n",
    "    pd.get_dummies(y_true).astype(float).replace(0, -1234).to_numpy(),\n",
    "    dtype=torch.float\n",
    ")\n",
    "\n",
    "# -3 est un nombre arbitraire qui affecte à la bonne classe une proba de 5%.\n",
    "y_true_ohe = torch.tensor(\n",
    "    pd.get_dummies(y_true).astype(float).replace(0, -3).to_numpy(),\n",
    "    dtype=torch.float\n",
    ")"
   ]
  },
  {
   "cell_type": "code",
   "execution_count": 11,
   "id": "59db0bd5",
   "metadata": {
    "ExecuteTime": {
     "end_time": "2022-06-26T08:27:08.713616Z",
     "start_time": "2022-06-26T08:27:08.404842Z"
    },
    "hidden": true
   },
   "outputs": [
    {
     "name": "stdout",
     "output_type": "stream",
     "text": [
      "Loss oracle : tensor(0.)\n",
      "Loss d'un modèle satisfaisant : tensor(0.1160)\n",
      "Loss du modèle qui prédit argcount : tensor(0.1768)\n",
      "Loss d'un modèle aléatoire : tensor(2.7005)\n"
     ]
    }
   ],
   "source": [
    "#  Modèle oracle :\n",
    "y_pred = y_true_ohe_parfait.detach()\n",
    "print('Loss oracle :', loss_ce(y_pred, y_true))\n",
    "\n",
    "# Modèle avec une accuracy de 98 %\n",
    "# Pour rappel, une accuracy en dessous de 96 % est mauvaise !\n",
    "# → data.Tag.value_counts(normalize=True)\n",
    "accuracy_souhaitée = 0.98\n",
    "nb_lignes_à_erroring = int((1 - accuracy_souhaitée) * y_true.shape[0])\n",
    "y_pred = y_true_ohe.detach()\n",
    "y_pred[0:nb_lignes_à_erroring, :] = shift_tensor(y_pred[0:nb_lignes_à_erroring, :])\n",
    "print(\"Loss d'un modèle satisfaisant :\", loss_ce(y_pred, y_true))\n",
    "\n",
    "# Modèle qui prédit la classe modale : \n",
    "classe_modale = data.Tag.value_counts().nlargest(1).index[0]\n",
    "y_pred = np.full((len(data), num_tag), -3)\n",
    "y_pred[:, int(ordinal_enc_NER.transform([[classe_modale]]).item())] = 1\n",
    "y_pred = torch.tensor(y_pred, dtype=torch.float)\n",
    "print(\"Loss du modèle qui prédit argcount :\", loss_ce(y_pred, y_true))\n",
    "\n",
    "# Modèle aléatoire :\n",
    "y_pred = torch.tensor(\n",
    "    pd.get_dummies(torch.randint(0, num_tag, (len(data),))).astype(float).replace(0, -3).to_numpy(),\n",
    "    dtype=torch.float\n",
    ")\n",
    "print(\"Loss d'un modèle aléatoire :\", loss_ce(y_pred, y_true))"
   ]
  },
  {
   "cell_type": "markdown",
   "id": "7477c273",
   "metadata": {
    "heading_collapsed": true
   },
   "source": [
    "## Paramétrage"
   ]
  },
  {
   "cell_type": "code",
   "execution_count": 12,
   "id": "1316ed00",
   "metadata": {
    "ExecuteTime": {
     "end_time": "2022-06-26T08:27:33.016511Z",
     "start_time": "2022-06-26T08:27:32.740265Z"
    },
    "hidden": true
   },
   "outputs": [
    {
     "data": {
      "text/plain": [
       "device(type='cpu')"
      ]
     },
     "execution_count": 12,
     "metadata": {},
     "output_type": "execute_result"
    }
   ],
   "source": [
    "device = torch.device('cuda') if torch.cuda.is_available() else torch.device('cpu')\n",
    "device"
   ]
  },
  {
   "cell_type": "code",
   "execution_count": 13,
   "id": "63d6e414",
   "metadata": {
    "ExecuteTime": {
     "end_time": "2022-06-26T08:27:45.847315Z",
     "start_time": "2022-06-26T08:27:39.218927Z"
    },
    "hidden": true
   },
   "outputs": [
    {
     "name": "stderr",
     "output_type": "stream",
     "text": [
      "I0626 08:27:39.242717 140151762241344 modeling.py:577] loading archive file data/inputs/models/bert-base-uncased\n",
      "I0626 08:27:39.248798 140151762241344 modeling.py:598] Model config {\n",
      "  \"architectures\": [\n",
      "    \"BertForMaskedLM\"\n",
      "  ],\n",
      "  \"attention_probs_dropout_prob\": 0.1,\n",
      "  \"gradient_checkpointing\": false,\n",
      "  \"hidden_act\": \"gelu\",\n",
      "  \"hidden_dropout_prob\": 0.1,\n",
      "  \"hidden_size\": 768,\n",
      "  \"initializer_range\": 0.02,\n",
      "  \"intermediate_size\": 3072,\n",
      "  \"layer_norm_eps\": 1e-12,\n",
      "  \"max_position_embeddings\": 512,\n",
      "  \"model_type\": \"bert\",\n",
      "  \"num_attention_heads\": 12,\n",
      "  \"num_hidden_layers\": 12,\n",
      "  \"pad_token_id\": 0,\n",
      "  \"position_embedding_type\": \"absolute\",\n",
      "  \"transformers_version\": \"4.6.0.dev0\",\n",
      "  \"type_vocab_size\": 2,\n",
      "  \"use_cache\": true,\n",
      "  \"vocab_size\": 30522\n",
      "}\n",
      "\n",
      "I0626 08:27:45.839415 140151762241344 modeling.py:648] Weights of BertForTokenClassification not initialized from pretrained model: ['classifier.weight', 'classifier.bias']\n",
      "I0626 08:27:45.840662 140151762241344 modeling.py:651] Weights from pretrained model not used in BertForTokenClassification: ['cls.predictions.bias', 'cls.predictions.transform.dense.weight', 'cls.predictions.transform.dense.bias', 'cls.predictions.decoder.weight', 'cls.seq_relationship.weight', 'cls.seq_relationship.bias', 'cls.predictions.transform.LayerNorm.weight', 'cls.predictions.transform.LayerNorm.bias']\n"
     ]
    }
   ],
   "source": [
    "model = EntityModel(num_tag=num_tag)\n",
    "model.to(device);"
   ]
  },
  {
   "cell_type": "code",
   "execution_count": 14,
   "id": "c1419d48",
   "metadata": {
    "ExecuteTime": {
     "end_time": "2022-06-26T08:27:45.872213Z",
     "start_time": "2022-06-26T08:27:45.849574Z"
    },
    "hidden": true
   },
   "outputs": [],
   "source": [
    "param_optimizer = list(model.named_parameters())\n",
    "no_decay = [\"bias\", \"LayerNorm.bias\", \"LayerNorm.weight\"]"
   ]
  },
  {
   "cell_type": "code",
   "execution_count": 15,
   "id": "01ce6735",
   "metadata": {
    "ExecuteTime": {
     "end_time": "2022-06-26T08:27:59.345025Z",
     "start_time": "2022-06-26T08:27:59.322605Z"
    },
    "hidden": true
   },
   "outputs": [],
   "source": [
    "optimizer_parameters = [\n",
    "    {\n",
    "        \"params\": [\n",
    "            p for n, p in param_optimizer if not any(nd in n for nd in no_decay)\n",
    "        ],\n",
    "        \"weight_decay\": 0.001,\n",
    "    },\n",
    "    {\n",
    "        \n",
    "        \"params\": [\n",
    "            p for n, p in param_optimizer if any(nd in n for nd in no_decay)\n",
    "        ],\n",
    "        \"weight_decay\": 0.0,\n",
    "    },\n",
    "]"
   ]
  },
  {
   "cell_type": "code",
   "execution_count": 16,
   "id": "d36b83b3",
   "metadata": {
    "ExecuteTime": {
     "end_time": "2022-06-26T08:28:01.064330Z",
     "start_time": "2022-06-26T08:28:01.040905Z"
    },
    "hidden": true
   },
   "outputs": [
    {
     "name": "stdout",
     "output_type": "stream",
     "text": [
      "3597 batchs vont être envoyés dans le réseau au cours de 4 epochs.\n"
     ]
    }
   ],
   "source": [
    "num_train_steps = int(len(sentences_minitrain) / PARAMS.MODEL.TRAIN_BATCH_SIZE * PARAMS.MODEL.EPOCHS)\n",
    "print(f\"{num_train_steps} batchs vont être envoyés dans le réseau au cours de {PARAMS.MODEL.EPOCHS} epochs.\")\n",
    "\n",
    "optimizer = torch.optim.AdamW(optimizer_parameters, lr=PARAMS.MODEL.LEARNING_RATE)\n",
    "scheduler = get_linear_schedule_with_warmup(\n",
    "    optimizer, num_warmup_steps=0, num_training_steps=num_train_steps\n",
    ")"
   ]
  },
  {
   "cell_type": "markdown",
   "id": "5de28a81",
   "metadata": {
    "heading_collapsed": true
   },
   "source": [
    "## Entraînement"
   ]
  },
  {
   "cell_type": "code",
   "execution_count": 17,
   "id": "d3fdea33",
   "metadata": {
    "ExecuteTime": {
     "end_time": "2022-06-06T16:03:39.204317Z",
     "start_time": "2022-06-06T14:32:25.865579Z"
    },
    "hidden": true,
    "scrolled": true
   },
   "outputs": [
    {
     "data": {
      "application/vnd.jupyter.widget-view+json": {
       "model_id": "4b227ec753d54a69914756a8f87e88f4",
       "version_major": 2,
       "version_minor": 0
      },
      "text/plain": [
       "  0%|          | 0/4 [00:00<?, ?it/s]"
      ]
     },
     "metadata": {},
     "output_type": "display_data"
    },
    {
     "name": "stdout",
     "output_type": "stream",
     "text": [
      "Batch #0 : loss = 1.175908\n",
      "Batch #10 : loss = 0.328072\n",
      "Batch #20 : loss = 0.349201\n",
      "Batch #30 : loss = 0.235481\n",
      "Batch #40 : loss = 0.197290\n",
      "Batch #50 : loss = 0.197902\n",
      "Batch #60 : loss = 0.246846\n",
      "Batch #70 : loss = 0.204052\n",
      "Batch #80 : loss = 0.193391\n",
      "Batch #90 : loss = 0.185136\n",
      "Batch #100 : loss = 0.261966\n",
      "Batch #110 : loss = 0.199818\n",
      "Batch #120 : loss = 0.200901\n",
      "Batch #130 : loss = 0.189416\n",
      "Batch #140 : loss = 0.242348\n",
      "Batch #150 : loss = 0.256955\n",
      "Batch #160 : loss = 0.189808\n",
      "Batch #170 : loss = 0.190499\n",
      "Batch #180 : loss = 0.181705\n",
      "Batch #190 : loss = 0.178590\n",
      "Batch #200 : loss = 0.239938\n",
      "Batch #210 : loss = 0.171416\n",
      "Batch #220 : loss = 0.171301\n",
      "Batch #230 : loss = 0.213909\n",
      "Batch #240 : loss = 0.171190\n",
      "Batch #250 : loss = 0.206733\n",
      "Batch #260 : loss = 0.206354\n",
      "Batch #270 : loss = 0.199991\n",
      "Batch #280 : loss = 0.230558\n",
      "Batch #290 : loss = 0.177015\n",
      "Batch #300 : loss = 0.182233\n",
      "Batch #310 : loss = 0.185148\n",
      "Batch #320 : loss = 0.208867\n",
      "Batch #330 : loss = 0.207769\n",
      "Batch #340 : loss = 0.174035\n",
      "Batch #350 : loss = 0.165441\n",
      "Batch #360 : loss = 0.162124\n",
      "Batch #370 : loss = 0.220207\n",
      "Batch #380 : loss = 0.196012\n",
      "Batch #390 : loss = 0.206274\n",
      "Batch #400 : loss = 0.220471\n",
      "Batch #410 : loss = 0.208452\n",
      "Batch #420 : loss = 0.174205\n",
      "Batch #430 : loss = 0.160126\n",
      "Batch #440 : loss = 0.232773\n",
      "Batch #450 : loss = 0.199746\n",
      "Batch #460 : loss = 0.177220\n",
      "Batch #470 : loss = 0.184640\n",
      "Batch #480 : loss = 0.196188\n",
      "Batch #490 : loss = 0.188578\n",
      "Batch #500 : loss = 0.162318\n",
      "Batch #510 : loss = 0.189243\n",
      "Batch #520 : loss = 0.189442\n",
      "Batch #530 : loss = 0.170462\n",
      "Batch #540 : loss = 0.161368\n",
      "Batch #550 : loss = 0.192996\n",
      "Batch #560 : loss = 0.224467\n",
      "Batch #570 : loss = 0.222384\n",
      "Batch #580 : loss = 0.186831\n",
      "Batch #590 : loss = 0.186662\n",
      "Batch #600 : loss = 0.200299\n",
      "Batch #610 : loss = 0.172068\n",
      "Batch #620 : loss = 0.154005\n",
      "Batch #630 : loss = 0.213737\n",
      "Batch #640 : loss = 0.192606\n",
      "Batch #650 : loss = 0.187046\n",
      "Batch #660 : loss = 0.210072\n",
      "Batch #670 : loss = 0.212209\n",
      "Batch #680 : loss = 0.201198\n",
      "Batch #690 : loss = 0.196279\n",
      "Batch #700 : loss = 0.209558\n",
      "Batch #710 : loss = 0.177314\n",
      "Batch #720 : loss = 0.152593\n",
      "Batch #730 : loss = 0.176856\n",
      "Batch #740 : loss = 0.202382\n",
      "Batch #750 : loss = 0.169101\n",
      "Batch #760 : loss = 0.210733\n",
      "Batch #770 : loss = 0.161795\n",
      "Batch #780 : loss = 0.158555\n",
      "Batch #790 : loss = 0.190354\n",
      "Batch #800 : loss = 0.150335\n",
      "Batch #810 : loss = 0.190535\n",
      "Batch #820 : loss = 0.204372\n",
      "Batch #830 : loss = 0.189985\n",
      "Batch #840 : loss = 0.193512\n",
      "Batch #850 : loss = 0.157112\n",
      "Batch #860 : loss = 0.223223\n",
      "Batch #870 : loss = 0.149107\n",
      "Batch #880 : loss = 0.161060\n",
      "Batch #890 : loss = 0.206928\n",
      "Train Loss = 0.20080046702590254 Valid Loss = 0.060834062732756135\n",
      "Batch #0 : loss = 0.154442\n",
      "Batch #10 : loss = 0.204021\n",
      "Batch #20 : loss = 0.190550\n",
      "Batch #30 : loss = 0.189061\n",
      "Batch #40 : loss = 0.172101\n",
      "Batch #50 : loss = 0.135968\n",
      "Batch #60 : loss = 0.185770\n",
      "Batch #70 : loss = 0.169418\n",
      "Batch #80 : loss = 0.125327\n",
      "Batch #90 : loss = 0.170707\n",
      "Batch #100 : loss = 0.196219\n",
      "Batch #110 : loss = 0.157618\n",
      "Batch #120 : loss = 0.182315\n",
      "Batch #130 : loss = 0.137744\n",
      "Batch #140 : loss = 0.155457\n",
      "Batch #150 : loss = 0.213429\n",
      "Batch #160 : loss = 0.194920\n",
      "Batch #170 : loss = 0.141323\n",
      "Batch #180 : loss = 0.156925\n",
      "Batch #190 : loss = 0.160971\n",
      "Batch #200 : loss = 0.167195\n",
      "Batch #210 : loss = 0.132459\n",
      "Batch #220 : loss = 0.155706\n",
      "Batch #230 : loss = 0.157784\n",
      "Batch #240 : loss = 0.174519\n",
      "Batch #250 : loss = 0.229977\n",
      "Batch #260 : loss = 0.171997\n",
      "Batch #270 : loss = 0.187064\n",
      "Batch #280 : loss = 0.215706\n",
      "Batch #290 : loss = 0.148094\n",
      "Batch #300 : loss = 0.168275\n",
      "Batch #310 : loss = 0.157143\n",
      "Batch #320 : loss = 0.211530\n",
      "Batch #330 : loss = 0.162026\n",
      "Batch #340 : loss = 0.144152\n",
      "Batch #350 : loss = 0.135141\n",
      "Batch #360 : loss = 0.160952\n",
      "Batch #370 : loss = 0.201715\n",
      "Batch #380 : loss = 0.187022\n",
      "Batch #390 : loss = 0.166540\n",
      "Batch #400 : loss = 0.187277\n",
      "Batch #410 : loss = 0.185798\n",
      "Batch #420 : loss = 0.164530\n",
      "Batch #430 : loss = 0.143946\n",
      "Batch #440 : loss = 0.240537\n",
      "Batch #450 : loss = 0.185325\n",
      "Batch #460 : loss = 0.146627\n",
      "Batch #470 : loss = 0.173532\n",
      "Batch #480 : loss = 0.143850\n",
      "Batch #490 : loss = 0.166989\n",
      "Batch #500 : loss = 0.141308\n",
      "Batch #510 : loss = 0.162456\n",
      "Batch #520 : loss = 0.196210\n",
      "Batch #530 : loss = 0.153698\n",
      "Batch #540 : loss = 0.145784\n",
      "Batch #550 : loss = 0.164318\n",
      "Batch #560 : loss = 0.149505\n",
      "Batch #570 : loss = 0.181145\n",
      "Batch #580 : loss = 0.159125\n",
      "Batch #590 : loss = 0.151850\n",
      "Batch #600 : loss = 0.168436\n",
      "Batch #610 : loss = 0.176217\n",
      "Batch #620 : loss = 0.147578\n",
      "Batch #630 : loss = 0.183671\n",
      "Batch #640 : loss = 0.173648\n",
      "Batch #650 : loss = 0.193530\n",
      "Batch #660 : loss = 0.158855\n",
      "Batch #670 : loss = 0.171043\n",
      "Batch #680 : loss = 0.167219\n",
      "Batch #690 : loss = 0.160131\n",
      "Batch #700 : loss = 0.197138\n",
      "Batch #710 : loss = 0.158412\n",
      "Batch #720 : loss = 0.160637\n",
      "Batch #730 : loss = 0.160244\n",
      "Batch #740 : loss = 0.171512\n",
      "Batch #750 : loss = 0.129792\n",
      "Batch #760 : loss = 0.175892\n",
      "Batch #770 : loss = 0.144855\n",
      "Batch #780 : loss = 0.151051\n",
      "Batch #790 : loss = 0.152919\n",
      "Batch #800 : loss = 0.149606\n",
      "Batch #810 : loss = 0.174320\n",
      "Batch #820 : loss = 0.158633\n",
      "Batch #830 : loss = 0.182498\n",
      "Batch #840 : loss = 0.205985\n",
      "Batch #850 : loss = 0.153063\n",
      "Batch #860 : loss = 0.223946\n",
      "Batch #870 : loss = 0.154884\n",
      "Batch #880 : loss = 0.141013\n",
      "Batch #890 : loss = 0.185907\n",
      "Train Loss = 0.16704608992569978 Valid Loss = 0.06263734875557324\n",
      "Batch #0 : loss = 0.158183\n",
      "Batch #10 : loss = 0.184247\n",
      "Batch #20 : loss = 0.175167\n",
      "Batch #30 : loss = 0.157497\n",
      "Batch #40 : loss = 0.137721\n",
      "Batch #50 : loss = 0.124749\n",
      "Batch #60 : loss = 0.171914\n",
      "Batch #70 : loss = 0.140793\n",
      "Batch #80 : loss = 0.153739\n",
      "Batch #90 : loss = 0.143370\n",
      "Batch #100 : loss = 0.159425\n",
      "Batch #110 : loss = 0.148536\n",
      "Batch #120 : loss = 0.168208\n",
      "Batch #130 : loss = 0.117889\n",
      "Batch #140 : loss = 0.150496\n",
      "Batch #150 : loss = 0.195458\n"
     ]
    },
    {
     "ename": "KeyboardInterrupt",
     "evalue": "",
     "output_type": "error",
     "traceback": [
      "\u001b[0;31m---------------------------------------------------------------------------\u001b[0m",
      "\u001b[0;31mKeyboardInterrupt\u001b[0m                         Traceback (most recent call last)",
      "\u001b[0;32m<ipython-input-17-f89fcf999737>\u001b[0m in \u001b[0;36m<module>\u001b[0;34m\u001b[0m\n\u001b[1;32m      4\u001b[0m \u001b[0;32mfor\u001b[0m \u001b[0mnum_epoch\u001b[0m\u001b[0;34m,\u001b[0m \u001b[0mepoch\u001b[0m \u001b[0;32min\u001b[0m \u001b[0menumerate\u001b[0m\u001b[0;34m(\u001b[0m\u001b[0mpbar\u001b[0m\u001b[0;34m)\u001b[0m\u001b[0;34m:\u001b[0m\u001b[0;34m\u001b[0m\u001b[0;34m\u001b[0m\u001b[0m\n\u001b[1;32m      5\u001b[0m     train_loss = train_fn(minitrain_data_loader, model, optimizer,\n\u001b[0;32m----> 6\u001b[0;31m                           device, scheduler, pbar=pbar, num_epoch=num_epoch)\n\u001b[0m\u001b[1;32m      7\u001b[0m \u001b[0;34m\u001b[0m\u001b[0m\n\u001b[1;32m      8\u001b[0m     \u001b[0;31m# On évalue le modèle à la fin de chaque epoch\u001b[0m\u001b[0;34m\u001b[0m\u001b[0;34m\u001b[0m\u001b[0;34m\u001b[0m\u001b[0m\n",
      "\u001b[0;32m/dataml/LABTA/MRC_hbr/Pierre/PFPR/NER-code/ner_pytorch/engine.py\u001b[0m in \u001b[0;36mtrain_fn\u001b[0;34m(data_loader, model, optimizer, device, scheduler, pbar, num_epoch)\u001b[0m\n\u001b[1;32m     17\u001b[0m \u001b[0;34m\u001b[0m\u001b[0m\n\u001b[1;32m     18\u001b[0m         \u001b[0moptimizer\u001b[0m\u001b[0;34m.\u001b[0m\u001b[0mzero_grad\u001b[0m\u001b[0;34m(\u001b[0m\u001b[0;34m)\u001b[0m\u001b[0;34m\u001b[0m\u001b[0;34m\u001b[0m\u001b[0m\n\u001b[0;32m---> 19\u001b[0;31m         \u001b[0mbatch_pred\u001b[0m\u001b[0;34m,\u001b[0m \u001b[0mloss\u001b[0m \u001b[0;34m=\u001b[0m \u001b[0mmodel\u001b[0m\u001b[0;34m(\u001b[0m\u001b[0;34m**\u001b[0m\u001b[0mbatch\u001b[0m\u001b[0;34m)\u001b[0m\u001b[0;34m\u001b[0m\u001b[0;34m\u001b[0m\u001b[0m\n\u001b[0m\u001b[1;32m     20\u001b[0m \u001b[0;34m\u001b[0m\u001b[0m\n\u001b[1;32m     21\u001b[0m         \u001b[0;32mif\u001b[0m \u001b[0mnum_batch\u001b[0m \u001b[0;34m%\u001b[0m \u001b[0;36m10\u001b[0m \u001b[0;34m==\u001b[0m \u001b[0;36m0\u001b[0m\u001b[0;34m:\u001b[0m\u001b[0;34m\u001b[0m\u001b[0;34m\u001b[0m\u001b[0m\n",
      "\u001b[0;32m~/.local/lib/python3.6/site-packages/torch/nn/modules/module.py\u001b[0m in \u001b[0;36m_call_impl\u001b[0;34m(self, *input, **kwargs)\u001b[0m\n\u001b[1;32m   1049\u001b[0m         if not (self._backward_hooks or self._forward_hooks or self._forward_pre_hooks or _global_backward_hooks\n\u001b[1;32m   1050\u001b[0m                 or _global_forward_hooks or _global_forward_pre_hooks):\n\u001b[0;32m-> 1051\u001b[0;31m             \u001b[0;32mreturn\u001b[0m \u001b[0mforward_call\u001b[0m\u001b[0;34m(\u001b[0m\u001b[0;34m*\u001b[0m\u001b[0minput\u001b[0m\u001b[0;34m,\u001b[0m \u001b[0;34m**\u001b[0m\u001b[0mkwargs\u001b[0m\u001b[0;34m)\u001b[0m\u001b[0;34m\u001b[0m\u001b[0;34m\u001b[0m\u001b[0m\n\u001b[0m\u001b[1;32m   1052\u001b[0m         \u001b[0;31m# Do not call functions when jit is used\u001b[0m\u001b[0;34m\u001b[0m\u001b[0;34m\u001b[0m\u001b[0;34m\u001b[0m\u001b[0m\n\u001b[1;32m   1053\u001b[0m         \u001b[0mfull_backward_hooks\u001b[0m\u001b[0;34m,\u001b[0m \u001b[0mnon_full_backward_hooks\u001b[0m \u001b[0;34m=\u001b[0m \u001b[0;34m[\u001b[0m\u001b[0;34m]\u001b[0m\u001b[0;34m,\u001b[0m \u001b[0;34m[\u001b[0m\u001b[0;34m]\u001b[0m\u001b[0;34m\u001b[0m\u001b[0;34m\u001b[0m\u001b[0m\n",
      "\u001b[0;32m/dataml/LABTA/MRC_hbr/Pierre/PFPR/NER-code/ner_pytorch/model.py\u001b[0m in \u001b[0;36mforward\u001b[0;34m(self, ids, mask, token_type_ids, target_tag)\u001b[0m\n\u001b[1;32m     30\u001b[0m \u001b[0;34m\u001b[0m\u001b[0m\n\u001b[1;32m     31\u001b[0m     \u001b[0;32mdef\u001b[0m \u001b[0mforward\u001b[0m\u001b[0;34m(\u001b[0m\u001b[0mself\u001b[0m\u001b[0;34m,\u001b[0m \u001b[0mids\u001b[0m\u001b[0;34m,\u001b[0m \u001b[0mmask\u001b[0m\u001b[0;34m,\u001b[0m \u001b[0mtoken_type_ids\u001b[0m\u001b[0;34m,\u001b[0m \u001b[0mtarget_tag\u001b[0m\u001b[0;34m)\u001b[0m\u001b[0;34m:\u001b[0m\u001b[0;34m\u001b[0m\u001b[0;34m\u001b[0m\u001b[0m\n\u001b[0;32m---> 32\u001b[0;31m         \u001b[0mo1\u001b[0m \u001b[0;34m=\u001b[0m \u001b[0mself\u001b[0m\u001b[0;34m.\u001b[0m\u001b[0mbert\u001b[0m\u001b[0;34m(\u001b[0m\u001b[0mids\u001b[0m\u001b[0;34m,\u001b[0m \u001b[0mattention_mask\u001b[0m\u001b[0;34m=\u001b[0m\u001b[0mmask\u001b[0m\u001b[0;34m,\u001b[0m \u001b[0mtoken_type_ids\u001b[0m\u001b[0;34m=\u001b[0m\u001b[0mtoken_type_ids\u001b[0m\u001b[0;34m)\u001b[0m\u001b[0;34m\u001b[0m\u001b[0;34m\u001b[0m\u001b[0m\n\u001b[0m\u001b[1;32m     33\u001b[0m         \u001b[0mbo_tag\u001b[0m \u001b[0;34m=\u001b[0m \u001b[0mself\u001b[0m\u001b[0;34m.\u001b[0m\u001b[0mdropout\u001b[0m\u001b[0;34m(\u001b[0m\u001b[0mo1\u001b[0m\u001b[0;34m)\u001b[0m\u001b[0;34m\u001b[0m\u001b[0;34m\u001b[0m\u001b[0m\n\u001b[1;32m     34\u001b[0m         \u001b[0;31m# tag = self.out_tag(bo_tag)\u001b[0m\u001b[0;34m\u001b[0m\u001b[0;34m\u001b[0m\u001b[0;34m\u001b[0m\u001b[0m\n",
      "\u001b[0;32m~/.local/lib/python3.6/site-packages/torch/nn/modules/module.py\u001b[0m in \u001b[0;36m_call_impl\u001b[0;34m(self, *input, **kwargs)\u001b[0m\n\u001b[1;32m   1049\u001b[0m         if not (self._backward_hooks or self._forward_hooks or self._forward_pre_hooks or _global_backward_hooks\n\u001b[1;32m   1050\u001b[0m                 or _global_forward_hooks or _global_forward_pre_hooks):\n\u001b[0;32m-> 1051\u001b[0;31m             \u001b[0;32mreturn\u001b[0m \u001b[0mforward_call\u001b[0m\u001b[0;34m(\u001b[0m\u001b[0;34m*\u001b[0m\u001b[0minput\u001b[0m\u001b[0;34m,\u001b[0m \u001b[0;34m**\u001b[0m\u001b[0mkwargs\u001b[0m\u001b[0;34m)\u001b[0m\u001b[0;34m\u001b[0m\u001b[0;34m\u001b[0m\u001b[0m\n\u001b[0m\u001b[1;32m   1052\u001b[0m         \u001b[0;31m# Do not call functions when jit is used\u001b[0m\u001b[0;34m\u001b[0m\u001b[0;34m\u001b[0m\u001b[0;34m\u001b[0m\u001b[0m\n\u001b[1;32m   1053\u001b[0m         \u001b[0mfull_backward_hooks\u001b[0m\u001b[0;34m,\u001b[0m \u001b[0mnon_full_backward_hooks\u001b[0m \u001b[0;34m=\u001b[0m \u001b[0;34m[\u001b[0m\u001b[0;34m]\u001b[0m\u001b[0;34m,\u001b[0m \u001b[0;34m[\u001b[0m\u001b[0;34m]\u001b[0m\u001b[0;34m\u001b[0m\u001b[0;34m\u001b[0m\u001b[0m\n",
      "\u001b[0;32m~/.local/lib/python3.6/site-packages/pytorch_pretrained_bert/modeling.py\u001b[0m in \u001b[0;36mforward\u001b[0;34m(self, input_ids, token_type_ids, attention_mask, labels)\u001b[0m\n\u001b[1;32m   1122\u001b[0m \u001b[0;34m\u001b[0m\u001b[0m\n\u001b[1;32m   1123\u001b[0m     \u001b[0;32mdef\u001b[0m \u001b[0mforward\u001b[0m\u001b[0;34m(\u001b[0m\u001b[0mself\u001b[0m\u001b[0;34m,\u001b[0m \u001b[0minput_ids\u001b[0m\u001b[0;34m,\u001b[0m \u001b[0mtoken_type_ids\u001b[0m\u001b[0;34m=\u001b[0m\u001b[0;32mNone\u001b[0m\u001b[0;34m,\u001b[0m \u001b[0mattention_mask\u001b[0m\u001b[0;34m=\u001b[0m\u001b[0;32mNone\u001b[0m\u001b[0;34m,\u001b[0m \u001b[0mlabels\u001b[0m\u001b[0;34m=\u001b[0m\u001b[0;32mNone\u001b[0m\u001b[0;34m)\u001b[0m\u001b[0;34m:\u001b[0m\u001b[0;34m\u001b[0m\u001b[0;34m\u001b[0m\u001b[0m\n\u001b[0;32m-> 1124\u001b[0;31m         \u001b[0msequence_output\u001b[0m\u001b[0;34m,\u001b[0m \u001b[0m_\u001b[0m \u001b[0;34m=\u001b[0m \u001b[0mself\u001b[0m\u001b[0;34m.\u001b[0m\u001b[0mbert\u001b[0m\u001b[0;34m(\u001b[0m\u001b[0minput_ids\u001b[0m\u001b[0;34m,\u001b[0m \u001b[0mtoken_type_ids\u001b[0m\u001b[0;34m,\u001b[0m \u001b[0mattention_mask\u001b[0m\u001b[0;34m,\u001b[0m \u001b[0moutput_all_encoded_layers\u001b[0m\u001b[0;34m=\u001b[0m\u001b[0;32mFalse\u001b[0m\u001b[0;34m)\u001b[0m\u001b[0;34m\u001b[0m\u001b[0;34m\u001b[0m\u001b[0m\n\u001b[0m\u001b[1;32m   1125\u001b[0m         \u001b[0msequence_output\u001b[0m \u001b[0;34m=\u001b[0m \u001b[0mself\u001b[0m\u001b[0;34m.\u001b[0m\u001b[0mdropout\u001b[0m\u001b[0;34m(\u001b[0m\u001b[0msequence_output\u001b[0m\u001b[0;34m)\u001b[0m\u001b[0;34m\u001b[0m\u001b[0;34m\u001b[0m\u001b[0m\n\u001b[1;32m   1126\u001b[0m         \u001b[0mlogits\u001b[0m \u001b[0;34m=\u001b[0m \u001b[0mself\u001b[0m\u001b[0;34m.\u001b[0m\u001b[0mclassifier\u001b[0m\u001b[0;34m(\u001b[0m\u001b[0msequence_output\u001b[0m\u001b[0;34m)\u001b[0m\u001b[0;34m\u001b[0m\u001b[0;34m\u001b[0m\u001b[0m\n",
      "\u001b[0;32m~/.local/lib/python3.6/site-packages/torch/nn/modules/module.py\u001b[0m in \u001b[0;36m_call_impl\u001b[0;34m(self, *input, **kwargs)\u001b[0m\n\u001b[1;32m   1049\u001b[0m         if not (self._backward_hooks or self._forward_hooks or self._forward_pre_hooks or _global_backward_hooks\n\u001b[1;32m   1050\u001b[0m                 or _global_forward_hooks or _global_forward_pre_hooks):\n\u001b[0;32m-> 1051\u001b[0;31m             \u001b[0;32mreturn\u001b[0m \u001b[0mforward_call\u001b[0m\u001b[0;34m(\u001b[0m\u001b[0;34m*\u001b[0m\u001b[0minput\u001b[0m\u001b[0;34m,\u001b[0m \u001b[0;34m**\u001b[0m\u001b[0mkwargs\u001b[0m\u001b[0;34m)\u001b[0m\u001b[0;34m\u001b[0m\u001b[0;34m\u001b[0m\u001b[0m\n\u001b[0m\u001b[1;32m   1052\u001b[0m         \u001b[0;31m# Do not call functions when jit is used\u001b[0m\u001b[0;34m\u001b[0m\u001b[0;34m\u001b[0m\u001b[0;34m\u001b[0m\u001b[0m\n\u001b[1;32m   1053\u001b[0m         \u001b[0mfull_backward_hooks\u001b[0m\u001b[0;34m,\u001b[0m \u001b[0mnon_full_backward_hooks\u001b[0m \u001b[0;34m=\u001b[0m \u001b[0;34m[\u001b[0m\u001b[0;34m]\u001b[0m\u001b[0;34m,\u001b[0m \u001b[0;34m[\u001b[0m\u001b[0;34m]\u001b[0m\u001b[0;34m\u001b[0m\u001b[0;34m\u001b[0m\u001b[0m\n",
      "\u001b[0;32m~/.local/lib/python3.6/site-packages/pytorch_pretrained_bert/modeling.py\u001b[0m in \u001b[0;36mforward\u001b[0;34m(self, input_ids, token_type_ids, attention_mask, output_all_encoded_layers)\u001b[0m\n\u001b[1;32m    731\u001b[0m         encoded_layers = self.encoder(embedding_output,\n\u001b[1;32m    732\u001b[0m                                       \u001b[0mextended_attention_mask\u001b[0m\u001b[0;34m,\u001b[0m\u001b[0;34m\u001b[0m\u001b[0;34m\u001b[0m\u001b[0m\n\u001b[0;32m--> 733\u001b[0;31m                                       output_all_encoded_layers=output_all_encoded_layers)\n\u001b[0m\u001b[1;32m    734\u001b[0m         \u001b[0msequence_output\u001b[0m \u001b[0;34m=\u001b[0m \u001b[0mencoded_layers\u001b[0m\u001b[0;34m[\u001b[0m\u001b[0;34m-\u001b[0m\u001b[0;36m1\u001b[0m\u001b[0;34m]\u001b[0m\u001b[0;34m\u001b[0m\u001b[0;34m\u001b[0m\u001b[0m\n\u001b[1;32m    735\u001b[0m         \u001b[0mpooled_output\u001b[0m \u001b[0;34m=\u001b[0m \u001b[0mself\u001b[0m\u001b[0;34m.\u001b[0m\u001b[0mpooler\u001b[0m\u001b[0;34m(\u001b[0m\u001b[0msequence_output\u001b[0m\u001b[0;34m)\u001b[0m\u001b[0;34m\u001b[0m\u001b[0;34m\u001b[0m\u001b[0m\n",
      "\u001b[0;32m~/.local/lib/python3.6/site-packages/torch/nn/modules/module.py\u001b[0m in \u001b[0;36m_call_impl\u001b[0;34m(self, *input, **kwargs)\u001b[0m\n\u001b[1;32m   1049\u001b[0m         if not (self._backward_hooks or self._forward_hooks or self._forward_pre_hooks or _global_backward_hooks\n\u001b[1;32m   1050\u001b[0m                 or _global_forward_hooks or _global_forward_pre_hooks):\n\u001b[0;32m-> 1051\u001b[0;31m             \u001b[0;32mreturn\u001b[0m \u001b[0mforward_call\u001b[0m\u001b[0;34m(\u001b[0m\u001b[0;34m*\u001b[0m\u001b[0minput\u001b[0m\u001b[0;34m,\u001b[0m \u001b[0;34m**\u001b[0m\u001b[0mkwargs\u001b[0m\u001b[0;34m)\u001b[0m\u001b[0;34m\u001b[0m\u001b[0;34m\u001b[0m\u001b[0m\n\u001b[0m\u001b[1;32m   1052\u001b[0m         \u001b[0;31m# Do not call functions when jit is used\u001b[0m\u001b[0;34m\u001b[0m\u001b[0;34m\u001b[0m\u001b[0;34m\u001b[0m\u001b[0m\n\u001b[1;32m   1053\u001b[0m         \u001b[0mfull_backward_hooks\u001b[0m\u001b[0;34m,\u001b[0m \u001b[0mnon_full_backward_hooks\u001b[0m \u001b[0;34m=\u001b[0m \u001b[0;34m[\u001b[0m\u001b[0;34m]\u001b[0m\u001b[0;34m,\u001b[0m \u001b[0;34m[\u001b[0m\u001b[0;34m]\u001b[0m\u001b[0;34m\u001b[0m\u001b[0;34m\u001b[0m\u001b[0m\n",
      "\u001b[0;32m~/.local/lib/python3.6/site-packages/pytorch_pretrained_bert/modeling.py\u001b[0m in \u001b[0;36mforward\u001b[0;34m(self, hidden_states, attention_mask, output_all_encoded_layers)\u001b[0m\n\u001b[1;32m    404\u001b[0m         \u001b[0mall_encoder_layers\u001b[0m \u001b[0;34m=\u001b[0m \u001b[0;34m[\u001b[0m\u001b[0;34m]\u001b[0m\u001b[0;34m\u001b[0m\u001b[0;34m\u001b[0m\u001b[0m\n\u001b[1;32m    405\u001b[0m         \u001b[0;32mfor\u001b[0m \u001b[0mlayer_module\u001b[0m \u001b[0;32min\u001b[0m \u001b[0mself\u001b[0m\u001b[0;34m.\u001b[0m\u001b[0mlayer\u001b[0m\u001b[0;34m:\u001b[0m\u001b[0;34m\u001b[0m\u001b[0;34m\u001b[0m\u001b[0m\n\u001b[0;32m--> 406\u001b[0;31m             \u001b[0mhidden_states\u001b[0m \u001b[0;34m=\u001b[0m \u001b[0mlayer_module\u001b[0m\u001b[0;34m(\u001b[0m\u001b[0mhidden_states\u001b[0m\u001b[0;34m,\u001b[0m \u001b[0mattention_mask\u001b[0m\u001b[0;34m)\u001b[0m\u001b[0;34m\u001b[0m\u001b[0;34m\u001b[0m\u001b[0m\n\u001b[0m\u001b[1;32m    407\u001b[0m             \u001b[0;32mif\u001b[0m \u001b[0moutput_all_encoded_layers\u001b[0m\u001b[0;34m:\u001b[0m\u001b[0;34m\u001b[0m\u001b[0;34m\u001b[0m\u001b[0m\n\u001b[1;32m    408\u001b[0m                 \u001b[0mall_encoder_layers\u001b[0m\u001b[0;34m.\u001b[0m\u001b[0mappend\u001b[0m\u001b[0;34m(\u001b[0m\u001b[0mhidden_states\u001b[0m\u001b[0;34m)\u001b[0m\u001b[0;34m\u001b[0m\u001b[0;34m\u001b[0m\u001b[0m\n",
      "\u001b[0;32m~/.local/lib/python3.6/site-packages/torch/nn/modules/module.py\u001b[0m in \u001b[0;36m_call_impl\u001b[0;34m(self, *input, **kwargs)\u001b[0m\n\u001b[1;32m   1049\u001b[0m         if not (self._backward_hooks or self._forward_hooks or self._forward_pre_hooks or _global_backward_hooks\n\u001b[1;32m   1050\u001b[0m                 or _global_forward_hooks or _global_forward_pre_hooks):\n\u001b[0;32m-> 1051\u001b[0;31m             \u001b[0;32mreturn\u001b[0m \u001b[0mforward_call\u001b[0m\u001b[0;34m(\u001b[0m\u001b[0;34m*\u001b[0m\u001b[0minput\u001b[0m\u001b[0;34m,\u001b[0m \u001b[0;34m**\u001b[0m\u001b[0mkwargs\u001b[0m\u001b[0;34m)\u001b[0m\u001b[0;34m\u001b[0m\u001b[0;34m\u001b[0m\u001b[0m\n\u001b[0m\u001b[1;32m   1052\u001b[0m         \u001b[0;31m# Do not call functions when jit is used\u001b[0m\u001b[0;34m\u001b[0m\u001b[0;34m\u001b[0m\u001b[0;34m\u001b[0m\u001b[0m\n\u001b[1;32m   1053\u001b[0m         \u001b[0mfull_backward_hooks\u001b[0m\u001b[0;34m,\u001b[0m \u001b[0mnon_full_backward_hooks\u001b[0m \u001b[0;34m=\u001b[0m \u001b[0;34m[\u001b[0m\u001b[0;34m]\u001b[0m\u001b[0;34m,\u001b[0m \u001b[0;34m[\u001b[0m\u001b[0;34m]\u001b[0m\u001b[0;34m\u001b[0m\u001b[0;34m\u001b[0m\u001b[0m\n",
      "\u001b[0;32m~/.local/lib/python3.6/site-packages/pytorch_pretrained_bert/modeling.py\u001b[0m in \u001b[0;36mforward\u001b[0;34m(self, hidden_states, attention_mask)\u001b[0m\n\u001b[1;32m    391\u001b[0m         \u001b[0mattention_output\u001b[0m \u001b[0;34m=\u001b[0m \u001b[0mself\u001b[0m\u001b[0;34m.\u001b[0m\u001b[0mattention\u001b[0m\u001b[0;34m(\u001b[0m\u001b[0mhidden_states\u001b[0m\u001b[0;34m,\u001b[0m \u001b[0mattention_mask\u001b[0m\u001b[0;34m)\u001b[0m\u001b[0;34m\u001b[0m\u001b[0;34m\u001b[0m\u001b[0m\n\u001b[1;32m    392\u001b[0m         \u001b[0mintermediate_output\u001b[0m \u001b[0;34m=\u001b[0m \u001b[0mself\u001b[0m\u001b[0;34m.\u001b[0m\u001b[0mintermediate\u001b[0m\u001b[0;34m(\u001b[0m\u001b[0mattention_output\u001b[0m\u001b[0;34m)\u001b[0m\u001b[0;34m\u001b[0m\u001b[0;34m\u001b[0m\u001b[0m\n\u001b[0;32m--> 393\u001b[0;31m         \u001b[0mlayer_output\u001b[0m \u001b[0;34m=\u001b[0m \u001b[0mself\u001b[0m\u001b[0;34m.\u001b[0m\u001b[0moutput\u001b[0m\u001b[0;34m(\u001b[0m\u001b[0mintermediate_output\u001b[0m\u001b[0;34m,\u001b[0m \u001b[0mattention_output\u001b[0m\u001b[0;34m)\u001b[0m\u001b[0;34m\u001b[0m\u001b[0;34m\u001b[0m\u001b[0m\n\u001b[0m\u001b[1;32m    394\u001b[0m         \u001b[0;32mreturn\u001b[0m \u001b[0mlayer_output\u001b[0m\u001b[0;34m\u001b[0m\u001b[0;34m\u001b[0m\u001b[0m\n\u001b[1;32m    395\u001b[0m \u001b[0;34m\u001b[0m\u001b[0m\n",
      "\u001b[0;32m~/.local/lib/python3.6/site-packages/torch/nn/modules/module.py\u001b[0m in \u001b[0;36m_call_impl\u001b[0;34m(self, *input, **kwargs)\u001b[0m\n\u001b[1;32m   1049\u001b[0m         if not (self._backward_hooks or self._forward_hooks or self._forward_pre_hooks or _global_backward_hooks\n\u001b[1;32m   1050\u001b[0m                 or _global_forward_hooks or _global_forward_pre_hooks):\n\u001b[0;32m-> 1051\u001b[0;31m             \u001b[0;32mreturn\u001b[0m \u001b[0mforward_call\u001b[0m\u001b[0;34m(\u001b[0m\u001b[0;34m*\u001b[0m\u001b[0minput\u001b[0m\u001b[0;34m,\u001b[0m \u001b[0;34m**\u001b[0m\u001b[0mkwargs\u001b[0m\u001b[0;34m)\u001b[0m\u001b[0;34m\u001b[0m\u001b[0;34m\u001b[0m\u001b[0m\n\u001b[0m\u001b[1;32m   1052\u001b[0m         \u001b[0;31m# Do not call functions when jit is used\u001b[0m\u001b[0;34m\u001b[0m\u001b[0;34m\u001b[0m\u001b[0;34m\u001b[0m\u001b[0m\n\u001b[1;32m   1053\u001b[0m         \u001b[0mfull_backward_hooks\u001b[0m\u001b[0;34m,\u001b[0m \u001b[0mnon_full_backward_hooks\u001b[0m \u001b[0;34m=\u001b[0m \u001b[0;34m[\u001b[0m\u001b[0;34m]\u001b[0m\u001b[0;34m,\u001b[0m \u001b[0;34m[\u001b[0m\u001b[0;34m]\u001b[0m\u001b[0;34m\u001b[0m\u001b[0;34m\u001b[0m\u001b[0m\n",
      "\u001b[0;32m~/.local/lib/python3.6/site-packages/pytorch_pretrained_bert/modeling.py\u001b[0m in \u001b[0;36mforward\u001b[0;34m(self, hidden_states, input_tensor)\u001b[0m\n\u001b[1;32m    375\u001b[0m \u001b[0;34m\u001b[0m\u001b[0m\n\u001b[1;32m    376\u001b[0m     \u001b[0;32mdef\u001b[0m \u001b[0mforward\u001b[0m\u001b[0;34m(\u001b[0m\u001b[0mself\u001b[0m\u001b[0;34m,\u001b[0m \u001b[0mhidden_states\u001b[0m\u001b[0;34m,\u001b[0m \u001b[0minput_tensor\u001b[0m\u001b[0;34m)\u001b[0m\u001b[0;34m:\u001b[0m\u001b[0;34m\u001b[0m\u001b[0;34m\u001b[0m\u001b[0m\n\u001b[0;32m--> 377\u001b[0;31m         \u001b[0mhidden_states\u001b[0m \u001b[0;34m=\u001b[0m \u001b[0mself\u001b[0m\u001b[0;34m.\u001b[0m\u001b[0mdense\u001b[0m\u001b[0;34m(\u001b[0m\u001b[0mhidden_states\u001b[0m\u001b[0;34m)\u001b[0m\u001b[0;34m\u001b[0m\u001b[0;34m\u001b[0m\u001b[0m\n\u001b[0m\u001b[1;32m    378\u001b[0m         \u001b[0mhidden_states\u001b[0m \u001b[0;34m=\u001b[0m \u001b[0mself\u001b[0m\u001b[0;34m.\u001b[0m\u001b[0mdropout\u001b[0m\u001b[0;34m(\u001b[0m\u001b[0mhidden_states\u001b[0m\u001b[0;34m)\u001b[0m\u001b[0;34m\u001b[0m\u001b[0;34m\u001b[0m\u001b[0m\n\u001b[1;32m    379\u001b[0m         \u001b[0mhidden_states\u001b[0m \u001b[0;34m=\u001b[0m \u001b[0mself\u001b[0m\u001b[0;34m.\u001b[0m\u001b[0mLayerNorm\u001b[0m\u001b[0;34m(\u001b[0m\u001b[0mhidden_states\u001b[0m \u001b[0;34m+\u001b[0m \u001b[0minput_tensor\u001b[0m\u001b[0;34m)\u001b[0m\u001b[0;34m\u001b[0m\u001b[0;34m\u001b[0m\u001b[0m\n",
      "\u001b[0;32m~/.local/lib/python3.6/site-packages/torch/nn/modules/module.py\u001b[0m in \u001b[0;36m_call_impl\u001b[0;34m(self, *input, **kwargs)\u001b[0m\n\u001b[1;32m   1049\u001b[0m         if not (self._backward_hooks or self._forward_hooks or self._forward_pre_hooks or _global_backward_hooks\n\u001b[1;32m   1050\u001b[0m                 or _global_forward_hooks or _global_forward_pre_hooks):\n\u001b[0;32m-> 1051\u001b[0;31m             \u001b[0;32mreturn\u001b[0m \u001b[0mforward_call\u001b[0m\u001b[0;34m(\u001b[0m\u001b[0;34m*\u001b[0m\u001b[0minput\u001b[0m\u001b[0;34m,\u001b[0m \u001b[0;34m**\u001b[0m\u001b[0mkwargs\u001b[0m\u001b[0;34m)\u001b[0m\u001b[0;34m\u001b[0m\u001b[0;34m\u001b[0m\u001b[0m\n\u001b[0m\u001b[1;32m   1052\u001b[0m         \u001b[0;31m# Do not call functions when jit is used\u001b[0m\u001b[0;34m\u001b[0m\u001b[0;34m\u001b[0m\u001b[0;34m\u001b[0m\u001b[0m\n\u001b[1;32m   1053\u001b[0m         \u001b[0mfull_backward_hooks\u001b[0m\u001b[0;34m,\u001b[0m \u001b[0mnon_full_backward_hooks\u001b[0m \u001b[0;34m=\u001b[0m \u001b[0;34m[\u001b[0m\u001b[0;34m]\u001b[0m\u001b[0;34m,\u001b[0m \u001b[0;34m[\u001b[0m\u001b[0;34m]\u001b[0m\u001b[0;34m\u001b[0m\u001b[0;34m\u001b[0m\u001b[0m\n",
      "\u001b[0;32m~/.local/lib/python3.6/site-packages/torch/nn/modules/linear.py\u001b[0m in \u001b[0;36mforward\u001b[0;34m(self, input)\u001b[0m\n\u001b[1;32m     94\u001b[0m \u001b[0;34m\u001b[0m\u001b[0m\n\u001b[1;32m     95\u001b[0m     \u001b[0;32mdef\u001b[0m \u001b[0mforward\u001b[0m\u001b[0;34m(\u001b[0m\u001b[0mself\u001b[0m\u001b[0;34m,\u001b[0m \u001b[0minput\u001b[0m\u001b[0;34m:\u001b[0m \u001b[0mTensor\u001b[0m\u001b[0;34m)\u001b[0m \u001b[0;34m->\u001b[0m \u001b[0mTensor\u001b[0m\u001b[0;34m:\u001b[0m\u001b[0;34m\u001b[0m\u001b[0;34m\u001b[0m\u001b[0m\n\u001b[0;32m---> 96\u001b[0;31m         \u001b[0;32mreturn\u001b[0m \u001b[0mF\u001b[0m\u001b[0;34m.\u001b[0m\u001b[0mlinear\u001b[0m\u001b[0;34m(\u001b[0m\u001b[0minput\u001b[0m\u001b[0;34m,\u001b[0m \u001b[0mself\u001b[0m\u001b[0;34m.\u001b[0m\u001b[0mweight\u001b[0m\u001b[0;34m,\u001b[0m \u001b[0mself\u001b[0m\u001b[0;34m.\u001b[0m\u001b[0mbias\u001b[0m\u001b[0;34m)\u001b[0m\u001b[0;34m\u001b[0m\u001b[0;34m\u001b[0m\u001b[0m\n\u001b[0m\u001b[1;32m     97\u001b[0m \u001b[0;34m\u001b[0m\u001b[0m\n\u001b[1;32m     98\u001b[0m     \u001b[0;32mdef\u001b[0m \u001b[0mextra_repr\u001b[0m\u001b[0;34m(\u001b[0m\u001b[0mself\u001b[0m\u001b[0;34m)\u001b[0m \u001b[0;34m->\u001b[0m \u001b[0mstr\u001b[0m\u001b[0;34m:\u001b[0m\u001b[0;34m\u001b[0m\u001b[0;34m\u001b[0m\u001b[0m\n",
      "\u001b[0;32m~/.local/lib/python3.6/site-packages/torch/nn/functional.py\u001b[0m in \u001b[0;36mlinear\u001b[0;34m(input, weight, bias)\u001b[0m\n\u001b[1;32m   1845\u001b[0m     \u001b[0;32mif\u001b[0m \u001b[0mhas_torch_function_variadic\u001b[0m\u001b[0;34m(\u001b[0m\u001b[0minput\u001b[0m\u001b[0;34m,\u001b[0m \u001b[0mweight\u001b[0m\u001b[0;34m)\u001b[0m\u001b[0;34m:\u001b[0m\u001b[0;34m\u001b[0m\u001b[0;34m\u001b[0m\u001b[0m\n\u001b[1;32m   1846\u001b[0m         \u001b[0;32mreturn\u001b[0m \u001b[0mhandle_torch_function\u001b[0m\u001b[0;34m(\u001b[0m\u001b[0mlinear\u001b[0m\u001b[0;34m,\u001b[0m \u001b[0;34m(\u001b[0m\u001b[0minput\u001b[0m\u001b[0;34m,\u001b[0m \u001b[0mweight\u001b[0m\u001b[0;34m)\u001b[0m\u001b[0;34m,\u001b[0m \u001b[0minput\u001b[0m\u001b[0;34m,\u001b[0m \u001b[0mweight\u001b[0m\u001b[0;34m,\u001b[0m \u001b[0mbias\u001b[0m\u001b[0;34m=\u001b[0m\u001b[0mbias\u001b[0m\u001b[0;34m)\u001b[0m\u001b[0;34m\u001b[0m\u001b[0;34m\u001b[0m\u001b[0m\n\u001b[0;32m-> 1847\u001b[0;31m     \u001b[0;32mreturn\u001b[0m \u001b[0mtorch\u001b[0m\u001b[0;34m.\u001b[0m\u001b[0m_C\u001b[0m\u001b[0;34m.\u001b[0m\u001b[0m_nn\u001b[0m\u001b[0;34m.\u001b[0m\u001b[0mlinear\u001b[0m\u001b[0;34m(\u001b[0m\u001b[0minput\u001b[0m\u001b[0;34m,\u001b[0m \u001b[0mweight\u001b[0m\u001b[0;34m,\u001b[0m \u001b[0mbias\u001b[0m\u001b[0;34m)\u001b[0m\u001b[0;34m\u001b[0m\u001b[0;34m\u001b[0m\u001b[0m\n\u001b[0m\u001b[1;32m   1848\u001b[0m \u001b[0;34m\u001b[0m\u001b[0m\n\u001b[1;32m   1849\u001b[0m \u001b[0;34m\u001b[0m\u001b[0m\n",
      "\u001b[0;31mKeyboardInterrupt\u001b[0m: "
     ]
    }
   ],
   "source": [
    "best_loss = np.inf\n",
    "\n",
    "pbar = tqdm(range(PARAMS.MODEL.EPOCHS))\n",
    "for num_epoch, epoch in enumerate(pbar):\n",
    "    train_loss = train_fn(minitrain_data_loader, model, optimizer,\n",
    "                          device, scheduler, pbar=pbar, num_epoch=num_epoch)\n",
    "    \n",
    "    # On évalue le modèle à la fin de chaque epoch\n",
    "    test_loss = eval_fn(valid_data_loader, model, device)\n",
    "    print(f\"Train Loss = {train_loss} Valid Loss = {test_loss}\")\n",
    "    \n",
    "    if test_loss < best_loss:\n",
    "        torch.save(model.state_dict(), PARAMS.PATHS.MODEL_SAVED)\n",
    "        best_loss = test_loss"
   ]
  },
  {
   "cell_type": "raw",
   "id": "eecefab4",
   "metadata": {
    "hidden": true
   },
   "source": [
    "Train Loss = 0.2257268762588501 Valid Loss = 0.07416860982775689\n",
    "Train Loss = 0.18738604148228963 Valid Loss = 0.06755437478423118\n",
    "Train Loss = 0.1802095964219835 Valid Loss = 0.06718131552139918\n",
    "Train Loss = 0.17476963301499684 Valid Loss = 0.06649512027700742\n",
    "Train Loss = 0.17063462575276692 Valid Loss = 0.06719479302565257"
   ]
  },
  {
   "cell_type": "markdown",
   "id": "8c4644ce",
   "metadata": {},
   "source": [
    "## Prédictions\n",
    "\n",
    "Utilisons le modèle finetuné pour prédire une nouvelle phrase."
   ]
  },
  {
   "cell_type": "code",
   "execution_count": 9,
   "id": "9d26c821",
   "metadata": {
    "ExecuteTime": {
     "end_time": "2022-07-11T09:10:23.072443Z",
     "start_time": "2022-07-11T09:10:16.147273Z"
    }
   },
   "outputs": [
    {
     "name": "stderr",
     "output_type": "stream",
     "text": [
      "Some weights of the model checkpoint at ../models/camembert-base were not used when initializing CamembertForTokenClassification: ['lm_head.bias', 'lm_head.dense.weight', 'lm_head.decoder.weight', 'lm_head.layer_norm.weight', 'lm_head.layer_norm.bias', 'lm_head.dense.bias']\n",
      "- This IS expected if you are initializing CamembertForTokenClassification from the checkpoint of a model trained on another task or with another architecture (e.g. initializing a BertForSequenceClassification model from a BertForPreTraining model).\n",
      "- This IS NOT expected if you are initializing CamembertForTokenClassification from the checkpoint of a model that you expect to be exactly identical (initializing a BertForSequenceClassification model from a BertForSequenceClassification model).\n",
      "Some weights of CamembertForTokenClassification were not initialized from the model checkpoint at ../models/camembert-base and are newly initialized: ['classifier.bias', 'classifier.weight']\n",
      "You should probably TRAIN this model on a down-stream task to be able to use it for predictions and inference.\n"
     ]
    },
    {
     "ename": "RuntimeError",
     "evalue": "Error(s) in loading state_dict for EntityModel:\n\tMissing key(s) in state_dict: \"bert.roberta.embeddings.position_ids\", \"bert.roberta.embeddings.word_embeddings.weight\", \"bert.roberta.embeddings.position_embeddings.weight\", \"bert.roberta.embeddings.token_type_embeddings.weight\", \"bert.roberta.embeddings.LayerNorm.weight\", \"bert.roberta.embeddings.LayerNorm.bias\", \"bert.roberta.encoder.layer.0.attention.self.query.weight\", \"bert.roberta.encoder.layer.0.attention.self.query.bias\", \"bert.roberta.encoder.layer.0.attention.self.key.weight\", \"bert.roberta.encoder.layer.0.attention.self.key.bias\", \"bert.roberta.encoder.layer.0.attention.self.value.weight\", \"bert.roberta.encoder.layer.0.attention.self.value.bias\", \"bert.roberta.encoder.layer.0.attention.output.dense.weight\", \"bert.roberta.encoder.layer.0.attention.output.dense.bias\", \"bert.roberta.encoder.layer.0.attention.output.LayerNorm.weight\", \"bert.roberta.encoder.layer.0.attention.output.LayerNorm.bias\", \"bert.roberta.encoder.layer.0.intermediate.dense.weight\", \"bert.roberta.encoder.layer.0.intermediate.dense.bias\", \"bert.roberta.encoder.layer.0.output.dense.weight\", \"bert.roberta.encoder.layer.0.output.dense.bias\", \"bert.roberta.encoder.layer.0.output.LayerNorm.weight\", \"bert.roberta.encoder.layer.0.output.LayerNorm.bias\", \"bert.roberta.encoder.layer.1.attention.self.query.weight\", \"bert.roberta.encoder.layer.1.attention.self.query.bias\", \"bert.roberta.encoder.layer.1.attention.self.key.weight\", \"bert.roberta.encoder.layer.1.attention.self.key.bias\", \"bert.roberta.encoder.layer.1.attention.self.value.weight\", \"bert.roberta.encoder.layer.1.attention.self.value.bias\", \"bert.roberta.encoder.layer.1.attention.output.dense.weight\", \"bert.roberta.encoder.layer.1.attention.output.dense.bias\", \"bert.roberta.encoder.layer.1.attention.output.LayerNorm.weight\", \"bert.roberta.encoder.layer.1.attention.output.LayerNorm.bias\", \"bert.roberta.encoder.layer.1.intermediate.dense.weight\", \"bert.roberta.encoder.layer.1.intermediate.dense.bias\", \"bert.roberta.encoder.layer.1.output.dense.weight\", \"bert.roberta.encoder.layer.1.output.dense.bias\", \"bert.roberta.encoder.layer.1.output.LayerNorm.weight\", \"bert.roberta.encoder.layer.1.output.LayerNorm.bias\", \"bert.roberta.encoder.layer.2.attention.self.query.weight\", \"bert.roberta.encoder.layer.2.attention.self.query.bias\", \"bert.roberta.encoder.layer.2.attention.self.key.weight\", \"bert.roberta.encoder.layer.2.attention.self.key.bias\", \"bert.roberta.encoder.layer.2.attention.self.value.weight\", \"bert.roberta.encoder.layer.2.attention.self.value.bias\", \"bert.roberta.encoder.layer.2.attention.output.dense.weight\", \"bert.roberta.encoder.layer.2.attention.output.dense.bias\", \"bert.roberta.encoder.layer.2.attention.output.LayerNorm.weight\", \"bert.roberta.encoder.layer.2.attention.output.LayerNorm.bias\", \"bert.roberta.encoder.layer.2.intermediate.dense.weight\", \"bert.roberta.encoder.layer.2.intermediate.dense.bias\", \"bert.roberta.encoder.layer.2.output.dense.weight\", \"bert.roberta.encoder.layer.2.output.dense.bias\", \"bert.roberta.encoder.layer.2.output.LayerNorm.weight\", \"bert.roberta.encoder.layer.2.output.LayerNorm.bias\", \"bert.roberta.encoder.layer.3.attention.self.query.weight\", \"bert.roberta.encoder.layer.3.attention.self.query.bias\", \"bert.roberta.encoder.layer.3.attention.self.key.weight\", \"bert.roberta.encoder.layer.3.attention.self.key.bias\", \"bert.roberta.encoder.layer.3.attention.self.value.weight\", \"bert.roberta.encoder.layer.3.attention.self.value.bias\", \"bert.roberta.encoder.layer.3.attention.output.dense.weight\", \"bert.roberta.encoder.layer.3.attention.output.dense.bias\", \"bert.roberta.encoder.layer.3.attention.output.LayerNorm.weight\", \"bert.roberta.encoder.layer.3.attention.output.LayerNorm.bias\", \"bert.roberta.encoder.layer.3.intermediate.dense.weight\", \"bert.roberta.encoder.layer.3.intermediate.dense.bias\", \"bert.roberta.encoder.layer.3.output.dense.weight\", \"bert.roberta.encoder.layer.3.output.dense.bias\", \"bert.roberta.encoder.layer.3.output.LayerNorm.weight\", \"bert.roberta.encoder.layer.3.output.LayerNorm.bias\", \"bert.roberta.encoder.layer.4.attention.self.query.weight\", \"bert.roberta.encoder.layer.4.attention.self.query.bias\", \"bert.roberta.encoder.layer.4.attention.self.key.weight\", \"bert.roberta.encoder.layer.4.attention.self.key.bias\", \"bert.roberta.encoder.layer.4.attention.self.value.weight\", \"bert.roberta.encoder.layer.4.attention.self.value.bias\", \"bert.roberta.encoder.layer.4.attention.output.dense.weight\", \"bert.roberta.encoder.layer.4.attention.output.dense.bias\", \"bert.roberta.encoder.layer.4.attention.output.LayerNorm.weight\", \"bert.roberta.encoder.layer.4.attention.output.LayerNorm.bias\", \"bert.roberta.encoder.layer.4.intermediate.dense.weight\", \"bert.roberta.encoder.layer.4.intermediate.dense.bias\", \"bert.roberta.encoder.layer.4.output.dense.weight\", \"bert.roberta.encoder.layer.4.output.dense.bias\", \"bert.roberta.encoder.layer.4.output.LayerNorm.weight\", \"bert.roberta.encoder.layer.4.output.LayerNorm.bias\", \"bert.roberta.encoder.layer.5.attention.self.query.weight\", \"bert.roberta.encoder.layer.5.attention.self.query.bias\", \"bert.roberta.encoder.layer.5.attention.self.key.weight\", \"bert.roberta.encoder.layer.5.attention.self.key.bias\", \"bert.roberta.encoder.layer.5.attention.self.value.weight\", \"bert.roberta.encoder.layer.5.attention.self.value.bias\", \"bert.roberta.encoder.layer.5.attention.output.dense.weight\", \"bert.roberta.encoder.layer.5.attention.output.dense.bias\", \"bert.roberta.encoder.layer.5.attention.output.LayerNorm.weight\", \"bert.roberta.encoder.layer.5.attention.output.LayerNorm.bias\", \"bert.roberta.encoder.layer.5.intermediate.dense.weight\", \"bert.roberta.encoder.layer.5.intermediate.dense.bias\", \"bert.roberta.encoder.layer.5.output.dense.weight\", \"bert.roberta.encoder.layer.5.output.dense.bias\", \"bert.roberta.encoder.layer.5.output.LayerNorm.weight\", \"bert.roberta.encoder.layer.5.output.LayerNorm.bias\", \"bert.roberta.encoder.layer.6.attention.self.query.weight\", \"bert.roberta.encoder.layer.6.attention.self.query.bias\", \"bert.roberta.encoder.layer.6.attention.self.key.weight\", \"bert.roberta.encoder.layer.6.attention.self.key.bias\", \"bert.roberta.encoder.layer.6.attention.self.value.weight\", \"bert.roberta.encoder.layer.6.attention.self.value.bias\", \"bert.roberta.encoder.layer.6.attention.output.dense.weight\", \"bert.roberta.encoder.layer.6.attention.output.dense.bias\", \"bert.roberta.encoder.layer.6.attention.output.LayerNorm.weight\", \"bert.roberta.encoder.layer.6.attention.output.LayerNorm.bias\", \"bert.roberta.encoder.layer.6.intermediate.dense.weight\", \"bert.roberta.encoder.layer.6.intermediate.dense.bias\", \"bert.roberta.encoder.layer.6.output.dense.weight\", \"bert.roberta.encoder.layer.6.output.dense.bias\", \"bert.roberta.encoder.layer.6.output.LayerNorm.weight\", \"bert.roberta.encoder.layer.6.output.LayerNorm.bias\", \"bert.roberta.encoder.layer.7.attention.self.query.weight\", \"bert.roberta.encoder.layer.7.attention.self.query.bias\", \"bert.roberta.encoder.layer.7.attention.self.key.weight\", \"bert.roberta.encoder.layer.7.attention.self.key.bias\", \"bert.roberta.encoder.layer.7.attention.self.value.weight\", \"bert.roberta.encoder.layer.7.attention.self.value.bias\", \"bert.roberta.encoder.layer.7.attention.output.dense.weight\", \"bert.roberta.encoder.layer.7.attention.output.dense.bias\", \"bert.roberta.encoder.layer.7.attention.output.LayerNorm.weight\", \"bert.roberta.encoder.layer.7.attention.output.LayerNorm.bias\", \"bert.roberta.encoder.layer.7.intermediate.dense.weight\", \"bert.roberta.encoder.layer.7.intermediate.dense.bias\", \"bert.roberta.encoder.layer.7.output.dense.weight\", \"bert.roberta.encoder.layer.7.output.dense.bias\", \"bert.roberta.encoder.layer.7.output.LayerNorm.weight\", \"bert.roberta.encoder.layer.7.output.LayerNorm.bias\", \"bert.roberta.encoder.layer.8.attention.self.query.weight\", \"bert.roberta.encoder.layer.8.attention.self.query.bias\", \"bert.roberta.encoder.layer.8.attention.self.key.weight\", \"bert.roberta.encoder.layer.8.attention.self.key.bias\", \"bert.roberta.encoder.layer.8.attention.self.value.weight\", \"bert.roberta.encoder.layer.8.attention.self.value.bias\", \"bert.roberta.encoder.layer.8.attention.output.dense.weight\", \"bert.roberta.encoder.layer.8.attention.output.dense.bias\", \"bert.roberta.encoder.layer.8.attention.output.LayerNorm.weight\", \"bert.roberta.encoder.layer.8.attention.output.LayerNorm.bias\", \"bert.roberta.encoder.layer.8.intermediate.dense.weight\", \"bert.roberta.encoder.layer.8.intermediate.dense.bias\", \"bert.roberta.encoder.layer.8.output.dense.weight\", \"bert.roberta.encoder.layer.8.output.dense.bias\", \"bert.roberta.encoder.layer.8.output.LayerNorm.weight\", \"bert.roberta.encoder.layer.8.output.LayerNorm.bias\", \"bert.roberta.encoder.layer.9.attention.self.query.weight\", \"bert.roberta.encoder.layer.9.attention.self.query.bias\", \"bert.roberta.encoder.layer.9.attention.self.key.weight\", \"bert.roberta.encoder.layer.9.attention.self.key.bias\", \"bert.roberta.encoder.layer.9.attention.self.value.weight\", \"bert.roberta.encoder.layer.9.attention.self.value.bias\", \"bert.roberta.encoder.layer.9.attention.output.dense.weight\", \"bert.roberta.encoder.layer.9.attention.output.dense.bias\", \"bert.roberta.encoder.layer.9.attention.output.LayerNorm.weight\", \"bert.roberta.encoder.layer.9.attention.output.LayerNorm.bias\", \"bert.roberta.encoder.layer.9.intermediate.dense.weight\", \"bert.roberta.encoder.layer.9.intermediate.dense.bias\", \"bert.roberta.encoder.layer.9.output.dense.weight\", \"bert.roberta.encoder.layer.9.output.dense.bias\", \"bert.roberta.encoder.layer.9.output.LayerNorm.weight\", \"bert.roberta.encoder.layer.9.output.LayerNorm.bias\", \"bert.roberta.encoder.layer.10.attention.self.query.weight\", \"bert.roberta.encoder.layer.10.attention.self.query.bias\", \"bert.roberta.encoder.layer.10.attention.self.key.weight\", \"bert.roberta.encoder.layer.10.attention.self.key.bias\", \"bert.roberta.encoder.layer.10.attention.self.value.weight\", \"bert.roberta.encoder.layer.10.attention.self.value.bias\", \"bert.roberta.encoder.layer.10.attention.output.dense.weight\", \"bert.roberta.encoder.layer.10.attention.output.dense.bias\", \"bert.roberta.encoder.layer.10.attention.output.LayerNorm.weight\", \"bert.roberta.encoder.layer.10.attention.output.LayerNorm.bias\", \"bert.roberta.encoder.layer.10.intermediate.dense.weight\", \"bert.roberta.encoder.layer.10.intermediate.dense.bias\", \"bert.roberta.encoder.layer.10.output.dense.weight\", \"bert.roberta.encoder.layer.10.output.dense.bias\", \"bert.roberta.encoder.layer.10.output.LayerNorm.weight\", \"bert.roberta.encoder.layer.10.output.LayerNorm.bias\", \"bert.roberta.encoder.layer.11.attention.self.query.weight\", \"bert.roberta.encoder.layer.11.attention.self.query.bias\", \"bert.roberta.encoder.layer.11.attention.self.key.weight\", \"bert.roberta.encoder.layer.11.attention.self.key.bias\", \"bert.roberta.encoder.layer.11.attention.self.value.weight\", \"bert.roberta.encoder.layer.11.attention.self.value.bias\", \"bert.roberta.encoder.layer.11.attention.output.dense.weight\", \"bert.roberta.encoder.layer.11.attention.output.dense.bias\", \"bert.roberta.encoder.layer.11.attention.output.LayerNorm.weight\", \"bert.roberta.encoder.layer.11.attention.output.LayerNorm.bias\", \"bert.roberta.encoder.layer.11.intermediate.dense.weight\", \"bert.roberta.encoder.layer.11.intermediate.dense.bias\", \"bert.roberta.encoder.layer.11.output.dense.weight\", \"bert.roberta.encoder.layer.11.output.dense.bias\", \"bert.roberta.encoder.layer.11.output.LayerNorm.weight\", \"bert.roberta.encoder.layer.11.output.LayerNorm.bias\". \n\tUnexpected key(s) in state_dict: \"bert.bert.embeddings.word_embeddings.weight\", \"bert.bert.embeddings.position_embeddings.weight\", \"bert.bert.embeddings.token_type_embeddings.weight\", \"bert.bert.embeddings.LayerNorm.weight\", \"bert.bert.embeddings.LayerNorm.bias\", \"bert.bert.encoder.layer.0.attention.self.query.weight\", \"bert.bert.encoder.layer.0.attention.self.query.bias\", \"bert.bert.encoder.layer.0.attention.self.key.weight\", \"bert.bert.encoder.layer.0.attention.self.key.bias\", \"bert.bert.encoder.layer.0.attention.self.value.weight\", \"bert.bert.encoder.layer.0.attention.self.value.bias\", \"bert.bert.encoder.layer.0.attention.output.dense.weight\", \"bert.bert.encoder.layer.0.attention.output.dense.bias\", \"bert.bert.encoder.layer.0.attention.output.LayerNorm.weight\", \"bert.bert.encoder.layer.0.attention.output.LayerNorm.bias\", \"bert.bert.encoder.layer.0.intermediate.dense.weight\", \"bert.bert.encoder.layer.0.intermediate.dense.bias\", \"bert.bert.encoder.layer.0.output.dense.weight\", \"bert.bert.encoder.layer.0.output.dense.bias\", \"bert.bert.encoder.layer.0.output.LayerNorm.weight\", \"bert.bert.encoder.layer.0.output.LayerNorm.bias\", \"bert.bert.encoder.layer.1.attention.self.query.weight\", \"bert.bert.encoder.layer.1.attention.self.query.bias\", \"bert.bert.encoder.layer.1.attention.self.key.weight\", \"bert.bert.encoder.layer.1.attention.self.key.bias\", \"bert.bert.encoder.layer.1.attention.self.value.weight\", \"bert.bert.encoder.layer.1.attention.self.value.bias\", \"bert.bert.encoder.layer.1.attention.output.dense.weight\", \"bert.bert.encoder.layer.1.attention.output.dense.bias\", \"bert.bert.encoder.layer.1.attention.output.LayerNorm.weight\", \"bert.bert.encoder.layer.1.attention.output.LayerNorm.bias\", \"bert.bert.encoder.layer.1.intermediate.dense.weight\", \"bert.bert.encoder.layer.1.intermediate.dense.bias\", \"bert.bert.encoder.layer.1.output.dense.weight\", \"bert.bert.encoder.layer.1.output.dense.bias\", \"bert.bert.encoder.layer.1.output.LayerNorm.weight\", \"bert.bert.encoder.layer.1.output.LayerNorm.bias\", \"bert.bert.encoder.layer.2.attention.self.query.weight\", \"bert.bert.encoder.layer.2.attention.self.query.bias\", \"bert.bert.encoder.layer.2.attention.self.key.weight\", \"bert.bert.encoder.layer.2.attention.self.key.bias\", \"bert.bert.encoder.layer.2.attention.self.value.weight\", \"bert.bert.encoder.layer.2.attention.self.value.bias\", \"bert.bert.encoder.layer.2.attention.output.dense.weight\", \"bert.bert.encoder.layer.2.attention.output.dense.bias\", \"bert.bert.encoder.layer.2.attention.output.LayerNorm.weight\", \"bert.bert.encoder.layer.2.attention.output.LayerNorm.bias\", \"bert.bert.encoder.layer.2.intermediate.dense.weight\", \"bert.bert.encoder.layer.2.intermediate.dense.bias\", \"bert.bert.encoder.layer.2.output.dense.weight\", \"bert.bert.encoder.layer.2.output.dense.bias\", \"bert.bert.encoder.layer.2.output.LayerNorm.weight\", \"bert.bert.encoder.layer.2.output.LayerNorm.bias\", \"bert.bert.encoder.layer.3.attention.self.query.weight\", \"bert.bert.encoder.layer.3.attention.self.query.bias\", \"bert.bert.encoder.layer.3.attention.self.key.weight\", \"bert.bert.encoder.layer.3.attention.self.key.bias\", \"bert.bert.encoder.layer.3.attention.self.value.weight\", \"bert.bert.encoder.layer.3.attention.self.value.bias\", \"bert.bert.encoder.layer.3.attention.output.dense.weight\", \"bert.bert.encoder.layer.3.attention.output.dense.bias\", \"bert.bert.encoder.layer.3.attention.output.LayerNorm.weight\", \"bert.bert.encoder.layer.3.attention.output.LayerNorm.bias\", \"bert.bert.encoder.layer.3.intermediate.dense.weight\", \"bert.bert.encoder.layer.3.intermediate.dense.bias\", \"bert.bert.encoder.layer.3.output.dense.weight\", \"bert.bert.encoder.layer.3.output.dense.bias\", \"bert.bert.encoder.layer.3.output.LayerNorm.weight\", \"bert.bert.encoder.layer.3.output.LayerNorm.bias\", \"bert.bert.encoder.layer.4.attention.self.query.weight\", \"bert.bert.encoder.layer.4.attention.self.query.bias\", \"bert.bert.encoder.layer.4.attention.self.key.weight\", \"bert.bert.encoder.layer.4.attention.self.key.bias\", \"bert.bert.encoder.layer.4.attention.self.value.weight\", \"bert.bert.encoder.layer.4.attention.self.value.bias\", \"bert.bert.encoder.layer.4.attention.output.dense.weight\", \"bert.bert.encoder.layer.4.attention.output.dense.bias\", \"bert.bert.encoder.layer.4.attention.output.LayerNorm.weight\", \"bert.bert.encoder.layer.4.attention.output.LayerNorm.bias\", \"bert.bert.encoder.layer.4.intermediate.dense.weight\", \"bert.bert.encoder.layer.4.intermediate.dense.bias\", \"bert.bert.encoder.layer.4.output.dense.weight\", \"bert.bert.encoder.layer.4.output.dense.bias\", \"bert.bert.encoder.layer.4.output.LayerNorm.weight\", \"bert.bert.encoder.layer.4.output.LayerNorm.bias\", \"bert.bert.encoder.layer.5.attention.self.query.weight\", \"bert.bert.encoder.layer.5.attention.self.query.bias\", \"bert.bert.encoder.layer.5.attention.self.key.weight\", \"bert.bert.encoder.layer.5.attention.self.key.bias\", \"bert.bert.encoder.layer.5.attention.self.value.weight\", \"bert.bert.encoder.layer.5.attention.self.value.bias\", \"bert.bert.encoder.layer.5.attention.output.dense.weight\", \"bert.bert.encoder.layer.5.attention.output.dense.bias\", \"bert.bert.encoder.layer.5.attention.output.LayerNorm.weight\", \"bert.bert.encoder.layer.5.attention.output.LayerNorm.bias\", \"bert.bert.encoder.layer.5.intermediate.dense.weight\", \"bert.bert.encoder.layer.5.intermediate.dense.bias\", \"bert.bert.encoder.layer.5.output.dense.weight\", \"bert.bert.encoder.layer.5.output.dense.bias\", \"bert.bert.encoder.layer.5.output.LayerNorm.weight\", \"bert.bert.encoder.layer.5.output.LayerNorm.bias\", \"bert.bert.encoder.layer.6.attention.self.query.weight\", \"bert.bert.encoder.layer.6.attention.self.query.bias\", \"bert.bert.encoder.layer.6.attention.self.key.weight\", \"bert.bert.encoder.layer.6.attention.self.key.bias\", \"bert.bert.encoder.layer.6.attention.self.value.weight\", \"bert.bert.encoder.layer.6.attention.self.value.bias\", \"bert.bert.encoder.layer.6.attention.output.dense.weight\", \"bert.bert.encoder.layer.6.attention.output.dense.bias\", \"bert.bert.encoder.layer.6.attention.output.LayerNorm.weight\", \"bert.bert.encoder.layer.6.attention.output.LayerNorm.bias\", \"bert.bert.encoder.layer.6.intermediate.dense.weight\", \"bert.bert.encoder.layer.6.intermediate.dense.bias\", \"bert.bert.encoder.layer.6.output.dense.weight\", \"bert.bert.encoder.layer.6.output.dense.bias\", \"bert.bert.encoder.layer.6.output.LayerNorm.weight\", \"bert.bert.encoder.layer.6.output.LayerNorm.bias\", \"bert.bert.encoder.layer.7.attention.self.query.weight\", \"bert.bert.encoder.layer.7.attention.self.query.bias\", \"bert.bert.encoder.layer.7.attention.self.key.weight\", \"bert.bert.encoder.layer.7.attention.self.key.bias\", \"bert.bert.encoder.layer.7.attention.self.value.weight\", \"bert.bert.encoder.layer.7.attention.self.value.bias\", \"bert.bert.encoder.layer.7.attention.output.dense.weight\", \"bert.bert.encoder.layer.7.attention.output.dense.bias\", \"bert.bert.encoder.layer.7.attention.output.LayerNorm.weight\", \"bert.bert.encoder.layer.7.attention.output.LayerNorm.bias\", \"bert.bert.encoder.layer.7.intermediate.dense.weight\", \"bert.bert.encoder.layer.7.intermediate.dense.bias\", \"bert.bert.encoder.layer.7.output.dense.weight\", \"bert.bert.encoder.layer.7.output.dense.bias\", \"bert.bert.encoder.layer.7.output.LayerNorm.weight\", \"bert.bert.encoder.layer.7.output.LayerNorm.bias\", \"bert.bert.encoder.layer.8.attention.self.query.weight\", \"bert.bert.encoder.layer.8.attention.self.query.bias\", \"bert.bert.encoder.layer.8.attention.self.key.weight\", \"bert.bert.encoder.layer.8.attention.self.key.bias\", \"bert.bert.encoder.layer.8.attention.self.value.weight\", \"bert.bert.encoder.layer.8.attention.self.value.bias\", \"bert.bert.encoder.layer.8.attention.output.dense.weight\", \"bert.bert.encoder.layer.8.attention.output.dense.bias\", \"bert.bert.encoder.layer.8.attention.output.LayerNorm.weight\", \"bert.bert.encoder.layer.8.attention.output.LayerNorm.bias\", \"bert.bert.encoder.layer.8.intermediate.dense.weight\", \"bert.bert.encoder.layer.8.intermediate.dense.bias\", \"bert.bert.encoder.layer.8.output.dense.weight\", \"bert.bert.encoder.layer.8.output.dense.bias\", \"bert.bert.encoder.layer.8.output.LayerNorm.weight\", \"bert.bert.encoder.layer.8.output.LayerNorm.bias\", \"bert.bert.encoder.layer.9.attention.self.query.weight\", \"bert.bert.encoder.layer.9.attention.self.query.bias\", \"bert.bert.encoder.layer.9.attention.self.key.weight\", \"bert.bert.encoder.layer.9.attention.self.key.bias\", \"bert.bert.encoder.layer.9.attention.self.value.weight\", \"bert.bert.encoder.layer.9.attention.self.value.bias\", \"bert.bert.encoder.layer.9.attention.output.dense.weight\", \"bert.bert.encoder.layer.9.attention.output.dense.bias\", \"bert.bert.encoder.layer.9.attention.output.LayerNorm.weight\", \"bert.bert.encoder.layer.9.attention.output.LayerNorm.bias\", \"bert.bert.encoder.layer.9.intermediate.dense.weight\", \"bert.bert.encoder.layer.9.intermediate.dense.bias\", \"bert.bert.encoder.layer.9.output.dense.weight\", \"bert.bert.encoder.layer.9.output.dense.bias\", \"bert.bert.encoder.layer.9.output.LayerNorm.weight\", \"bert.bert.encoder.layer.9.output.LayerNorm.bias\", \"bert.bert.encoder.layer.10.attention.self.query.weight\", \"bert.bert.encoder.layer.10.attention.self.query.bias\", \"bert.bert.encoder.layer.10.attention.self.key.weight\", \"bert.bert.encoder.layer.10.attention.self.key.bias\", \"bert.bert.encoder.layer.10.attention.self.value.weight\", \"bert.bert.encoder.layer.10.attention.self.value.bias\", \"bert.bert.encoder.layer.10.attention.output.dense.weight\", \"bert.bert.encoder.layer.10.attention.output.dense.bias\", \"bert.bert.encoder.layer.10.attention.output.LayerNorm.weight\", \"bert.bert.encoder.layer.10.attention.output.LayerNorm.bias\", \"bert.bert.encoder.layer.10.intermediate.dense.weight\", \"bert.bert.encoder.layer.10.intermediate.dense.bias\", \"bert.bert.encoder.layer.10.output.dense.weight\", \"bert.bert.encoder.layer.10.output.dense.bias\", \"bert.bert.encoder.layer.10.output.LayerNorm.weight\", \"bert.bert.encoder.layer.10.output.LayerNorm.bias\", \"bert.bert.encoder.layer.11.attention.self.query.weight\", \"bert.bert.encoder.layer.11.attention.self.query.bias\", \"bert.bert.encoder.layer.11.attention.self.key.weight\", \"bert.bert.encoder.layer.11.attention.self.key.bias\", \"bert.bert.encoder.layer.11.attention.self.value.weight\", \"bert.bert.encoder.layer.11.attention.self.value.bias\", \"bert.bert.encoder.layer.11.attention.output.dense.weight\", \"bert.bert.encoder.layer.11.attention.output.dense.bias\", \"bert.bert.encoder.layer.11.attention.output.LayerNorm.weight\", \"bert.bert.encoder.layer.11.attention.output.LayerNorm.bias\", \"bert.bert.encoder.layer.11.intermediate.dense.weight\", \"bert.bert.encoder.layer.11.intermediate.dense.bias\", \"bert.bert.encoder.layer.11.output.dense.weight\", \"bert.bert.encoder.layer.11.output.dense.bias\", \"bert.bert.encoder.layer.11.output.LayerNorm.weight\", \"bert.bert.encoder.layer.11.output.LayerNorm.bias\", \"bert.bert.pooler.dense.weight\", \"bert.bert.pooler.dense.bias\". ",
     "output_type": "error",
     "traceback": [
      "\u001b[0;31m---------------------------------------------------------------------------\u001b[0m",
      "\u001b[0;31mRuntimeError\u001b[0m                              Traceback (most recent call last)",
      "\u001b[0;32m<ipython-input-9-651a428938ad>\u001b[0m in \u001b[0;36m<module>\u001b[0;34m\u001b[0m\n\u001b[1;32m      1\u001b[0m \u001b[0;31m# On désérialise le meilleur modèle enregistré :\u001b[0m\u001b[0;34m\u001b[0m\u001b[0;34m\u001b[0m\u001b[0;34m\u001b[0m\u001b[0m\n\u001b[1;32m      2\u001b[0m \u001b[0mmodel\u001b[0m \u001b[0;34m=\u001b[0m \u001b[0mEntityModel\u001b[0m\u001b[0;34m(\u001b[0m\u001b[0mnum_tag\u001b[0m\u001b[0;34m=\u001b[0m\u001b[0mnum_tag\u001b[0m\u001b[0;34m)\u001b[0m\u001b[0;34m\u001b[0m\u001b[0;34m\u001b[0m\u001b[0m\n\u001b[0;32m----> 3\u001b[0;31m \u001b[0mmodel\u001b[0m\u001b[0;34m.\u001b[0m\u001b[0mload_state_dict\u001b[0m\u001b[0;34m(\u001b[0m\u001b[0mtorch\u001b[0m\u001b[0;34m.\u001b[0m\u001b[0mload\u001b[0m\u001b[0;34m(\u001b[0m\u001b[0;34m'data/models/model_trained_en.bin'\u001b[0m\u001b[0;34m)\u001b[0m\u001b[0;34m)\u001b[0m\u001b[0;34m\u001b[0m\u001b[0;34m\u001b[0m\u001b[0m\n\u001b[0m",
      "\u001b[0;32m~/.local/lib/python3.6/site-packages/torch/nn/modules/module.py\u001b[0m in \u001b[0;36mload_state_dict\u001b[0;34m(self, state_dict, strict)\u001b[0m\n\u001b[1;32m   1405\u001b[0m         \u001b[0;32mif\u001b[0m \u001b[0mlen\u001b[0m\u001b[0;34m(\u001b[0m\u001b[0merror_msgs\u001b[0m\u001b[0;34m)\u001b[0m \u001b[0;34m>\u001b[0m \u001b[0;36m0\u001b[0m\u001b[0;34m:\u001b[0m\u001b[0;34m\u001b[0m\u001b[0;34m\u001b[0m\u001b[0m\n\u001b[1;32m   1406\u001b[0m             raise RuntimeError('Error(s) in loading state_dict for {}:\\n\\t{}'.format(\n\u001b[0;32m-> 1407\u001b[0;31m                                self.__class__.__name__, \"\\n\\t\".join(error_msgs)))\n\u001b[0m\u001b[1;32m   1408\u001b[0m         \u001b[0;32mreturn\u001b[0m \u001b[0m_IncompatibleKeys\u001b[0m\u001b[0;34m(\u001b[0m\u001b[0mmissing_keys\u001b[0m\u001b[0;34m,\u001b[0m \u001b[0munexpected_keys\u001b[0m\u001b[0;34m)\u001b[0m\u001b[0;34m\u001b[0m\u001b[0;34m\u001b[0m\u001b[0m\n\u001b[1;32m   1409\u001b[0m \u001b[0;34m\u001b[0m\u001b[0m\n",
      "\u001b[0;31mRuntimeError\u001b[0m: Error(s) in loading state_dict for EntityModel:\n\tMissing key(s) in state_dict: \"bert.roberta.embeddings.position_ids\", \"bert.roberta.embeddings.word_embeddings.weight\", \"bert.roberta.embeddings.position_embeddings.weight\", \"bert.roberta.embeddings.token_type_embeddings.weight\", \"bert.roberta.embeddings.LayerNorm.weight\", \"bert.roberta.embeddings.LayerNorm.bias\", \"bert.roberta.encoder.layer.0.attention.self.query.weight\", \"bert.roberta.encoder.layer.0.attention.self.query.bias\", \"bert.roberta.encoder.layer.0.attention.self.key.weight\", \"bert.roberta.encoder.layer.0.attention.self.key.bias\", \"bert.roberta.encoder.layer.0.attention.self.value.weight\", \"bert.roberta.encoder.layer.0.attention.self.value.bias\", \"bert.roberta.encoder.layer.0.attention.output.dense.weight\", \"bert.roberta.encoder.layer.0.attention.output.dense.bias\", \"bert.roberta.encoder.layer.0.attention.output.LayerNorm.weight\", \"bert.roberta.encoder.layer.0.attention.output.LayerNorm.bias\", \"bert.roberta.encoder.layer.0.intermediate.dense.weight\", \"bert.roberta.encoder.layer.0.intermediate.dense.bias\", \"bert.roberta.encoder.layer.0.output.dense.weight\", \"bert.roberta.encoder.layer.0.output.dense.bias\", \"bert.roberta.encoder.layer.0.output.LayerNorm.weight\", \"bert.roberta.encoder.layer.0.output.LayerNorm.bias\", \"bert.roberta.encoder.layer.1.attention.self.query.weight\", \"bert.roberta.encoder.layer.1.attention.self.query.bias\", \"bert.roberta.encoder.layer.1.attention.self.key.weight\", \"bert.roberta.encoder.layer.1.attention.self.key.bias\", \"bert.roberta.encoder.layer.1.attention.self.value.weight\", \"bert.roberta.encoder.layer.1.attention.self.value.bias\", \"bert.roberta.encoder.layer.1.attention.output.dense.weight\", \"bert.roberta.encoder.layer.1.attention.output.dense.bias\", \"bert.roberta.encoder.layer.1.attention.output.LayerNorm.weight\", \"bert.roberta.encoder.layer.1.attention.output.LayerNorm.bias\", \"bert.roberta.encoder.layer.1.intermediate.dense.weight\", \"bert.roberta.encoder.layer.1.intermediate.dense.bias\", \"bert.roberta.encoder.layer.1.output.dense.weight\", \"bert.roberta.encoder.layer.1.output.dense.bias\", \"bert.roberta.encoder.layer.1.output.LayerNorm.weight\", \"bert.roberta.encoder.layer.1.output.LayerNorm.bias\", \"bert.roberta.encoder.layer.2.attention.self.query.weight\", \"bert.roberta.encoder.layer.2.attention.self.query.bias\", \"bert.roberta.encoder.layer.2.attention.self.key.weight\", \"bert.roberta.encoder.layer.2.attention.self.key.bias\", \"bert.roberta.encoder.layer.2.attention.self.value.weight\", \"bert.roberta.encoder.layer.2.attention.self.value.bias\", \"bert.roberta.encoder.layer.2.attention.output.dense.weight\", \"bert.roberta.encoder.layer.2.attention.output.dense.bias\", \"bert.roberta.encoder.layer.2.attention.output.LayerNorm.weight\", \"bert.roberta.encoder.layer.2.attention.output.LayerNorm.bias\", \"bert.roberta.encoder.layer.2.intermediate.dense.weight\", \"bert.roberta.encoder.layer.2.intermediate.dense.bias\", \"bert.roberta.encoder.layer.2.output.dense.weight\", \"bert.roberta.encoder.layer.2.output.dense.bias\", \"bert.roberta.encoder.layer.2.output.LayerNorm.weight\", \"bert.roberta.encoder.layer.2.output.LayerNorm.bias\", \"bert.roberta.encoder.layer.3.attention.self.query.weight\", \"bert.roberta.encoder.layer.3.attention.self.query.bias\", \"bert.roberta.encoder.layer.3.attention.self.key.weight\", \"bert.roberta.encoder.layer.3.attention.self.key.bias\", \"bert.roberta.encoder.layer.3.attention.self.value.weight\", \"bert.roberta.encoder.layer.3.attention.self.value.bias\", \"bert.roberta.encoder.layer.3.attention.output.dense.weight\", \"bert.roberta.encoder.layer.3.attention.output.dense.bias\", \"bert.roberta.encoder.layer.3.attention.output.LayerNorm.weight\", \"bert.roberta.encoder.layer.3.attention.output.LayerNorm.bias\", \"bert.roberta.encoder.layer.3.intermediate.dense.weight\", \"bert.roberta.encoder.layer.3.intermediate.dense.bias\", \"bert.roberta.encoder.layer.3.output.dense.weight\", \"bert.roberta.encoder.layer.3.output.dense.bias\", \"bert.roberta.encoder.layer.3.output.LayerNorm.weight\", \"bert.roberta.encoder.layer.3.output.LayerNorm.bias\", \"bert.roberta.encoder.layer.4.attention.self.query.weight\", \"bert.roberta.encoder.layer.4.attention.self.query.bias\", \"bert.roberta.encoder.layer.4.attention.self.key.weight\", \"bert.roberta.encoder.layer.4.attention.self.key.bias\", \"bert.roberta.encoder.layer.4.attention.self.value.weight\", \"bert.roberta.encoder.layer.4.attention.self.value.bias\", \"bert.roberta.encoder.layer.4.attention.output.dense.weight\", \"bert.roberta.encoder.layer.4.attention.output.dense.bias\", \"bert.roberta.encoder.layer.4.attention.output.LayerNorm.weight\", \"bert.roberta.encoder.layer.4.attention.output.LayerNorm.bias\", \"bert.roberta.encoder.layer.4.intermediate.dense.weight\", \"bert.roberta.encoder.layer.4.intermediate.dense.bias\", \"bert.roberta.encoder.layer.4.output.dense.weight\", \"bert.roberta.encoder.layer.4.output.dense.bias\", \"bert.roberta.encoder.layer.4.output.LayerNorm.weight\", \"bert.roberta.encoder.layer.4.output.LayerNorm.bias\", \"bert.roberta.encoder.layer.5.attention.self.query.weight\", \"bert.roberta.encoder.layer.5.attention.self.query.bias\", \"bert.roberta.encoder.layer.5.attention.self.key.weight\", \"bert.roberta.encoder.layer.5.attention.self.key.bias\", \"bert.roberta.encoder.layer.5.attention.self.value.weight\", \"bert.roberta.encoder.layer.5.attention.self.value.bias\", \"bert.roberta.encoder.layer.5.attention.output.dense.weight\", \"bert.roberta.encoder.layer.5.attention.output.dense.bias\", \"bert.roberta.encoder.layer.5.attention.output.LayerNorm.weight\", \"bert.roberta.encoder.layer.5.attention.output.LayerNorm.bias\", \"bert.roberta.encoder.layer.5.intermediate.dense.weight\", \"bert.roberta.encoder.layer.5.intermediate.dense.bias\", \"bert.roberta.encoder.layer.5.output.dense.weight\", \"bert.roberta.encoder.layer.5.output.dense.bias\", \"bert.roberta.encoder.layer.5.output.LayerNorm.weight\", \"bert.roberta.encoder.layer.5.output.LayerNorm.bias\", \"bert.roberta.encoder.layer.6.attention.self.query.weight\", \"bert.roberta.encoder.layer.6.attention.self.query.bias\", \"bert.roberta.encoder.layer.6.attention.self.key.weight\", \"bert.roberta.encoder.layer.6.attention.self.key.bias\", \"bert.roberta.encoder.layer.6.attention.self.value.weight\", \"bert.roberta.encoder.layer.6.attention.self.value.bias\", \"bert.roberta.encoder.layer.6.attention.output.dense.weight\", \"bert.roberta.encoder.layer.6.attention.output.dense.bias\", \"bert.roberta.encoder.layer.6.attention.output.LayerNorm.weight\", \"bert.roberta.encoder.layer.6.attention.output.LayerNorm.bias\", \"bert.roberta.encoder.layer.6.intermediate.dense.weight\", \"bert.roberta.encoder.layer.6.intermediate.dense.bias\", \"bert.roberta.encoder.layer.6.output.dense.weight\", \"bert.roberta.encoder.layer.6.output.dense.bias\", \"bert.roberta.encoder.layer.6.output.LayerNorm.weight\", \"bert.roberta.encoder.layer.6.output.LayerNorm.bias\", \"bert.roberta.encoder.layer.7.attention.self.query.weight\", \"bert.roberta.encoder.layer.7.attention.self.query.bias\", \"bert.roberta.encoder.layer.7.attention.self.key.weight\", \"bert.roberta.encoder.layer.7.attention.self.key.bias\", \"bert.roberta.encoder.layer.7.attention.self.value.weight\", \"bert.roberta.encoder.layer.7.attention.self.value.bias\", \"bert.roberta.encoder.layer.7.attention.output.dense.weight\", \"bert.roberta.encoder.layer.7.attention.output.dense.bias\", \"bert.roberta.encoder.layer.7.attention.output.LayerNorm.weight\", \"bert.roberta.encoder.layer.7.attention.output.LayerNorm.bias\", \"bert.roberta.encoder.layer.7.intermediate.dense.weight\", \"bert.roberta.encoder.layer.7.intermediate.dense.bias\", \"bert.roberta.encoder.layer.7.output.dense.weight\", \"bert.roberta.encoder.layer.7.output.dense.bias\", \"bert.roberta.encoder.layer.7.output.LayerNorm.weight\", \"bert.roberta.encoder.layer.7.output.LayerNorm.bias\", \"bert.roberta.encoder.layer.8.attention.self.query.weight\", \"bert.roberta.encoder.layer.8.attention.self.query.bias\", \"bert.roberta.encoder.layer.8.attention.self.key.weight\", \"bert.roberta.encoder.layer.8.attention.self.key.bias\", \"bert.roberta.encoder.layer.8.attention.self.value.weight\", \"bert.roberta.encoder.layer.8.attention.self.value.bias\", \"bert.roberta.encoder.layer.8.attention.output.dense.weight\", \"bert.roberta.encoder.layer.8.attention.output.dense.bias\", \"bert.roberta.encoder.layer.8.attention.output.LayerNorm.weight\", \"bert.roberta.encoder.layer.8.attention.output.LayerNorm.bias\", \"bert.roberta.encoder.layer.8.intermediate.dense.weight\", \"bert.roberta.encoder.layer.8.intermediate.dense.bias\", \"bert.roberta.encoder.layer.8.output.dense.weight\", \"bert.roberta.encoder.layer.8.output.dense.bias\", \"bert.roberta.encoder.layer.8.output.LayerNorm.weight\", \"bert.roberta.encoder.layer.8.output.LayerNorm.bias\", \"bert.roberta.encoder.layer.9.attention.self.query.weight\", \"bert.roberta.encoder.layer.9.attention.self.query.bias\", \"bert.roberta.encoder.layer.9.attention.self.key.weight\", \"bert.roberta.encoder.layer.9.attention.self.key.bias\", \"bert.roberta.encoder.layer.9.attention.self.value.weight\", \"bert.roberta.encoder.layer.9.attention.self.value.bias\", \"bert.roberta.encoder.layer.9.attention.output.dense.weight\", \"bert.roberta.encoder.layer.9.attention.output.dense.bias\", \"bert.roberta.encoder.layer.9.attention.output.LayerNorm.weight\", \"bert.roberta.encoder.layer.9.attention.output.LayerNorm.bias\", \"bert.roberta.encoder.layer.9.intermediate.dense.weight\", \"bert.roberta.encoder.layer.9.intermediate.dense.bias\", \"bert.roberta.encoder.layer.9.output.dense.weight\", \"bert.roberta.encoder.layer.9.output.dense.bias\", \"bert.roberta.encoder.layer.9.output.LayerNorm.weight\", \"bert.roberta.encoder.layer.9.output.LayerNorm.bias\", \"bert.roberta.encoder.layer.10.attention.self.query.weight\", \"bert.roberta.encoder.layer.10.attention.self.query.bias\", \"bert.roberta.encoder.layer.10.attention.self.key.weight\", \"bert.roberta.encoder.layer.10.attention.self.key.bias\", \"bert.roberta.encoder.layer.10.attention.self.value.weight\", \"bert.roberta.encoder.layer.10.attention.self.value.bias\", \"bert.roberta.encoder.layer.10.attention.output.dense.weight\", \"bert.roberta.encoder.layer.10.attention.output.dense.bias\", \"bert.roberta.encoder.layer.10.attention.output.LayerNorm.weight\", \"bert.roberta.encoder.layer.10.attention.output.LayerNorm.bias\", \"bert.roberta.encoder.layer.10.intermediate.dense.weight\", \"bert.roberta.encoder.layer.10.intermediate.dense.bias\", \"bert.roberta.encoder.layer.10.output.dense.weight\", \"bert.roberta.encoder.layer.10.output.dense.bias\", \"bert.roberta.encoder.layer.10.output.LayerNorm.weight\", \"bert.roberta.encoder.layer.10.output.LayerNorm.bias\", \"bert.roberta.encoder.layer.11.attention.self.query.weight\", \"bert.roberta.encoder.layer.11.attention.self.query.bias\", \"bert.roberta.encoder.layer.11.attention.self.key.weight\", \"bert.roberta.encoder.layer.11.attention.self.key.bias\", \"bert.roberta.encoder.layer.11.attention.self.value.weight\", \"bert.roberta.encoder.layer.11.attention.self.value.bias\", \"bert.roberta.encoder.layer.11.attention.output.dense.weight\", \"bert.roberta.encoder.layer.11.attention.output.dense.bias\", \"bert.roberta.encoder.layer.11.attention.output.LayerNorm.weight\", \"bert.roberta.encoder.layer.11.attention.output.LayerNorm.bias\", \"bert.roberta.encoder.layer.11.intermediate.dense.weight\", \"bert.roberta.encoder.layer.11.intermediate.dense.bias\", \"bert.roberta.encoder.layer.11.output.dense.weight\", \"bert.roberta.encoder.layer.11.output.dense.bias\", \"bert.roberta.encoder.layer.11.output.LayerNorm.weight\", \"bert.roberta.encoder.layer.11.output.LayerNorm.bias\". \n\tUnexpected key(s) in state_dict: \"bert.bert.embeddings.word_embeddings.weight\", \"bert.bert.embeddings.position_embeddings.weight\", \"bert.bert.embeddings.token_type_embeddings.weight\", \"bert.bert.embeddings.LayerNorm.weight\", \"bert.bert.embeddings.LayerNorm.bias\", \"bert.bert.encoder.layer.0.attention.self.query.weight\", \"bert.bert.encoder.layer.0.attention.self.query.bias\", \"bert.bert.encoder.layer.0.attention.self.key.weight\", \"bert.bert.encoder.layer.0.attention.self.key.bias\", \"bert.bert.encoder.layer.0.attention.self.value.weight\", \"bert.bert.encoder.layer.0.attention.self.value.bias\", \"bert.bert.encoder.layer.0.attention.output.dense.weight\", \"bert.bert.encoder.layer.0.attention.output.dense.bias\", \"bert.bert.encoder.layer.0.attention.output.LayerNorm.weight\", \"bert.bert.encoder.layer.0.attention.output.LayerNorm.bias\", \"bert.bert.encoder.layer.0.intermediate.dense.weight\", \"bert.bert.encoder.layer.0.intermediate.dense.bias\", \"bert.bert.encoder.layer.0.output.dense.weight\", \"bert.bert.encoder.layer.0.output.dense.bias\", \"bert.bert.encoder.layer.0.output.LayerNorm.weight\", \"bert.bert.encoder.layer.0.output.LayerNorm.bias\", \"bert.bert.encoder.layer.1.attention.self.query.weight\", \"bert.bert.encoder.layer.1.attention.self.query.bias\", \"bert.bert.encoder.layer.1.attention.self.key.weight\", \"bert.bert.encoder.layer.1.attention.self.key.bias\", \"bert.bert.encoder.layer.1.attention.self.value.weight\", \"bert.bert.encoder.layer.1.attention.self.value.bias\", \"bert.bert.encoder.layer.1.attention.output.dense.weight\", \"bert.bert.encoder.layer.1.attention.output.dense.bias\", \"bert.bert.encoder.layer.1.attention.output.LayerNorm.weight\", \"bert.bert.encoder.layer.1.attention.output.LayerNorm.bias\", \"bert.bert.encoder.layer.1.intermediate.dense.weight\", \"bert.bert.encoder.layer.1.intermediate.dense.bias\", \"bert.bert.encoder.layer.1.output.dense.weight\", \"bert.bert.encoder.layer.1.output.dense.bias\", \"bert.bert.encoder.layer.1.output.LayerNorm.weight\", \"bert.bert.encoder.layer.1.output.LayerNorm.bias\", \"bert.bert.encoder.layer.2.attention.self.query.weight\", \"bert.bert.encoder.layer.2.attention.self.query.bias\", \"bert.bert.encoder.layer.2.attention.self.key.weight\", \"bert.bert.encoder.layer.2.attention.self.key.bias\", \"bert.bert.encoder.layer.2.attention.self.value.weight\", \"bert.bert.encoder.layer.2.attention.self.value.bias\", \"bert.bert.encoder.layer.2.attention.output.dense.weight\", \"bert.bert.encoder.layer.2.attention.output.dense.bias\", \"bert.bert.encoder.layer.2.attention.output.LayerNorm.weight\", \"bert.bert.encoder.layer.2.attention.output.LayerNorm.bias\", \"bert.bert.encoder.layer.2.intermediate.dense.weight\", \"bert.bert.encoder.layer.2.intermediate.dense.bias\", \"bert.bert.encoder.layer.2.output.dense.weight\", \"bert.bert.encoder.layer.2.output.dense.bias\", \"bert.bert.encoder.layer.2.output.LayerNorm.weight\", \"bert.bert.encoder.layer.2.output.LayerNorm.bias\", \"bert.bert.encoder.layer.3.attention.self.query.weight\", \"bert.bert.encoder.layer.3.attention.self.query.bias\", \"bert.bert.encoder.layer.3.attention.self.key.weight\", \"bert.bert.encoder.layer.3.attention.self.key.bias\", \"bert.bert.encoder.layer.3.attention.self.value.weight\", \"bert.bert.encoder.layer.3.attention.self.value.bias\", \"bert.bert.encoder.layer.3.attention.output.dense.weight\", \"bert.bert.encoder.layer.3.attention.output.dense.bias\", \"bert.bert.encoder.layer.3.attention.output.LayerNorm.weight\", \"bert.bert.encoder.layer.3.attention.output.LayerNorm.bias\", \"bert.bert.encoder.layer.3.intermediate.dense.weight\", \"bert.bert.encoder.layer.3.intermediate.dense.bias\", \"bert.bert.encoder.layer.3.output.dense.weight\", \"bert.bert.encoder.layer.3.output.dense.bias\", \"bert.bert.encoder.layer.3.output.LayerNorm.weight\", \"bert.bert.encoder.layer.3.output.LayerNorm.bias\", \"bert.bert.encoder.layer.4.attention.self.query.weight\", \"bert.bert.encoder.layer.4.attention.self.query.bias\", \"bert.bert.encoder.layer.4.attention.self.key.weight\", \"bert.bert.encoder.layer.4.attention.self.key.bias\", \"bert.bert.encoder.layer.4.attention.self.value.weight\", \"bert.bert.encoder.layer.4.attention.self.value.bias\", \"bert.bert.encoder.layer.4.attention.output.dense.weight\", \"bert.bert.encoder.layer.4.attention.output.dense.bias\", \"bert.bert.encoder.layer.4.attention.output.LayerNorm.weight\", \"bert.bert.encoder.layer.4.attention.output.LayerNorm.bias\", \"bert.bert.encoder.layer.4.intermediate.dense.weight\", \"bert.bert.encoder.layer.4.intermediate.dense.bias\", \"bert.bert.encoder.layer.4.output.dense.weight\", \"bert.bert.encoder.layer.4.output.dense.bias\", \"bert.bert.encoder.layer.4.output.LayerNorm.weight\", \"bert.bert.encoder.layer.4.output.LayerNorm.bias\", \"bert.bert.encoder.layer.5.attention.self.query.weight\", \"bert.bert.encoder.layer.5.attention.self.query.bias\", \"bert.bert.encoder.layer.5.attention.self.key.weight\", \"bert.bert.encoder.layer.5.attention.self.key.bias\", \"bert.bert.encoder.layer.5.attention.self.value.weight\", \"bert.bert.encoder.layer.5.attention.self.value.bias\", \"bert.bert.encoder.layer.5.attention.output.dense.weight\", \"bert.bert.encoder.layer.5.attention.output.dense.bias\", \"bert.bert.encoder.layer.5.attention.output.LayerNorm.weight\", \"bert.bert.encoder.layer.5.attention.output.LayerNorm.bias\", \"bert.bert.encoder.layer.5.intermediate.dense.weight\", \"bert.bert.encoder.layer.5.intermediate.dense.bias\", \"bert.bert.encoder.layer.5.output.dense.weight\", \"bert.bert.encoder.layer.5.output.dense.bias\", \"bert.bert.encoder.layer.5.output.LayerNorm.weight\", \"bert.bert.encoder.layer.5.output.LayerNorm.bias\", \"bert.bert.encoder.layer.6.attention.self.query.weight\", \"bert.bert.encoder.layer.6.attention.self.query.bias\", \"bert.bert.encoder.layer.6.attention.self.key.weight\", \"bert.bert.encoder.layer.6.attention.self.key.bias\", \"bert.bert.encoder.layer.6.attention.self.value.weight\", \"bert.bert.encoder.layer.6.attention.self.value.bias\", \"bert.bert.encoder.layer.6.attention.output.dense.weight\", \"bert.bert.encoder.layer.6.attention.output.dense.bias\", \"bert.bert.encoder.layer.6.attention.output.LayerNorm.weight\", \"bert.bert.encoder.layer.6.attention.output.LayerNorm.bias\", \"bert.bert.encoder.layer.6.intermediate.dense.weight\", \"bert.bert.encoder.layer.6.intermediate.dense.bias\", \"bert.bert.encoder.layer.6.output.dense.weight\", \"bert.bert.encoder.layer.6.output.dense.bias\", \"bert.bert.encoder.layer.6.output.LayerNorm.weight\", \"bert.bert.encoder.layer.6.output.LayerNorm.bias\", \"bert.bert.encoder.layer.7.attention.self.query.weight\", \"bert.bert.encoder.layer.7.attention.self.query.bias\", \"bert.bert.encoder.layer.7.attention.self.key.weight\", \"bert.bert.encoder.layer.7.attention.self.key.bias\", \"bert.bert.encoder.layer.7.attention.self.value.weight\", \"bert.bert.encoder.layer.7.attention.self.value.bias\", \"bert.bert.encoder.layer.7.attention.output.dense.weight\", \"bert.bert.encoder.layer.7.attention.output.dense.bias\", \"bert.bert.encoder.layer.7.attention.output.LayerNorm.weight\", \"bert.bert.encoder.layer.7.attention.output.LayerNorm.bias\", \"bert.bert.encoder.layer.7.intermediate.dense.weight\", \"bert.bert.encoder.layer.7.intermediate.dense.bias\", \"bert.bert.encoder.layer.7.output.dense.weight\", \"bert.bert.encoder.layer.7.output.dense.bias\", \"bert.bert.encoder.layer.7.output.LayerNorm.weight\", \"bert.bert.encoder.layer.7.output.LayerNorm.bias\", \"bert.bert.encoder.layer.8.attention.self.query.weight\", \"bert.bert.encoder.layer.8.attention.self.query.bias\", \"bert.bert.encoder.layer.8.attention.self.key.weight\", \"bert.bert.encoder.layer.8.attention.self.key.bias\", \"bert.bert.encoder.layer.8.attention.self.value.weight\", \"bert.bert.encoder.layer.8.attention.self.value.bias\", \"bert.bert.encoder.layer.8.attention.output.dense.weight\", \"bert.bert.encoder.layer.8.attention.output.dense.bias\", \"bert.bert.encoder.layer.8.attention.output.LayerNorm.weight\", \"bert.bert.encoder.layer.8.attention.output.LayerNorm.bias\", \"bert.bert.encoder.layer.8.intermediate.dense.weight\", \"bert.bert.encoder.layer.8.intermediate.dense.bias\", \"bert.bert.encoder.layer.8.output.dense.weight\", \"bert.bert.encoder.layer.8.output.dense.bias\", \"bert.bert.encoder.layer.8.output.LayerNorm.weight\", \"bert.bert.encoder.layer.8.output.LayerNorm.bias\", \"bert.bert.encoder.layer.9.attention.self.query.weight\", \"bert.bert.encoder.layer.9.attention.self.query.bias\", \"bert.bert.encoder.layer.9.attention.self.key.weight\", \"bert.bert.encoder.layer.9.attention.self.key.bias\", \"bert.bert.encoder.layer.9.attention.self.value.weight\", \"bert.bert.encoder.layer.9.attention.self.value.bias\", \"bert.bert.encoder.layer.9.attention.output.dense.weight\", \"bert.bert.encoder.layer.9.attention.output.dense.bias\", \"bert.bert.encoder.layer.9.attention.output.LayerNorm.weight\", \"bert.bert.encoder.layer.9.attention.output.LayerNorm.bias\", \"bert.bert.encoder.layer.9.intermediate.dense.weight\", \"bert.bert.encoder.layer.9.intermediate.dense.bias\", \"bert.bert.encoder.layer.9.output.dense.weight\", \"bert.bert.encoder.layer.9.output.dense.bias\", \"bert.bert.encoder.layer.9.output.LayerNorm.weight\", \"bert.bert.encoder.layer.9.output.LayerNorm.bias\", \"bert.bert.encoder.layer.10.attention.self.query.weight\", \"bert.bert.encoder.layer.10.attention.self.query.bias\", \"bert.bert.encoder.layer.10.attention.self.key.weight\", \"bert.bert.encoder.layer.10.attention.self.key.bias\", \"bert.bert.encoder.layer.10.attention.self.value.weight\", \"bert.bert.encoder.layer.10.attention.self.value.bias\", \"bert.bert.encoder.layer.10.attention.output.dense.weight\", \"bert.bert.encoder.layer.10.attention.output.dense.bias\", \"bert.bert.encoder.layer.10.attention.output.LayerNorm.weight\", \"bert.bert.encoder.layer.10.attention.output.LayerNorm.bias\", \"bert.bert.encoder.layer.10.intermediate.dense.weight\", \"bert.bert.encoder.layer.10.intermediate.dense.bias\", \"bert.bert.encoder.layer.10.output.dense.weight\", \"bert.bert.encoder.layer.10.output.dense.bias\", \"bert.bert.encoder.layer.10.output.LayerNorm.weight\", \"bert.bert.encoder.layer.10.output.LayerNorm.bias\", \"bert.bert.encoder.layer.11.attention.self.query.weight\", \"bert.bert.encoder.layer.11.attention.self.query.bias\", \"bert.bert.encoder.layer.11.attention.self.key.weight\", \"bert.bert.encoder.layer.11.attention.self.key.bias\", \"bert.bert.encoder.layer.11.attention.self.value.weight\", \"bert.bert.encoder.layer.11.attention.self.value.bias\", \"bert.bert.encoder.layer.11.attention.output.dense.weight\", \"bert.bert.encoder.layer.11.attention.output.dense.bias\", \"bert.bert.encoder.layer.11.attention.output.LayerNorm.weight\", \"bert.bert.encoder.layer.11.attention.output.LayerNorm.bias\", \"bert.bert.encoder.layer.11.intermediate.dense.weight\", \"bert.bert.encoder.layer.11.intermediate.dense.bias\", \"bert.bert.encoder.layer.11.output.dense.weight\", \"bert.bert.encoder.layer.11.output.dense.bias\", \"bert.bert.encoder.layer.11.output.LayerNorm.weight\", \"bert.bert.encoder.layer.11.output.LayerNorm.bias\", \"bert.bert.pooler.dense.weight\", \"bert.bert.pooler.dense.bias\". "
     ]
    }
   ],
   "source": [
    "# On désérialise le meilleur modèle enregistré :\n",
    "model = EntityModel(num_tag=num_tag)\n",
    "model.load_state_dict(torch.load('data/models/model_trained_en.bin'))"
   ]
  },
  {
   "cell_type": "code",
   "execution_count": 70,
   "id": "05621773",
   "metadata": {
    "ExecuteTime": {
     "end_time": "2022-06-26T08:39:58.538011Z",
     "start_time": "2022-06-26T08:39:58.446365Z"
    }
   },
   "outputs": [
    {
     "name": "stdout",
     "output_type": "stream",
     "text": [
      "The minister said the man and a family member were unharmed because they got out of the vehicle just before the blast .\n"
     ]
    }
   ],
   "source": [
    "i = 423\n",
    "single_example = test_dataset[i]\n",
    "print(' '.join(test_dataset.texts[i]))\n",
    "\n",
    "single_example = {k: single_example[k].unsqueeze(0) for k in single_example}\n",
    "with torch.no_grad():\n",
    "    output, loss = model(**single_example)\n",
    "\n",
    "# Retrait des valeurs qui ne contribuent pas à la loss :\n",
    "output = output[single_example['mask'] == 1]\n",
    "\n",
    "predictions_probas = nn.functional.softmax(output, dim=1).detach().squeeze()\n",
    "predictions_probas, predictions_classes = torch.max(predictions_probas, dim=1)"
   ]
  },
  {
   "cell_type": "code",
   "execution_count": 71,
   "id": "85364d9e",
   "metadata": {
    "ExecuteTime": {
     "end_time": "2022-06-26T08:39:58.738648Z",
     "start_time": "2022-06-26T08:39:58.689779Z"
    }
   },
   "outputs": [
    {
     "data": {
      "text/html": [
       "<div>\n",
       "<style scoped>\n",
       "    .dataframe tbody tr th:only-of-type {\n",
       "        vertical-align: middle;\n",
       "    }\n",
       "\n",
       "    .dataframe tbody tr th {\n",
       "        vertical-align: top;\n",
       "    }\n",
       "\n",
       "    .dataframe thead th {\n",
       "        text-align: right;\n",
       "    }\n",
       "</style>\n",
       "<table border=\"1\" class=\"dataframe\">\n",
       "  <thead>\n",
       "    <tr style=\"text-align: right;\">\n",
       "      <th></th>\n",
       "      <th>0</th>\n",
       "      <th>1</th>\n",
       "      <th>2</th>\n",
       "      <th>3</th>\n",
       "      <th>4</th>\n",
       "      <th>5</th>\n",
       "      <th>6</th>\n",
       "      <th>7</th>\n",
       "      <th>8</th>\n",
       "      <th>9</th>\n",
       "      <th>10</th>\n",
       "      <th>11</th>\n",
       "      <th>12</th>\n",
       "      <th>13</th>\n",
       "      <th>14</th>\n",
       "      <th>15</th>\n",
       "      <th>16</th>\n",
       "      <th>17</th>\n",
       "      <th>18</th>\n",
       "      <th>19</th>\n",
       "      <th>20</th>\n",
       "      <th>21</th>\n",
       "      <th>22</th>\n",
       "      <th>23</th>\n",
       "      <th>24</th>\n",
       "    </tr>\n",
       "  </thead>\n",
       "  <tbody>\n",
       "    <tr>\n",
       "      <th>token_text</th>\n",
       "      <td>[CLS]</td>\n",
       "      <td>the</td>\n",
       "      <td>minister</td>\n",
       "      <td>said</td>\n",
       "      <td>the</td>\n",
       "      <td>man</td>\n",
       "      <td>and</td>\n",
       "      <td>a</td>\n",
       "      <td>family</td>\n",
       "      <td>member</td>\n",
       "      <td>were</td>\n",
       "      <td>unharmed</td>\n",
       "      <td>because</td>\n",
       "      <td>they</td>\n",
       "      <td>got</td>\n",
       "      <td>out</td>\n",
       "      <td>of</td>\n",
       "      <td>the</td>\n",
       "      <td>vehicle</td>\n",
       "      <td>just</td>\n",
       "      <td>before</td>\n",
       "      <td>the</td>\n",
       "      <td>blast</td>\n",
       "      <td>.</td>\n",
       "      <td>[SEP]</td>\n",
       "    </tr>\n",
       "    <tr>\n",
       "      <th>token_id</th>\n",
       "      <td>101</td>\n",
       "      <td>1996</td>\n",
       "      <td>2704</td>\n",
       "      <td>2056</td>\n",
       "      <td>1996</td>\n",
       "      <td>2158</td>\n",
       "      <td>1998</td>\n",
       "      <td>1037</td>\n",
       "      <td>2155</td>\n",
       "      <td>2266</td>\n",
       "      <td>2020</td>\n",
       "      <td>28150</td>\n",
       "      <td>2138</td>\n",
       "      <td>2027</td>\n",
       "      <td>2288</td>\n",
       "      <td>2041</td>\n",
       "      <td>1997</td>\n",
       "      <td>1996</td>\n",
       "      <td>4316</td>\n",
       "      <td>2074</td>\n",
       "      <td>2077</td>\n",
       "      <td>1996</td>\n",
       "      <td>8479</td>\n",
       "      <td>1012</td>\n",
       "      <td>102</td>\n",
       "    </tr>\n",
       "    <tr>\n",
       "      <th>pred_code</th>\n",
       "      <td>0</td>\n",
       "      <td>0</td>\n",
       "      <td>0</td>\n",
       "      <td>0</td>\n",
       "      <td>0</td>\n",
       "      <td>0</td>\n",
       "      <td>0</td>\n",
       "      <td>0</td>\n",
       "      <td>0</td>\n",
       "      <td>0</td>\n",
       "      <td>0</td>\n",
       "      <td>0</td>\n",
       "      <td>0</td>\n",
       "      <td>0</td>\n",
       "      <td>0</td>\n",
       "      <td>0</td>\n",
       "      <td>0</td>\n",
       "      <td>0</td>\n",
       "      <td>0</td>\n",
       "      <td>0</td>\n",
       "      <td>0</td>\n",
       "      <td>0</td>\n",
       "      <td>0</td>\n",
       "      <td>0</td>\n",
       "      <td>0</td>\n",
       "    </tr>\n",
       "    <tr>\n",
       "      <th>pred_label</th>\n",
       "      <td>O</td>\n",
       "      <td>O</td>\n",
       "      <td>O</td>\n",
       "      <td>O</td>\n",
       "      <td>O</td>\n",
       "      <td>O</td>\n",
       "      <td>O</td>\n",
       "      <td>O</td>\n",
       "      <td>O</td>\n",
       "      <td>O</td>\n",
       "      <td>O</td>\n",
       "      <td>O</td>\n",
       "      <td>O</td>\n",
       "      <td>O</td>\n",
       "      <td>O</td>\n",
       "      <td>O</td>\n",
       "      <td>O</td>\n",
       "      <td>O</td>\n",
       "      <td>O</td>\n",
       "      <td>O</td>\n",
       "      <td>O</td>\n",
       "      <td>O</td>\n",
       "      <td>O</td>\n",
       "      <td>O</td>\n",
       "      <td>O</td>\n",
       "    </tr>\n",
       "    <tr>\n",
       "      <th>y_true</th>\n",
       "      <td>O</td>\n",
       "      <td>O</td>\n",
       "      <td>O</td>\n",
       "      <td>O</td>\n",
       "      <td>O</td>\n",
       "      <td>O</td>\n",
       "      <td>O</td>\n",
       "      <td>O</td>\n",
       "      <td>O</td>\n",
       "      <td>O</td>\n",
       "      <td>O</td>\n",
       "      <td>O</td>\n",
       "      <td>O</td>\n",
       "      <td>O</td>\n",
       "      <td>O</td>\n",
       "      <td>O</td>\n",
       "      <td>O</td>\n",
       "      <td>O</td>\n",
       "      <td>O</td>\n",
       "      <td>O</td>\n",
       "      <td>O</td>\n",
       "      <td>O</td>\n",
       "      <td>O</td>\n",
       "      <td>O</td>\n",
       "      <td>O</td>\n",
       "    </tr>\n",
       "    <tr>\n",
       "      <th>class_proba</th>\n",
       "      <td>0.999074</td>\n",
       "      <td>0.999998</td>\n",
       "      <td>0.999329</td>\n",
       "      <td>0.499869</td>\n",
       "      <td>0.999999</td>\n",
       "      <td>0.333333</td>\n",
       "      <td>0.998384</td>\n",
       "      <td>0.998224</td>\n",
       "      <td>0.99505</td>\n",
       "      <td>0.999293</td>\n",
       "      <td>0.998228</td>\n",
       "      <td>0.999462</td>\n",
       "      <td>0.998263</td>\n",
       "      <td>0.998102</td>\n",
       "      <td>0.999383</td>\n",
       "      <td>0.99857</td>\n",
       "      <td>0.998542</td>\n",
       "      <td>0.999997</td>\n",
       "      <td>0.998332</td>\n",
       "      <td>0.998324</td>\n",
       "      <td>0.499777</td>\n",
       "      <td>0.999562</td>\n",
       "      <td>0.999582</td>\n",
       "      <td>0.999999</td>\n",
       "      <td>0.999997</td>\n",
       "    </tr>\n",
       "  </tbody>\n",
       "</table>\n",
       "</div>"
      ],
      "text/plain": [
       "                   0         1         2         3         4         5   \\\n",
       "token_text      [CLS]       the  minister      said       the       man   \n",
       "token_id          101      1996      2704      2056      1996      2158   \n",
       "pred_code           0         0         0         0         0         0   \n",
       "pred_label          O         O         O         O         O         O   \n",
       "y_true              O         O         O         O         O         O   \n",
       "class_proba  0.999074  0.999998  0.999329  0.499869  0.999999  0.333333   \n",
       "\n",
       "                   6         7        8         9         10        11  \\\n",
       "token_text        and         a   family    member      were  unharmed   \n",
       "token_id         1998      1037     2155      2266      2020     28150   \n",
       "pred_code           0         0        0         0         0         0   \n",
       "pred_label          O         O        O         O         O         O   \n",
       "y_true              O         O        O         O         O         O   \n",
       "class_proba  0.998384  0.998224  0.99505  0.999293  0.998228  0.999462   \n",
       "\n",
       "                   12        13        14       15        16        17  \\\n",
       "token_text    because      they       got      out        of       the   \n",
       "token_id         2138      2027      2288     2041      1997      1996   \n",
       "pred_code           0         0         0        0         0         0   \n",
       "pred_label          O         O         O        O         O         O   \n",
       "y_true              O         O         O        O         O         O   \n",
       "class_proba  0.998263  0.998102  0.999383  0.99857  0.998542  0.999997   \n",
       "\n",
       "                   18        19        20        21        22        23  \\\n",
       "token_text    vehicle      just    before       the     blast         .   \n",
       "token_id         4316      2074      2077      1996      8479      1012   \n",
       "pred_code           0         0         0         0         0         0   \n",
       "pred_label          O         O         O         O         O         O   \n",
       "y_true              O         O         O         O         O         O   \n",
       "class_proba  0.998332  0.998324  0.499777  0.999562  0.999582  0.999999   \n",
       "\n",
       "                   24  \n",
       "token_text      [SEP]  \n",
       "token_id          102  \n",
       "pred_code           0  \n",
       "pred_label          O  \n",
       "y_true              O  \n",
       "class_proba  0.999997  "
      ]
     },
     "execution_count": 71,
     "metadata": {},
     "output_type": "execute_result"
    }
   ],
   "source": [
    "nb_tokens = single_example['mask'].sum().item()\n",
    "ids = single_example['ids'].squeeze()[:nb_tokens]\n",
    "\n",
    "pd.DataFrame({\n",
    "    'token_text': [EntityDataset.tokenizer.decode([token]) for token in ids],\n",
    "    'token_id': ids,\n",
    "    'pred_code': predictions_classes,\n",
    "    'pred_label': ordinal_enc_NER.inverse_transform(predictions_classes.reshape(-1, 1)).squeeze(),\n",
    "    'y_true': ordinal_enc_NER.inverse_transform(single_example['target_tag'].squeeze()[:nb_tokens].reshape(-1, 1)).squeeze(),\n",
    "    'class_proba': predictions_probas\n",
    "}).T"
   ]
  },
  {
   "cell_type": "code",
   "execution_count": 56,
   "id": "08f8a287",
   "metadata": {
    "ExecuteTime": {
     "end_time": "2022-06-26T08:39:18.915473Z",
     "start_time": "2022-06-26T08:39:18.891398Z"
    },
    "cell_style": "split"
   },
   "outputs": [
    {
     "data": {
      "text/plain": [
       "['Official',\n",
       " 'preliminary',\n",
       " 'results',\n",
       " 'are',\n",
       " 'expected',\n",
       " 'to',\n",
       " 'be',\n",
       " 'released',\n",
       " 'later',\n",
       " 'Thursday',\n",
       " '.']"
      ]
     },
     "execution_count": 56,
     "metadata": {},
     "output_type": "execute_result"
    }
   ],
   "source": [
    "sentences_test[i]"
   ]
  },
  {
   "cell_type": "code",
   "execution_count": 57,
   "id": "1eb5bba7",
   "metadata": {
    "ExecuteTime": {
     "end_time": "2022-06-26T08:39:19.994812Z",
     "start_time": "2022-06-26T08:39:19.969453Z"
    },
    "cell_style": "split"
   },
   "outputs": [
    {
     "data": {
      "text/plain": [
       "[0.0, 0.0, 0.0, 0.0, 0.0, 0.0, 0.0, 0.0, 0.0, 0.0, 0.0]"
      ]
     },
     "execution_count": 57,
     "metadata": {},
     "output_type": "execute_result"
    }
   ],
   "source": [
    "tag_test[i]"
   ]
  },
  {
   "cell_type": "markdown",
   "id": "5f1e168b",
   "metadata": {
    "ExecuteTime": {
     "end_time": "2022-06-06T16:25:07.435286Z",
     "start_time": "2022-06-06T16:25:07.407011Z"
    }
   },
   "source": [
    "On remarque que la base d'entraînement est parfois mal labélisée... cf exemples 415, ou 4222. Sur l'exemple `sentences_test[4222]`, on voit que le modèle arrive même à corriger une erreur de labélisation dans l'échantillon test !"
   ]
  }
 ],
 "metadata": {
  "jupytext": {
   "encoding": "# -*- coding: utf-8 -*-",
   "text_representation": {
    "extension": ".py",
    "format_name": "light",
    "format_version": "1.5",
    "jupytext_version": "1.11.1"
   }
  },
  "kernelspec": {
   "display_name": "parc_v1",
   "language": "python",
   "name": "parc_v1"
  },
  "language_info": {
   "codemirror_mode": {
    "name": "ipython",
    "version": 3
   },
   "file_extension": ".py",
   "mimetype": "text/x-python",
   "name": "python",
   "nbconvert_exporter": "python",
   "pygments_lexer": "ipython3",
   "version": "3.6.8"
  },
  "notify_time": "10",
  "toc": {
   "base_numbering": 1,
   "nav_menu": {},
   "number_sections": true,
   "sideBar": true,
   "skip_h1_title": false,
   "title_cell": "Table of Contents",
   "title_sidebar": "Contents",
   "toc_cell": false,
   "toc_position": {},
   "toc_section_display": true,
   "toc_window_display": false
  }
 },
 "nbformat": 4,
 "nbformat_minor": 5
}
