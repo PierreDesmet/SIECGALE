{
 "cells": [
  {
   "cell_type": "markdown",
   "id": "metric-share",
   "metadata": {},
   "source": [
    "# SIECGALE - accès à la BDD\n",
    "\n",
    "Ce notebook permet d'insérer des articles dans la base de données SQLite, elle-même étant utilisée par le front en streamlit.\n",
    "\n",
    "**Sources :**\n",
    "- https://share.streamlit.io/ines/spacy-streamlit-demo/app.py\n",
    "- https://spacy.io/models/fr\n",
    "- https://sqlite-utils.datasette.io/en/stable/python-api.html#getting-started\n",
    "- https://spacy.io/usage/visualizers\n",
    "\n",
    "**Reste à faire**\n",
    "- sexifier l'interface\n",
    "- optimiser (cache) les fonctions qui n'ont pas besoin de s'actualiser à chaque \"rerun\"\n",
    "- ajouter une fonction de recherche par SIREN ou nom d'entreprise pour en montrer tous les articles"
   ]
  },
  {
   "cell_type": "code",
   "execution_count": 1,
   "id": "oriented-relay",
   "metadata": {
    "ExecuteTime": {
     "end_time": "2022-04-17T10:32:51.503820Z",
     "start_time": "2022-04-17T10:32:51.105389Z"
    }
   },
   "outputs": [],
   "source": [
    "import datetime\n",
    "\n",
    "import pandas as pd\n",
    "import numpy as np\n",
    "from sqlite_utils import Database\n",
    "\n",
    "from script import génère_faux_articles"
   ]
  },
  {
   "cell_type": "code",
   "execution_count": 6,
   "id": "applicable-combining",
   "metadata": {
    "ExecuteTime": {
     "end_time": "2022-04-17T10:33:25.598002Z",
     "start_time": "2022-04-17T10:33:25.583906Z"
    }
   },
   "outputs": [
    {
     "data": {
      "text/plain": [
       "<Table sinistres (date_article, siren, entreprise, statut_entreprise, contenu)>"
      ]
     },
     "execution_count": 6,
     "metadata": {},
     "output_type": "execute_result"
    }
   ],
   "source": [
    "db = Database(\"base_sinistre.db\", recreate=True)\n",
    "schéma = {'date_article': datetime.date, 'siren': str, 'entreprise': str, 'statut_entreprise': str, 'contenu': str}\n",
    "db.create_table('sinistres', columns=schéma, if_not_exists=True)"
   ]
  },
  {
   "cell_type": "code",
   "execution_count": 7,
   "id": "fabulous-communication",
   "metadata": {
    "ExecuteTime": {
     "end_time": "2022-04-17T10:33:26.144309Z",
     "start_time": "2022-04-17T10:33:26.126826Z"
    }
   },
   "outputs": [
    {
     "data": {
      "text/html": [
       "<div>\n",
       "<style scoped>\n",
       "    .dataframe tbody tr th:only-of-type {\n",
       "        vertical-align: middle;\n",
       "    }\n",
       "\n",
       "    .dataframe tbody tr th {\n",
       "        vertical-align: top;\n",
       "    }\n",
       "\n",
       "    .dataframe thead th {\n",
       "        text-align: right;\n",
       "    }\n",
       "</style>\n",
       "<table border=\"1\" class=\"dataframe\">\n",
       "  <thead>\n",
       "    <tr style=\"text-align: right;\">\n",
       "      <th></th>\n",
       "      <th>date_article</th>\n",
       "      <th>entreprise</th>\n",
       "      <th>siren</th>\n",
       "      <th>statut_entreprise</th>\n",
       "      <th>contenu</th>\n",
       "    </tr>\n",
       "  </thead>\n",
       "  <tbody>\n",
       "    <tr>\n",
       "      <th>27</th>\n",
       "      <td>2022-01-08</td>\n",
       "      <td>Valette</td>\n",
       "      <td>301 517 747</td>\n",
       "      <td>Client</td>\n",
       "      <td>Le feu s'est déclaré dans la nuit du samedi 08...</td>\n",
       "    </tr>\n",
       "    <tr>\n",
       "      <th>28</th>\n",
       "      <td>2022-03-13</td>\n",
       "      <td>Duhamel</td>\n",
       "      <td>175 518 677</td>\n",
       "      <td>Entreprise sans interaction avec Generali</td>\n",
       "      <td>Le feu s'est déclaré dans la nuit du dimanche ...</td>\n",
       "    </tr>\n",
       "    <tr>\n",
       "      <th>29</th>\n",
       "      <td>2022-03-15</td>\n",
       "      <td>Leroux</td>\n",
       "      <td>925 975 624</td>\n",
       "      <td>Ancien client</td>\n",
       "      <td>Le feu s'est déclaré dans la nuit du mardi 15 ...</td>\n",
       "    </tr>\n",
       "  </tbody>\n",
       "</table>\n",
       "</div>"
      ],
      "text/plain": [
       "   date_article entreprise        siren  \\\n",
       "27   2022-01-08    Valette  301 517 747   \n",
       "28   2022-03-13    Duhamel  175 518 677   \n",
       "29   2022-03-15     Leroux  925 975 624   \n",
       "\n",
       "                            statut_entreprise  \\\n",
       "27                                     Client   \n",
       "28  Entreprise sans interaction avec Generali   \n",
       "29                              Ancien client   \n",
       "\n",
       "                                              contenu  \n",
       "27  Le feu s'est déclaré dans la nuit du samedi 08...  \n",
       "28  Le feu s'est déclaré dans la nuit du dimanche ...  \n",
       "29  Le feu s'est déclaré dans la nuit du mardi 15 ...  "
      ]
     },
     "execution_count": 7,
     "metadata": {},
     "output_type": "execute_result"
    }
   ],
   "source": [
    "articles = génère_faux_articles(30)\n",
    "pd.DataFrame(articles).tail(3)"
   ]
  },
  {
   "cell_type": "code",
   "execution_count": 8,
   "id": "fatty-portsmouth",
   "metadata": {
    "ExecuteTime": {
     "end_time": "2022-04-17T10:33:26.688709Z",
     "start_time": "2022-04-17T10:33:26.673786Z"
    }
   },
   "outputs": [
    {
     "data": {
      "text/plain": [
       "<Table sinistres (date_article, siren, entreprise, statut_entreprise, contenu)>"
      ]
     },
     "execution_count": 8,
     "metadata": {},
     "output_type": "execute_result"
    }
   ],
   "source": [
    "db['sinistres'].insert_all(articles)"
   ]
  },
  {
   "cell_type": "markdown",
   "id": "integral-adolescent",
   "metadata": {},
   "source": [
    "Requête pour les afficher :"
   ]
  },
  {
   "cell_type": "code",
   "execution_count": 9,
   "id": "ruled-aurora",
   "metadata": {
    "ExecuteTime": {
     "end_time": "2022-04-17T10:33:27.440580Z",
     "start_time": "2022-04-17T10:33:27.428087Z"
    }
   },
   "outputs": [
    {
     "data": {
      "text/html": [
       "<div>\n",
       "<style scoped>\n",
       "    .dataframe tbody tr th:only-of-type {\n",
       "        vertical-align: middle;\n",
       "    }\n",
       "\n",
       "    .dataframe tbody tr th {\n",
       "        vertical-align: top;\n",
       "    }\n",
       "\n",
       "    .dataframe thead th {\n",
       "        text-align: right;\n",
       "    }\n",
       "</style>\n",
       "<table border=\"1\" class=\"dataframe\">\n",
       "  <thead>\n",
       "    <tr style=\"text-align: right;\">\n",
       "      <th></th>\n",
       "      <th>date_article</th>\n",
       "      <th>siren</th>\n",
       "      <th>entreprise</th>\n",
       "      <th>statut_entreprise</th>\n",
       "      <th>contenu</th>\n",
       "    </tr>\n",
       "  </thead>\n",
       "  <tbody>\n",
       "    <tr>\n",
       "      <th>0</th>\n",
       "      <td>2022-04-06</td>\n",
       "      <td>166 264 106</td>\n",
       "      <td>Rocher S.A.R.L.</td>\n",
       "      <td>Client</td>\n",
       "      <td>Le feu s'est déclaré dans la nuit du mercredi ...</td>\n",
       "    </tr>\n",
       "  </tbody>\n",
       "</table>\n",
       "</div>"
      ],
      "text/plain": [
       "  date_article        siren       entreprise statut_entreprise  \\\n",
       "0   2022-04-06  166 264 106  Rocher S.A.R.L.            Client   \n",
       "\n",
       "                                             contenu  \n",
       "0  Le feu s'est déclaré dans la nuit du mercredi ...  "
      ]
     },
     "execution_count": 9,
     "metadata": {},
     "output_type": "execute_result"
    }
   ],
   "source": [
    "début, fin = datetime.date(2022, 4, 1), datetime.date.today()\n",
    "\n",
    "requête = f\"\"\"\n",
    "SELECT *\n",
    "FROM sinistres\n",
    "WHERE date_article > '{début}' AND date_article < '{fin}'\n",
    "\"\"\"\n",
    "\n",
    "df = pd.DataFrame(db.query(requête))\n",
    "df"
   ]
  }
 ],
 "metadata": {
  "kernelspec": {
   "display_name": "pierrou_env",
   "language": "python",
   "name": "pierrou_env"
  },
  "language_info": {
   "codemirror_mode": {
    "name": "ipython",
    "version": 3
   },
   "file_extension": ".py",
   "mimetype": "text/x-python",
   "name": "python",
   "nbconvert_exporter": "python",
   "pygments_lexer": "ipython3",
   "version": "3.8.5"
  }
 },
 "nbformat": 4,
 "nbformat_minor": 5
}
